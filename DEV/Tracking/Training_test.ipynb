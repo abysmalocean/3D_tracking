{
 "cells": [
  {
   "cell_type": "code",
   "execution_count": 1,
   "id": "binary-withdrawal",
   "metadata": {},
   "outputs": [],
   "source": [
    "import time, os, json\n",
    "import numpy as np\n",
    "import matplotlib.pyplot as plt\n",
    "\n",
    "from cs231n.gradient_check import eval_numerical_gradient, eval_numerical_gradient_array\n",
    "\n",
    "%matplotlib inline\n",
    "plt.rcParams['figure.figsize'] = (10.0, 8.0) # set default size of plots\n",
    "plt.rcParams['image.interpolation'] = 'nearest'\n",
    "plt.rcParams['image.cmap'] = 'gray'\n",
    "\n",
    "%load_ext autoreload\n",
    "%autoreload 2\n",
    "\n",
    "import pickle\n",
    "from tqdm import tqdm\n",
    "\n",
    "from EKFNet import EKFNet_layers \n",
    "from EKFNet import EKFNet \n",
    "from EKFNet import EKF_solver\n",
    "from EKFNet import config"
   ]
  },
  {
   "cell_type": "code",
   "execution_count": 11,
   "id": "manual-integral",
   "metadata": {},
   "outputs": [],
   "source": [
    "training_file_name = \"/media/liangxu/ArmyData/nuscenes/Tracking_result/tracking_tmp/training_data_moving\"\n",
    "correcte_measurement_file_name = \"/media/liangxu/ArmyData/nuscenes/Tracking_result/tracking_tmp/training_data_moving_corrected\"\n",
    "GT_data_file_name = \"/media/liangxu/ArmyData/nuscenes/Tracking_result/tracking_tmp/training_data_moving_GT\"\n",
    "\n",
    "training_data = pickle.load(open(correcte_measurement_file_name , 'rb'))\n",
    "GT_data       = pickle.load(open(GT_data_file_name , 'rb'))"
   ]
  },
  {
   "cell_type": "code",
   "execution_count": 12,
   "id": "serial-adelaide",
   "metadata": {},
   "outputs": [
    {
     "name": "stdout",
     "output_type": "stream",
     "text": [
      "Total Length of the data  934\n"
     ]
    }
   ],
   "source": [
    "print(\"Total Length of the data \", len(training_data))"
   ]
  },
  {
   "cell_type": "code",
   "execution_count": 13,
   "id": "comprehensive-potato",
   "metadata": {},
   "outputs": [],
   "source": [
    "training_data    = training_data[0:600]\n",
    "validation_data  = training_data[600:800]\n",
    "test_data        = training_data[800:934]"
   ]
  },
  {
   "cell_type": "code",
   "execution_count": 14,
   "id": "urban-contribution",
   "metadata": {},
   "outputs": [
    {
     "name": "stdout",
     "output_type": "stream",
     "text": [
      "Uncertainty aware with EKF filter\n"
     ]
    },
    {
     "data": {
      "text/plain": [
       "(array([[0., 0., 0., 0., 0.],\n",
       "        [0., 0., 0., 0., 0.],\n",
       "        [0., 0., 0., 0., 0.],\n",
       "        [0., 0., 0., 0., 0.],\n",
       "        [0., 0., 0., 0., 0.]]),\n",
       " array([[0., 0.],\n",
       "        [0., 0.]]),\n",
       " array([[0., 0., 0., 0., 0., 0., 0.],\n",
       "        [0., 0., 0., 0., 0., 0., 0.],\n",
       "        [0., 0., 0., 0., 0., 0., 0.],\n",
       "        [0., 0., 0., 0., 0., 0., 0.],\n",
       "        [0., 0., 0., 0., 0., 0., 0.],\n",
       "        [0., 0., 0., 0., 0., 0., 0.],\n",
       "        [0., 0., 0., 0., 0., 0., 0.]]))"
      ]
     },
     "execution_count": 14,
     "metadata": {},
     "output_type": "execute_result"
    }
   ],
   "source": [
    "EKF_filter = EKFNet.EKFNet()\n",
    "EKF_filter.load_data_set(training_data[3])\n",
    "EKF_filter.run_EKF_NET_forward()\n",
    "# TODO: program the generating the grad\n",
    "EKF_filter.generate_fake_grad()\n",
    "# TODO: working on the backward part\n",
    "EKF_filter.run_backward()\n",
    "\n",
    "#EKF_filter.generate_grad()"
   ]
  },
  {
   "cell_type": "code",
   "execution_count": 18,
   "id": "designed-malta",
   "metadata": {},
   "outputs": [
    {
     "name": "stdout",
     "output_type": "stream",
     "text": [
      "sigma_GPS_x\n",
      "sigma_GPS_y\n",
      "sigma_GPS_h\n",
      "max_acc\n",
      "max_sttering_rate\n",
      "sigma_x\n",
      "sigma_y\n",
      "sigma_h\n",
      "sigma_v\n",
      "sigma_p\n",
      "Building the new EKF solver\n",
      "Begin training, initial setup Finish total training  600\n"
     ]
    }
   ],
   "source": [
    "solver = EKF_solver.EKFSolver(\n",
    "    data        = training_data,\n",
    "    val_data    = validation_data, \n",
    "    test_data   = test_data, \n",
    "    update_rule = config.config[\"update_rule\"],\n",
    "    lr_decay    = config.config[\"lr_decay\"],\n",
    "    batch_size  = config.config[\"batch_size\"],\n",
    "    num_epochs  = config.config[\"num_epochs\"], \n",
    "    print_every = config.config[\"print_every\"], \n",
    "    verbose     = config.config[\"verbose\"],\n",
    "    lr          = config.config[\"lr\"]\n",
    ")\n"
   ]
  }
 ],
 "metadata": {
  "kernelspec": {
   "display_name": "Python 3",
   "language": "python",
   "name": "python3"
  },
  "language_info": {
   "codemirror_mode": {
    "name": "ipython",
    "version": 3
   },
   "file_extension": ".py",
   "mimetype": "text/x-python",
   "name": "python",
   "nbconvert_exporter": "python",
   "pygments_lexer": "ipython3",
   "version": "3.7.9"
  }
 },
 "nbformat": 4,
 "nbformat_minor": 5
}
