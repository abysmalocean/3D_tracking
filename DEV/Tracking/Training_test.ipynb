{
 "cells": [
  {
   "cell_type": "code",
   "execution_count": 5,
   "id": "abroad-visibility",
   "metadata": {},
   "outputs": [
    {
     "name": "stdout",
     "output_type": "stream",
     "text": [
      "The autoreload extension is already loaded. To reload it, use:\n",
      "  %reload_ext autoreload\n"
     ]
    }
   ],
   "source": [
    "import time, os, json\n",
    "import numpy as np\n",
    "import matplotlib.pyplot as plt\n",
    "\n",
    "from cs231n.gradient_check import eval_numerical_gradient, eval_numerical_gradient_array\n",
    "\n",
    "%matplotlib inline\n",
    "plt.rcParams['figure.figsize'] = (10.0, 8.0) # set default size of plots\n",
    "plt.rcParams['image.interpolation'] = 'nearest'\n",
    "plt.rcParams['image.cmap'] = 'gray'\n",
    "\n",
    "%load_ext autoreload\n",
    "%autoreload 2\n",
    "\n",
    "import pickle\n",
    "from tqdm import tqdm\n",
    "\n",
    "from EKFNet import EKFNet_layers \n",
    "from EKFNet import EKFNet \n",
    "from EKFNet import EKF_solver\n",
    "from EKFNet import config"
   ]
  },
  {
   "cell_type": "code",
   "execution_count": 6,
   "id": "southeast-queue",
   "metadata": {},
   "outputs": [],
   "source": [
    "training_file_name = \"/media/liangxu/ArmyData/nuscenes/Tracking_result/tracking_tmp/training_data_moving\"\n",
    "training_data = pickle.load(open(training_file_name , 'rb'))"
   ]
  },
  {
   "cell_type": "code",
   "execution_count": 8,
   "id": "sacred-richards",
   "metadata": {},
   "outputs": [
    {
     "name": "stdout",
     "output_type": "stream",
     "text": [
      "Total Length of the data  934\n"
     ]
    }
   ],
   "source": [
    "print(\"Total Length of the data \", len(training_data))"
   ]
  },
  {
   "cell_type": "code",
   "execution_count": 12,
   "id": "textile-contractor",
   "metadata": {},
   "outputs": [],
   "source": [
    "training_data    = training_data[0:600]\n",
    "validation_data  = training_data[600:800]\n",
    "test_data        = training_data[800:934]"
   ]
  },
  {
   "cell_type": "code",
   "execution_count": 56,
   "id": "careful-corps",
   "metadata": {},
   "outputs": [
    {
     "name": "stdout",
     "output_type": "stream",
     "text": [
      "Uncertainty aware with EKF filter\n",
      "[[0.]\n",
      " [0.]\n",
      " [0.]\n",
      " [0.]\n",
      " [0.]\n",
      " [0.]\n",
      " [0.]]\n",
      "[[ 1.          0.          0.          0.          0.          0.\n",
      "   0.        ]\n",
      " [ 0.          1.          0.          0.          0.          0.\n",
      "   0.        ]\n",
      " [-1.61085403  0.7301047   1.          0.          0.          0.\n",
      "   0.        ]\n",
      " [-0.20145039 -0.44446663 -0.03322212  1.          0.          0.\n",
      "   0.        ]\n",
      " [-0.16558202 -0.36532906  0.53090435  0.          1.          0.\n",
      "   0.        ]\n",
      " [ 0.          0.          0.          0.          0.          1.\n",
      "   0.        ]\n",
      " [ 0.          0.         -0.02530067  0.          0.          0.\n",
      "   1.        ]]\n"
     ]
    },
    {
     "ename": "ValueError",
     "evalue": "operands could not be broadcast together with shapes (5,1) (7,1) (5,1) ",
     "output_type": "error",
     "traceback": [
      "\u001b[0;31m---------------------------------------------------------------------------\u001b[0m",
      "\u001b[0;31mValueError\u001b[0m                                Traceback (most recent call last)",
      "\u001b[0;32m<ipython-input-56-2793f1e053bb>\u001b[0m in \u001b[0;36m<module>\u001b[0;34m\u001b[0m\n\u001b[1;32m      5\u001b[0m \u001b[0mEKF_filter\u001b[0m\u001b[0;34m.\u001b[0m\u001b[0mgenerate_fake_grad\u001b[0m\u001b[0;34m(\u001b[0m\u001b[0;34m)\u001b[0m\u001b[0;34m\u001b[0m\u001b[0;34m\u001b[0m\u001b[0m\n\u001b[1;32m      6\u001b[0m \u001b[0;31m# TODO: working on the backward part\u001b[0m\u001b[0;34m\u001b[0m\u001b[0;34m\u001b[0m\u001b[0;34m\u001b[0m\u001b[0m\n\u001b[0;32m----> 7\u001b[0;31m \u001b[0mEKF_filter\u001b[0m\u001b[0;34m.\u001b[0m\u001b[0mrun_backward\u001b[0m\u001b[0;34m(\u001b[0m\u001b[0;34m)\u001b[0m\u001b[0;34m\u001b[0m\u001b[0;34m\u001b[0m\u001b[0m\n\u001b[0m",
      "\u001b[0;32m~/gt/3D_tracking/DEV/Tracking/EKFNet/EKFNet.py\u001b[0m in \u001b[0;36mrun_backward\u001b[0;34m(self)\u001b[0m\n\u001b[1;32m    477\u001b[0m                 prediction_backward(dx_pred_u + dx_pred_m, \n\u001b[1;32m    478\u001b[0m                                     \u001b[0mdp_pred_u\u001b[0m \u001b[0;34m+\u001b[0m \u001b[0mdp_pred_m\u001b[0m\u001b[0;34m,\u001b[0m\u001b[0;34m\u001b[0m\u001b[0;34m\u001b[0m\u001b[0m\n\u001b[0;32m--> 479\u001b[0;31m                                     predict_cache)\n\u001b[0m\u001b[1;32m    480\u001b[0m \u001b[0;34m\u001b[0m\u001b[0m\n\u001b[1;32m    481\u001b[0m             \u001b[0mdQ_acc\u001b[0m   \u001b[0;34m+=\u001b[0m \u001b[0mdQ_acc_\u001b[0m\u001b[0;34m\u001b[0m\u001b[0;34m\u001b[0m\u001b[0m\n",
      "\u001b[0;32m~/gt/3D_tracking/DEV/Tracking/EKFNet/EKFNet.py\u001b[0m in \u001b[0;36mprediction_backward\u001b[0;34m(self, dx_pred, dp_pred, cache)\u001b[0m\n\u001b[1;32m    714\u001b[0m         \u001b[0;31m## From Eq1\u001b[0m\u001b[0;34m\u001b[0m\u001b[0;34m\u001b[0m\u001b[0;34m\u001b[0m\u001b[0m\n\u001b[1;32m    715\u001b[0m         \u001b[0mprint\u001b[0m\u001b[0;34m(\u001b[0m\u001b[0mF\u001b[0m\u001b[0;34m.\u001b[0m\u001b[0mT\u001b[0m\u001b[0;34m)\u001b[0m\u001b[0;34m\u001b[0m\u001b[0;34m\u001b[0m\u001b[0m\n\u001b[0;32m--> 716\u001b[0;31m         \u001b[0mdx_post\u001b[0m \u001b[0;34m+=\u001b[0m \u001b[0mnp\u001b[0m\u001b[0;34m.\u001b[0m\u001b[0mdot\u001b[0m\u001b[0;34m(\u001b[0m\u001b[0mF\u001b[0m\u001b[0;34m.\u001b[0m\u001b[0mT\u001b[0m \u001b[0;34m,\u001b[0m\u001b[0mdx_pred\u001b[0m\u001b[0;34m)\u001b[0m\u001b[0;34m\u001b[0m\u001b[0;34m\u001b[0m\u001b[0m\n\u001b[0m\u001b[1;32m    717\u001b[0m \u001b[0;34m\u001b[0m\u001b[0m\n\u001b[1;32m    718\u001b[0m \u001b[0;34m\u001b[0m\u001b[0m\n",
      "\u001b[0;31mValueError\u001b[0m: operands could not be broadcast together with shapes (5,1) (7,1) (5,1) "
     ]
    }
   ],
   "source": [
    "EKF_filter = EKFNet.EKFNet()\n",
    "EKF_filter.load_data_set(training_data[3])\n",
    "EKF_filter.run_EKF_NET_forward()\n",
    "# TODO: program the generating the grad\n",
    "EKF_filter.generate_fake_grad()\n",
    "# TODO: working on the backward part\n",
    "EKF_filter.run_backward()"
   ]
  },
  {
   "cell_type": "code",
   "execution_count": 18,
   "id": "photographic-waters",
   "metadata": {},
   "outputs": [
    {
     "name": "stdout",
     "output_type": "stream",
     "text": [
      "sigma_GPS_x\n",
      "sigma_GPS_y\n",
      "sigma_GPS_h\n",
      "max_acc\n",
      "max_sttering_rate\n",
      "sigma_x\n",
      "sigma_y\n",
      "sigma_h\n",
      "sigma_v\n",
      "sigma_p\n",
      "Building the new EKF solver\n",
      "Begin training, initial setup Finish total training  600\n"
     ]
    }
   ],
   "source": [
    "solver = EKF_solver.EKFSolver(\n",
    "    data        = training_data,\n",
    "    val_data    = validation_data, \n",
    "    test_data   = test_data, \n",
    "    update_rule = config.config[\"update_rule\"],\n",
    "    lr_decay    = config.config[\"lr_decay\"],\n",
    "    batch_size  = config.config[\"batch_size\"],\n",
    "    num_epochs  = config.config[\"num_epochs\"], \n",
    "    print_every = config.config[\"print_every\"], \n",
    "    verbose     = config.config[\"verbose\"],\n",
    "    lr          = config.config[\"lr\"]\n",
    ")\n"
   ]
  }
 ],
 "metadata": {
  "kernelspec": {
   "display_name": "Python 3",
   "language": "python",
   "name": "python3"
  },
  "language_info": {
   "codemirror_mode": {
    "name": "ipython",
    "version": 3
   },
   "file_extension": ".py",
   "mimetype": "text/x-python",
   "name": "python",
   "nbconvert_exporter": "python",
   "pygments_lexer": "ipython3",
   "version": "3.7.9"
  }
 },
 "nbformat": 4,
 "nbformat_minor": 5
}
