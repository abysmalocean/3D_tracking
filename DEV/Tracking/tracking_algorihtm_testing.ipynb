{
 "cells": [
  {
   "cell_type": "code",
   "execution_count": 1,
   "id": "democratic-myanmar",
   "metadata": {},
   "outputs": [],
   "source": [
    "from __future__ import print_function\n",
    "import os.path, copy, numpy as np, time, sys\n",
    "from numba import jit\n",
    "import argparse\n",
    "#from sklearn.utils.linear_assignment_ import linear_assignment\n",
    "from scipy.optimize import linear_sum_assignment as linear_assignment\n",
    "from filterpy.kalman import KalmanFilter\n",
    "from scipy.spatial import ConvexHull\n",
    "import json\n",
    "# load the nuscense library\n",
    "from nuscenes import NuScenes\n",
    "from nuscenes.eval.common.data_classes import EvalBoxes\n",
    "from nuscenes.eval.tracking.data_classes import TrackingBox \n",
    "from nuscenes.eval.detection.data_classes import DetectionBox\n",
    "from pyquaternion import Quaternion\n",
    "from tqdm import tqdm\n",
    "import pickle\n",
    "\n",
    "# some common paths\n",
    "from utils.dict import *\n",
    "%load_ext autoreload\n",
    "%autoreload 2"
   ]
  },
  {
   "cell_type": "code",
   "execution_count": 8,
   "id": "protected-lending",
   "metadata": {},
   "outputs": [],
   "source": [
    "class config():\n",
    "    data_split = 'train'\n",
    "    saved_root = 'results/lastrun'\n",
    "args = config()"
   ]
  },
  {
   "cell_type": "code",
   "execution_count": 9,
   "id": "infinite-canada",
   "metadata": {},
   "outputs": [
    {
     "name": "stdout",
     "output_type": "stream",
     "text": [
      "meta:  {'use_camera': False, 'use_lidar': True, 'use_radar': False, 'use_map': False, 'use_external': False}\n",
      "Loaded results from /home/liangxu/gt/3D_tracking/3party/CenterPoint/work_dirs/nusc_centerpoint_voxelnet_dcn_0075voxel_flip_trainSet_new/infos_train_10sweeps_withvelo_filter_True.json. Found detections for 28130 samples.\n"
     ]
    }
   ],
   "source": [
    "\n",
    "if args.data_split == 'train': \n",
    "    detection_file = center_point_detection_train\n",
    "    output_path = os.path.join(args.saved_root, 'results_train_probabilistic_tracking.json')\n",
    "    nusc_file   = nusc_train_val_pickle_file\n",
    "elif args.data_split == 'val':\n",
    "    detection_file = center_point_detection_val\n",
    "    output_path = os.path.join(args.saved_root, 'results_val_probabilistic_tracking.json')\n",
    "    nusc_file   = nusc_train_val_pickle_file\n",
    "elif args.data_split == 'test':\n",
    "    detection_file = center_point_detection_test\n",
    "    output_path = os.path.join(args.saved_root, 'results_test_probabilistic_tracking.json')\n",
    "    nusc_file   = nusc_test_pickle_file\n",
    "    \n",
    "# load the nuscenes file\n",
    "nusc = pickle.load(open(nusc_file , 'rb'))\n",
    "# load the detection data\n",
    "with open(detection_file) as f:\n",
    "    data = json.load(f)\n",
    "all_results = EvalBoxes.deserialize(data['results'], DetectionBox)\n",
    "meta = data['meta']\n",
    "print('meta: ', meta)\n",
    "print(\"Loaded results from {}. Found detections for {} samples.\"\n",
    "        .format(detection_file, len(all_results.sample_tokens)))"
   ]
  },
  {
   "cell_type": "code",
   "execution_count": 36,
   "id": "exceptional-nickname",
   "metadata": {},
   "outputs": [],
   "source": [
    "from main import run_tracking"
   ]
  },
  {
   "cell_type": "code",
   "execution_count": null,
   "id": "impressed-bradley",
   "metadata": {},
   "outputs": [
    {
     "name": "stderr",
     "output_type": "stream",
     "text": [
      "\r",
      "  0%|          | 0/28130 [00:00<?, ?it/s]"
     ]
    },
    {
     "name": "stdout",
     "output_type": "stream",
     "text": [
      "Liang Xu in the tracking algorithm\n"
     ]
    },
    {
     "name": "stderr",
     "output_type": "stream",
     "text": [
      "  9%|▉         | 2622/28130 [02:08<21:59, 19.32it/s]"
     ]
    }
   ],
   "source": [
    "run_tracking(args, nusc, all_results)"
   ]
  },
  {
   "cell_type": "code",
   "execution_count": null,
   "id": "environmental-times",
   "metadata": {},
   "outputs": [],
   "source": []
  }
 ],
 "metadata": {
  "kernelspec": {
   "display_name": "Python 3",
   "language": "python",
   "name": "python3"
  },
  "language_info": {
   "codemirror_mode": {
    "name": "ipython",
    "version": 3
   },
   "file_extension": ".py",
   "mimetype": "text/x-python",
   "name": "python",
   "nbconvert_exporter": "python",
   "pygments_lexer": "ipython3",
   "version": "3.7.9"
  }
 },
 "nbformat": 4,
 "nbformat_minor": 5
}
