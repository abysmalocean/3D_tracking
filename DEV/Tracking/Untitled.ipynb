{
 "cells": [
  {
   "cell_type": "code",
   "execution_count": 1,
   "id": "imposed-colonial",
   "metadata": {},
   "outputs": [],
   "source": [
    "import os\n",
    "import sys\n",
    "!export PYTHONPATH=\"${PYTHONPATH}:~/gt/3D_tracking/DEV/Tracking/nuscenes\"\n",
    "import numpy as np\n",
    "\n",
    "from sklearn.utils.linear_assignment_ import linear_assignment\n",
    "\n",
    "from nuscenes import NuScenes\n",
    "from nuscenes.eval.common.config import config_factory\n",
    "from nuscenes.eval.tracking.evaluate import TrackingEval\n",
    "from nuscenes.eval.detection.data_classes import DetectionConfig\n",
    "from nuscenes.eval.detection.data_classes import DetectionBox\n",
    "from nuscenes.eval.tracking.data_classes import TrackingBox\n",
    "from nuscenes.eval.common.loaders import load_prediction, load_gt, filter_eval_boxes\n",
    "from nuscenes.eval.tracking.loaders import create_tracks\n",
    "from pyquaternion import Quaternion\n",
    "#from main import iou3d, convert_3dbox_to_8corner\n",
    "import argparse\n",
    "import pickle \n",
    "from utils.dict import *\n",
    "from utils.stats import add_center_dist\n",
    "%load_ext autoreload\n",
    "%autoreload 2\n",
    "\n",
    "import matplotlib.pyplot as plt\n"
   ]
  },
  {
   "cell_type": "code",
   "execution_count": 2,
   "id": "dependent-medium",
   "metadata": {},
   "outputs": [],
   "source": [
    "training_file_name = \"/media/liangxu/ArmyData/nuscenes/Tracking_result/tracking_tmp/training_data\"\n",
    "training_data = pickle.load(open(training_file_name , 'rb'))"
   ]
  }
 ],
 "metadata": {
  "kernelspec": {
   "display_name": "Python 3",
   "language": "python",
   "name": "python3"
  },
  "language_info": {
   "codemirror_mode": {
    "name": "ipython",
    "version": 3
   },
   "file_extension": ".py",
   "mimetype": "text/x-python",
   "name": "python",
   "nbconvert_exporter": "python",
   "pygments_lexer": "ipython3",
   "version": "3.7.9"
  }
 },
 "nbformat": 4,
 "nbformat_minor": 5
}
