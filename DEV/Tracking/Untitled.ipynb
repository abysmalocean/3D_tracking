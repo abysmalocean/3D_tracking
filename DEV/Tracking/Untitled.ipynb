{
 "cells": [
  {
   "cell_type": "code",
   "execution_count": 2,
   "id": "proprietary-samuel",
   "metadata": {},
   "outputs": [
    {
     "name": "stdout",
     "output_type": "stream",
     "text": [
      "The autoreload extension is already loaded. To reload it, use:\n",
      "  %reload_ext autoreload\n"
     ]
    }
   ],
   "source": [
    "import os\n",
    "import sys\n",
    "!export PYTHONPATH=\"${PYTHONPATH}:~/gt/3D_tracking/DEV/Tracking/nuscenes\"\n",
    "import numpy as np\n",
    "\n",
    "from sklearn.utils.linear_assignment_ import linear_assignment\n",
    "\n",
    "from nuscenes import NuScenes\n",
    "from nuscenes.eval.common.config import config_factory\n",
    "from nuscenes.eval.tracking.evaluate import TrackingEval\n",
    "from nuscenes.eval.detection.data_classes import DetectionConfig\n",
    "from nuscenes.eval.detection.data_classes import DetectionBox\n",
    "from nuscenes.eval.tracking.data_classes import TrackingBox\n",
    "from nuscenes.eval.common.loaders import load_prediction, load_gt, filter_eval_boxes\n",
    "from nuscenes.eval.tracking.loaders import create_tracks\n",
    "from pyquaternion import Quaternion\n",
    "#from main import iou3d, convert_3dbox_to_8corner\n",
    "import argparse\n",
    "import pickle \n",
    "from utils.dict import *\n",
    "from utils.stats import add_center_dist\n",
    "%load_ext autoreload\n",
    "%autoreload 2"
   ]
  },
  {
   "cell_type": "code",
   "execution_count": 3,
   "id": "double-basement",
   "metadata": {},
   "outputs": [],
   "source": [
    "detection_file = os.path.join(detection_path , 'megvii_train.json')\n",
    "data_root      = os.path.join(nuscense_path , 'trainval')\n",
    "gt_boxes_file_name = \"/media/liangxu/ArmyData/nuscenes/Tracking_result/tracking_tmp/gt_boxes\"\n",
    "prediction_file_name = \"/media/liangxu/ArmyData/nuscenes/Tracking_result/tracking_tmp/pred_boxes\"\n",
    "nusc_file_name = \"/media/liangxu/ArmyData/nuscenes/Tracking_result/tracking_tmp/nusc.pkl\""
   ]
  },
  {
   "cell_type": "code",
   "execution_count": 4,
   "id": "undefined-correlation",
   "metadata": {},
   "outputs": [],
   "source": [
    "# Load the detection and ground truth result\n",
    "nusc = pickle.load(open(nusc_file_name , 'rb'))\n",
    "pred_boxes = pickle.load(open(prediction_file_name , 'rb'))\n",
    "gt_boxes   = pickle.load(open(gt_boxes_file_name , 'rb'))"
   ]
  },
  {
   "cell_type": "code",
   "execution_count": 5,
   "id": "paperback-hydrogen",
   "metadata": {},
   "outputs": [
    {
     "data": {
      "text/plain": [
       "\"\\nversion='v1.0-trainval'\\nnusc = NuScenes(version=version, dataroot=data_root, verbose=True)\\nwith open(nusc_file_name, 'wb') as f:\\n    pickle.dump(nusc, f)\\n\\npred_boxes, _ = load_prediction(detection_file, 10000, DetectionBox)\\ngt_boxes = load_gt(nusc, 'train', TrackingBox, verbose = True)\\nwith open(prediction_file_name, 'wb') as f:\\n    pickle.dump(pred_boxes, f)\\nwith open(gt_boxes_file_name, 'wb') as f:\\n    pickle.dump(gt_boxes, f)\\n\""
      ]
     },
     "execution_count": 5,
     "metadata": {},
     "output_type": "execute_result"
    }
   ],
   "source": [
    "# load the predictions and the gt boxes\n",
    "\"\"\"\n",
    "version='v1.0-trainval'\n",
    "nusc = NuScenes(version=version, dataroot=data_root, verbose=True)\n",
    "with open(nusc_file_name, 'wb') as f:\n",
    "    pickle.dump(nusc, f)\n",
    "\n",
    "pred_boxes, _ = load_prediction(detection_file, 10000, DetectionBox)\n",
    "gt_boxes = load_gt(nusc, 'train', TrackingBox, verbose = True)\n",
    "with open(prediction_file_name, 'wb') as f:\n",
    "    pickle.dump(pred_boxes, f)\n",
    "with open(gt_boxes_file_name, 'wb') as f:\n",
    "    pickle.dump(gt_boxes, f)\n",
    "\"\"\""
   ]
  },
  {
   "cell_type": "code",
   "execution_count": 5,
   "id": "secondary-burden",
   "metadata": {},
   "outputs": [],
   "source": [
    "assert set(pred_boxes.sample_tokens) == set(gt_boxes.sample_tokens), \\\n",
    "            \"Samples in split don't match samples in predicted tracks.\""
   ]
  },
  {
   "cell_type": "code",
   "execution_count": 6,
   "id": "outstanding-smooth",
   "metadata": {},
   "outputs": [
    {
     "name": "stdout",
     "output_type": "stream",
     "text": [
      "len(pred_boxes.sample_tokens):  28130\n",
      "len(gt_boxes.sample_tokens):  28130\n"
     ]
    }
   ],
   "source": [
    " # Add center distances.\n",
    "pred_boxes = add_center_dist(nusc, pred_boxes)\n",
    "gt_boxes   = add_center_dist(nusc, gt_boxes)\n",
    "print('len(pred_boxes.sample_tokens): ', len(pred_boxes.sample_tokens))\n",
    "print('len(gt_boxes.sample_tokens): ', len(gt_boxes.sample_tokens))"
   ]
  },
  {
   "cell_type": "code",
   "execution_count": 7,
   "id": "helpful-variety",
   "metadata": {},
   "outputs": [
    {
     "name": "stdout",
     "output_type": "stream",
     "text": [
      "Liang XU\n"
     ]
    }
   ],
   "source": [
    "tracks_gt = create_tracks(gt_boxes, nusc, 'train', gt=True)"
   ]
  },
  {
   "cell_type": "code",
   "execution_count": 7,
   "id": "fabulous-japan",
   "metadata": {},
   "outputs": [],
   "source": [
    "from utils.stats import *\n"
   ]
  },
  {
   "cell_type": "code",
   "execution_count": 9,
   "id": "third-capture",
   "metadata": {},
   "outputs": [
    {
     "ename": "NameError",
     "evalue": "name 'tracks_gt' is not defined",
     "output_type": "error",
     "traceback": [
      "\u001b[0;31m---------------------------------------------------------------------------\u001b[0m",
      "\u001b[0;31mNameError\u001b[0m                                 Traceback (most recent call last)",
      "\u001b[0;32m<ipython-input-9-cc3a5312e4a8>\u001b[0m in \u001b[0;36m<module>\u001b[0;34m\u001b[0m\n\u001b[0;32m----> 1\u001b[0;31m \u001b[0mget_mean\u001b[0m\u001b[0;34m(\u001b[0m\u001b[0mtracks_gt\u001b[0m\u001b[0;34m)\u001b[0m\u001b[0;34m\u001b[0m\u001b[0;34m\u001b[0m\u001b[0m\n\u001b[0m",
      "\u001b[0;31mNameError\u001b[0m: name 'tracks_gt' is not defined"
     ]
    }
   ],
   "source": [
    "get_mean(tracks_gt)"
   ]
  },
  {
   "cell_type": "code",
   "execution_count": 8,
   "id": "placed-mount",
   "metadata": {},
   "outputs": [
    {
     "ename": "NameError",
     "evalue": "name 'pred_boxes' is not defined",
     "output_type": "error",
     "traceback": [
      "\u001b[0;31m---------------------------------------------------------------------------\u001b[0m",
      "\u001b[0;31mNameError\u001b[0m                                 Traceback (most recent call last)",
      "\u001b[0;32m<ipython-input-8-aaef77ba1d8a>\u001b[0m in \u001b[0;36m<module>\u001b[0;34m\u001b[0m\n\u001b[0;32m----> 1\u001b[0;31m \u001b[0mmatching_and_get_diff_stats\u001b[0m\u001b[0;34m(\u001b[0m\u001b[0mpred_boxes\u001b[0m\u001b[0;34m,\u001b[0m \u001b[0mgt_boxes\u001b[0m\u001b[0;34m,\u001b[0m \u001b[0mtracks_gt\u001b[0m\u001b[0;34m,\u001b[0m \u001b[0;34m'2d_center'\u001b[0m\u001b[0;34m)\u001b[0m\u001b[0;34m\u001b[0m\u001b[0;34m\u001b[0m\u001b[0m\n\u001b[0m",
      "\u001b[0;31mNameError\u001b[0m: name 'pred_boxes' is not defined"
     ]
    }
   ],
   "source": [
    "matching_and_get_diff_stats(pred_boxes, gt_boxes, tracks_gt, '2d_center')"
   ]
  }
 ],
 "metadata": {
  "kernelspec": {
   "display_name": "Python 3",
   "language": "python",
   "name": "python3"
  },
  "language_info": {
   "codemirror_mode": {
    "name": "ipython",
    "version": 3
   },
   "file_extension": ".py",
   "mimetype": "text/x-python",
   "name": "python",
   "nbconvert_exporter": "python",
   "pygments_lexer": "ipython3",
   "version": "3.7.9"
  }
 },
 "nbformat": 4,
 "nbformat_minor": 5
}
