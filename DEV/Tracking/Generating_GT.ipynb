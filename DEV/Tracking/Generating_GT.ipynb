{
 "cells": [
  {
   "cell_type": "code",
   "execution_count": 1,
   "id": "marked-crossing",
   "metadata": {},
   "outputs": [],
   "source": [
    "import os\n",
    "import sys\n",
    "!export PYTHONPATH=\"${PYTHONPATH}:~/gt/3D_tracking/DEV/Tracking/nuscenes\"\n",
    "import numpy as np\n",
    "\n",
    "from sklearn.utils.linear_assignment_ import linear_assignment\n",
    "\n",
    "from nuscenes import NuScenes\n",
    "from nuscenes.eval.common.config import config_factory\n",
    "from nuscenes.eval.tracking.evaluate import TrackingEval\n",
    "from nuscenes.eval.detection.data_classes import DetectionConfig\n",
    "from nuscenes.eval.detection.data_classes import DetectionBox\n",
    "from nuscenes.eval.tracking.data_classes import TrackingBox\n",
    "from nuscenes.eval.common.loaders import load_prediction, load_gt, filter_eval_boxes\n",
    "from nuscenes.eval.tracking.loaders import create_tracks\n",
    "from pyquaternion import Quaternion\n",
    "#from main import iou3d, convert_3dbox_to_8corner\n",
    "import argparse\n",
    "import pickle \n",
    "from utils.dict import *\n",
    "from utils.stats import add_center_dist\n",
    "%load_ext autoreload\n",
    "%autoreload 2\n",
    "\n",
    "import matplotlib.pyplot as plt"
   ]
  },
  {
   "cell_type": "code",
   "execution_count": 2,
   "id": "broad-maria",
   "metadata": {},
   "outputs": [],
   "source": [
    "training_file_name = \"/media/liangxu/ArmyData/nuscenes/Tracking_result/tracking_tmp/training_data_moving\"\n",
    "training_data = pickle.load(open(training_file_name , 'rb'))\n"
   ]
  },
  {
   "cell_type": "markdown",
   "id": "fitted-bishop",
   "metadata": {},
   "source": [
    "## Generated Corrected Measurements"
   ]
  },
  {
   "cell_type": "code",
   "execution_count": 40,
   "id": "bright-package",
   "metadata": {},
   "outputs": [],
   "source": [
    "from tqdm import tqdm"
   ]
  },
  {
   "cell_type": "code",
   "execution_count": 3,
   "id": "young-welding",
   "metadata": {},
   "outputs": [
    {
     "name": "stdout",
     "output_type": "stream",
     "text": [
      "Length of the training data  934\n"
     ]
    }
   ],
   "source": [
    "print(\"Length of the training data \", len(training_data))"
   ]
  },
  {
   "cell_type": "code",
   "execution_count": 11,
   "id": "finnish-locator",
   "metadata": {},
   "outputs": [
    {
     "name": "stdout",
     "output_type": "stream",
     "text": [
      "dict_keys(['sample_annotation', 'sample', 'sample_data_lidar', 'ego_pose', 'detection'])\n"
     ]
    }
   ],
   "source": [
    "print((training_data[0][0]).keys())"
   ]
  },
  {
   "cell_type": "code",
   "execution_count": 16,
   "id": "fundamental-testing",
   "metadata": {},
   "outputs": [
    {
     "name": "stdout",
     "output_type": "stream",
     "text": [
      "dict_keys(['token', 'sample_token', 'instance_token', 'visibility_token', 'attribute_tokens', 'translation', 'size', 'rotation', 'prev', 'next', 'num_lidar_pts', 'num_radar_pts', 'category_name'])\n",
      "[358.212, 1081.729, 0.756]\n",
      "[0.8342998112464631, 0.0, 0.0, 0.5513110056529944]\n"
     ]
    }
   ],
   "source": [
    "print(training_data[0][0]['sample_annotation'].keys())\n",
    "print(training_data[0][0]['sample_annotation']['translation'])\n",
    "print(training_data[0][0]['sample_annotation']['rotation'])"
   ]
  },
  {
   "cell_type": "code",
   "execution_count": 83,
   "id": "valid-truck",
   "metadata": {
    "scrolled": false
   },
   "outputs": [
    {
     "name": "stderr",
     "output_type": "stream",
     "text": [
      "100%|██████████| 934/934 [00:29<00:00, 31.34it/s]\n"
     ]
    }
   ],
   "source": [
    "from EKF.generate_GT import *\n",
    "corrected_data = []\n",
    "GT_data        = []\n",
    "\n",
    "for index in tqdm(range(len(training_data))):\n",
    "    #print(\"Current track \", index)\n",
    "    EKF_GT_obj =  EKF_GT()\n",
    "    corrected_data.append(EKF_GT_obj.correct_heading(training_data[index]))\n",
    "    EKF_GT_obj.run_ekf()\n",
    "    GT_data.append(EKF_GT_obj.KalmanFilter.afterSmooth.x)\n",
    "    #EKF_GT_obj.plot_result()\n",
    "    "
   ]
  },
  {
   "cell_type": "markdown",
   "id": "athletic-flavor",
   "metadata": {},
   "source": [
    "## Save the GT data"
   ]
  },
  {
   "cell_type": "code",
   "execution_count": 84,
   "id": "congressional-horror",
   "metadata": {},
   "outputs": [],
   "source": [
    "correcte_measurement_file_name = \"/media/liangxu/ArmyData/nuscenes/Tracking_result/tracking_tmp/training_data_moving_corrected\"\n",
    "GT_data_file_name = \"/media/liangxu/ArmyData/nuscenes/Tracking_result/tracking_tmp/training_data_moving_GT\""
   ]
  },
  {
   "cell_type": "code",
   "execution_count": 85,
   "id": "fitting-refund",
   "metadata": {},
   "outputs": [],
   "source": [
    "with open(correcte_measurement_file_name, 'wb') as f:\n",
    "    pickle.dump(corrected_data, f)\n",
    "with open(GT_data_file_name, 'wb') as f:\n",
    "    pickle.dump(GT_data, f)"
   ]
  }
 ],
 "metadata": {
  "kernelspec": {
   "display_name": "Python 3",
   "language": "python",
   "name": "python3"
  },
  "language_info": {
   "codemirror_mode": {
    "name": "ipython",
    "version": 3
   },
   "file_extension": ".py",
   "mimetype": "text/x-python",
   "name": "python",
   "nbconvert_exporter": "python",
   "pygments_lexer": "ipython3",
   "version": "3.7.9"
  }
 },
 "nbformat": 4,
 "nbformat_minor": 5
}
