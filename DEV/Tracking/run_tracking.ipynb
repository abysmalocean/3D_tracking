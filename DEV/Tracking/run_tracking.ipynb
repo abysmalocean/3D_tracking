{
 "cells": [
  {
   "cell_type": "code",
   "execution_count": 2,
   "id": "prostate-student",
   "metadata": {},
   "outputs": [],
   "source": [
    "from __future__ import print_function\n",
    "import os.path, copy, numpy as np, time, sys\n",
    "from numba import jit\n",
    "#from sklearn.utils.linear_assignment_ import linear_assignment\n",
    "from scipy.optimize import linear_sum_assignment as linear_assignment\n",
    "from filterpy.kalman import KalmanFilter\n",
    "from scipy.spatial import ConvexHull\n",
    "import json\n",
    "# load the nuscense library\n",
    "from nuscenes import NuScenes\n",
    "from nuscenes.eval.common.data_classes import EvalBoxes\n",
    "from nuscenes.eval.tracking.data_classes import TrackingBox \n",
    "from nuscenes.eval.detection.data_classes import DetectionBox\n",
    "from pyquaternion import Quaternion\n",
    "from tqdm import tqdm\n",
    "\n",
    "# load the self libaray \n",
    "from utils.dict import *\n",
    "from utils.utils import mkdir_if_missing\n",
    "from utils.utils import format_sample_result\n",
    "from utils.association import associate_detections_to_trackers\n",
    "from AB3DMOT import AB3DMOT\n",
    "%load_ext autoreload\n",
    "%autoreload 2"
   ]
  },
  {
   "cell_type": "code",
   "execution_count": 22,
   "id": "thrown-fourth",
   "metadata": {},
   "outputs": [],
   "source": [
    "# python main.py test 0 iou 0.1 h false nuscenes results/000001; \n",
    "data_split = 'test'\n",
    "covariance_id = 0\n",
    "match_distance = 'iou'\n",
    "match_threshold = 0.1\n",
    "match_algorithm = 'h'\n",
    "use_angular_velocity = False\n",
    "dataset = 'nuscenes'\n",
    "save_root = os.path.join('' + 'results/000001')"
   ]
  },
  {
   "cell_type": "code",
   "execution_count": 23,
   "id": "signal-sucking",
   "metadata": {},
   "outputs": [
    {
     "name": "stdout",
     "output_type": "stream",
     "text": [
      "results/000001/test\n",
      "======\n",
      "Loading NuScenes tables for version v1.0-test...\n",
      "23 category,\n",
      "8 attribute,\n",
      "4 visibility,\n",
      "0 instance,\n",
      "12 sensor,\n",
      "1800 calibrated_sensor,\n",
      "462901 ego_pose,\n",
      "15 log,\n",
      "150 scene,\n",
      "6008 sample,\n",
      "462901 sample_data,\n",
      "0 sample_annotation,\n",
      "4 map,\n",
      "Done loading in 8.050 seconds.\n",
      "======\n",
      "Reverse indexing ...\n",
      "Done reverse indexing in 1.9 seconds.\n",
      "======\n"
     ]
    }
   ],
   "source": [
    "save_dir = os.path.join(save_root, data_split)\n",
    "print(save_dir)\n",
    "mkdir_if_missing(save_dir)\n",
    "detection_file = os.path.join(detection_path , 'megvii_test.json')\n",
    "data_root      = os.path.join(nuscense_path , 'test')\n",
    "version='v1.0-test'\n",
    "output_path = os.path.join(save_dir, 'results_test_probabilistic_tracking.json')\n",
    "\n",
    "nusc = NuScenes(version=version, dataroot=data_root, verbose=True)\n",
    "result = {}\n",
    "total_time = 0.0\n",
    "total_frames = 0"
   ]
  },
  {
   "cell_type": "code",
   "execution_count": 5,
   "id": "related-dragon",
   "metadata": {},
   "outputs": [],
   "source": [
    "with open(detection_file) as f: \n",
    "        data = json.load(f)"
   ]
  },
  {
   "cell_type": "code",
   "execution_count": 6,
   "id": "reported-viking",
   "metadata": {},
   "outputs": [
    {
     "name": "stderr",
     "output_type": "stream",
     "text": [
      "IOPub data rate exceeded.\n",
      "The notebook server will temporarily stop sending output\n",
      "to the client in order to avoid crashing it.\n",
      "To change this limit, set the config variable\n",
      "`--NotebookApp.iopub_data_rate_limit`.\n",
      "\n",
      "Current values:\n",
      "NotebookApp.iopub_data_rate_limit=1000000.0 (bytes/sec)\n",
      "NotebookApp.rate_limit_window=3.0 (secs)\n",
      "\n"
     ]
    }
   ],
   "source": [
    "assert 'results' in data, 'Error: No field `results` in result file. Please note that the result format changed.' \\\n",
    "    'See https://www.nuscenes.org/object-detection for more information.'"
   ]
  },
  {
   "cell_type": "code",
   "execution_count": 7,
   "id": "classical-dylan",
   "metadata": {},
   "outputs": [],
   "source": [
    "all_results = EvalBoxes.deserialize(data['results'], DetectionBox)"
   ]
  },
  {
   "cell_type": "code",
   "execution_count": 8,
   "id": "every-jersey",
   "metadata": {},
   "outputs": [
    {
     "name": "stdout",
     "output_type": "stream",
     "text": [
      "Length of the result,  6008\n",
      "meta:  {'use_camera': False, 'use_lidar': True, 'use_radar': False, 'use_map': False, 'use_external': False}\n",
      "Loaded results from /media/liangxu/ArmyData/nuscenes/Tracking_result/megvii_test.json. Found detections for 6008 samples.\n"
     ]
    }
   ],
   "source": [
    "print(\"Length of the result, \", len(all_results)) \n",
    "meta = data['meta']\n",
    "print('meta: ', meta)\n",
    "print(\"Loaded results from {}. Found detections for {} samples.\".format(detection_file, len(all_results.sample_tokens)))"
   ]
  },
  {
   "cell_type": "code",
   "execution_count": 9,
   "id": "finished-gasoline",
   "metadata": {},
   "outputs": [
    {
     "data": {
      "text/plain": [
       "EvalBoxes with 491560 boxes across 6008 samples"
      ]
     },
     "execution_count": 9,
     "metadata": {},
     "output_type": "execute_result"
    }
   ],
   "source": [
    "all_results"
   ]
  },
  {
   "cell_type": "code",
   "execution_count": 10,
   "id": "based-vocabulary",
   "metadata": {},
   "outputs": [],
   "source": [
    "\n",
    "\n",
    "results = {}\n",
    "processed_scene_tokens = set()\n"
   ]
  },
  {
   "cell_type": "code",
   "execution_count": 27,
   "id": "excellent-holiday",
   "metadata": {},
   "outputs": [
    {
     "name": "stderr",
     "output_type": "stream",
     "text": [
      "100%|██████████| 6007/6007 [01:52<00:00, 53.58it/s]  \n"
     ]
    }
   ],
   "source": [
    "for sample_token_idx in tqdm(range(len(all_results.sample_tokens)-1)):\n",
    "    sample_token = all_results.sample_tokens[sample_token_idx]\n",
    "    scene_token = nusc.get('sample', sample_token)['scene_token']\n",
    "    if scene_token in processed_scene_tokens:\n",
    "        #print(\"This should not happed, the same token name in the detection\")\n",
    "        continue\n",
    "    first_sample_token = nusc.get('scene', scene_token)['first_sample_token']\n",
    "    current_sample_token = first_sample_token\n",
    "    mot_trackers = {tracking_name: AB3DMOT(covariance_id, \n",
    "                                           tracking_name=tracking_name, \n",
    "                                           use_angular_velocity=use_angular_velocity, \n",
    "                                           tracking_nuscenes=True) for tracking_name in NUSCENES_TRACKING_NAMES}\n",
    "    #print(\"Number of AB3DMOT Tracking\", len(mot_trackers))\n",
    "    while current_sample_token != '':\n",
    "        results[current_sample_token] = []\n",
    "        dets = {tracking_name: [] for tracking_name in NUSCENES_TRACKING_NAMES}\n",
    "        info = {tracking_name: [] for tracking_name in NUSCENES_TRACKING_NAMES}\n",
    "        for box in all_results.boxes[current_sample_token]:\n",
    "            if box.detection_name not in NUSCENES_TRACKING_NAMES:\n",
    "                continue\n",
    "            q = Quaternion(box.rotation)\n",
    "            #print(q.angle)\n",
    "            angle = q.angle if q.axis[2] > 0 else -q.angle\n",
    "            #print('box.rotation,  angle, axis: ', box.rotation, q.angle, q.axis)\n",
    "            #print('box.rotation,  angle, axis: ', q.angle, q.axis)\n",
    "            #[h, w, l, x, y, z, rot_y]\n",
    "            detection = np.array([\n",
    "              box.size[2], box.size[0], box.size[1], \n",
    "              box.translation[0],  box.translation[1], box.translation[2],\n",
    "              angle])\n",
    "            #print('detection: ', detection)\n",
    "            information = np.array([box.detection_score])\n",
    "            dets[box.detection_name].append(detection)\n",
    "            info[box.detection_name].append(information)\n",
    "            \n",
    "        dets_all = {tracking_name: {'dets': np.array(dets[tracking_name]), 'info': np.array(info[tracking_name])}\n",
    "            for tracking_name in NUSCENES_TRACKING_NAMES}\n",
    "        total_frames += 1\n",
    "        start_time = time.time()\n",
    "        # starting the tracking\n",
    "        for tracking_name in NUSCENES_TRACKING_NAMES:\n",
    "            if dets_all[tracking_name]['dets'].shape[0] > 0: \n",
    "                trackers = mot_trackers[tracking_name].update(dets_all[tracking_name],\n",
    "                                                              match_distance,\n",
    "                                                              match_threshold,\n",
    "                                                              match_algorithm, \n",
    "                                                              scene_token)\n",
    "                # TODO: Need to finish the tracking update algorithm\n",
    "                for i in range(trackers.shape[0]):\n",
    "                    sample_result = format_sample_result(current_sample_token, \n",
    "                                                         tracking_name,\n",
    "                                                         trackers[i])\n",
    "                    results[current_sample_token].append(sample_result)\n",
    "        cycle_time = time.time() - start_time\n",
    "        total_time += cycle_time\n",
    "            \n",
    "        # get next frame and continue the while loop\n",
    "        current_sample_token = nusc.get('sample', current_sample_token)['next']\n",
    "        \n",
    "    # left while loop and mark this scene as processed\n",
    "    processed_scene_tokens.add(scene_token)\n",
    "# finished tracking all scenes, write output data\n",
    "output_data = {'meta': meta, 'results': results}\n",
    "with open(output_path, 'w') as outfile:\n",
    "    json.dump(output_data, outfile)\n",
    "            \n",
    "        \n",
    "        \n",
    "        "
   ]
  },
  {
   "cell_type": "code",
   "execution_count": null,
   "id": "facial-apparel",
   "metadata": {},
   "outputs": [],
   "source": [
    "trks = np.zeros((10,7))"
   ]
  },
  {
   "cell_type": "code",
   "execution_count": null,
   "id": "answering-runner",
   "metadata": {},
   "outputs": [],
   "source": []
  },
  {
   "cell_type": "code",
   "execution_count": 15,
   "id": "decent-pierre",
   "metadata": {},
   "outputs": [],
   "source": []
  }
 ],
 "metadata": {
  "kernelspec": {
   "display_name": "Python 3",
   "language": "python",
   "name": "python3"
  },
  "language_info": {
   "codemirror_mode": {
    "name": "ipython",
    "version": 3
   },
   "file_extension": ".py",
   "mimetype": "text/x-python",
   "name": "python",
   "nbconvert_exporter": "python",
   "pygments_lexer": "ipython3",
   "version": "3.7.9"
  }
 },
 "nbformat": 4,
 "nbformat_minor": 5
}
