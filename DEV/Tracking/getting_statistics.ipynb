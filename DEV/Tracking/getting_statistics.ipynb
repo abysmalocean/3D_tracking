{
 "cells": [
  {
   "cell_type": "code",
   "execution_count": 1,
   "id": "acting-thumb",
   "metadata": {},
   "outputs": [],
   "source": [
    "import os\n",
    "import sys\n",
    "!export PYTHONPATH=\"${PYTHONPATH}:~/gt/3D_tracking/DEV/Tracking/nuscenes\"\n",
    "import numpy as np\n",
    "\n",
    "from sklearn.utils.linear_assignment_ import linear_assignment\n",
    "\n",
    "from nuscenes import NuScenes\n",
    "from nuscenes.eval.common.config import config_factory\n",
    "from nuscenes.eval.tracking.evaluate import TrackingEval\n",
    "from nuscenes.eval.detection.data_classes import DetectionConfig\n",
    "from nuscenes.eval.detection.data_classes import DetectionBox\n",
    "from nuscenes.eval.tracking.data_classes import TrackingBox\n",
    "from nuscenes.eval.common.loaders import load_prediction, load_gt, filter_eval_boxes\n",
    "from nuscenes.eval.tracking.loaders import create_tracks\n",
    "from pyquaternion import Quaternion\n",
    "#from main import iou3d, convert_3dbox_to_8corner\n",
    "import argparse\n",
    "import pickle \n",
    "from utils.dict import *\n",
    "from utils.stats import add_center_dist\n",
    "%load_ext autoreload\n",
    "%autoreload 2"
   ]
  },
  {
   "cell_type": "code",
   "execution_count": 5,
   "id": "friendly-shame",
   "metadata": {},
   "outputs": [
    {
     "name": "stdout",
     "output_type": "stream",
     "text": [
      "======\n",
      "Loading NuScenes tables for version v1.0-test...\n",
      "23 category,\n",
      "8 attribute,\n",
      "4 visibility,\n",
      "0 instance,\n",
      "12 sensor,\n",
      "1800 calibrated_sensor,\n",
      "462901 ego_pose,\n",
      "15 log,\n",
      "150 scene,\n",
      "6008 sample,\n",
      "462901 sample_data,\n",
      "0 sample_annotation,\n",
      "4 map,\n",
      "Done loading in 8.477 seconds.\n",
      "======\n",
      "Reverse indexing ...\n",
      "Done reverse indexing in 1.9 seconds.\n",
      "======\n",
      "/media/liangxu/ArmyData/nuscenes/trainval/v1.0-test\n"
     ]
    }
   ],
   "source": []
  },
  {
   "cell_type": "code",
   "execution_count": 7,
   "id": "advance-bachelor",
   "metadata": {},
   "outputs": [],
   "source": []
  },
  {
   "cell_type": "code",
   "execution_count": 2,
   "id": "amino-brake",
   "metadata": {},
   "outputs": [],
   "source": [
    "detection_file = os.path.join(detection_path , 'megvii_train.json')\n",
    "data_root      = os.path.join(nuscense_path , 'trainval')\n",
    "gt_boxes_file_name = \"/media/liangxu/ArmyData/nuscenes/Tracking_result/tracking_tmp/gt_boxes\"\n",
    "prediction_file_name = \"/media/liangxu/ArmyData/nuscenes/Tracking_result/tracking_tmp/pred_boxes\"\n",
    "prediction_file_name_centerpoint = \"/media/liangxu/ArmyData/nuscenes/Tracking_result/tracking_tmp/pred_boxes_centerpoint\"\n",
    "nusc_file_name = \"/media/liangxu/ArmyData/nuscenes/Tracking_result/tracking_tmp/nusc.pkl\""
   ]
  },
  {
   "cell_type": "code",
   "execution_count": 3,
   "id": "false-limitation",
   "metadata": {},
   "outputs": [],
   "source": [
    "# Load the detection and ground truth result\n",
    "nusc = pickle.load(open(nusc_file_name , 'rb'))\n",
    "#pred_boxes = pickle.load(open(prediction_file_name , 'rb'))\n",
    "pred_boxes_new = pickle.load(open(prediction_file_name_centerpoint , 'rb'))\n",
    "gt_boxes   = pickle.load(open(gt_boxes_file_name , 'rb'))"
   ]
  },
  {
   "cell_type": "code",
   "execution_count": 5,
   "id": "material-extraction",
   "metadata": {},
   "outputs": [
    {
     "data": {
      "text/plain": [
       "\"\\nversion='v1.0-trainval'\\nnusc = NuScenes(version=version, dataroot=data_root, verbose=True)\\nwith open(nusc_file_name, 'wb') as f:\\n    pickle.dump(nusc, f)\\n\\npred_boxes, _ = load_prediction(detection_file, 10000, DetectionBox)\\ngt_boxes = load_gt(nusc, 'train', TrackingBox, verbose = True)\\nwith open(prediction_file_name, 'wb') as f:\\n    pickle.dump(pred_boxes, f)\\nwith open(gt_boxes_file_name, 'wb') as f:\\n    pickle.dump(gt_boxes, f)\\n\""
      ]
     },
     "execution_count": 5,
     "metadata": {},
     "output_type": "execute_result"
    }
   ],
   "source": [
    "# load the predictions and the gt boxes\n",
    "\"\"\"\n",
    "version='v1.0-trainval'\n",
    "nusc = NuScenes(version=version, dataroot=data_root, verbose=True)\n",
    "with open(nusc_file_name, 'wb') as f:\n",
    "    pickle.dump(nusc, f)\n",
    "\n",
    "pred_boxes, _ = load_prediction(detection_file, 10000, DetectionBox)\n",
    "gt_boxes = load_gt(nusc, 'train', TrackingBox, verbose = True)\n",
    "with open(prediction_file_name, 'wb') as f:\n",
    "    pickle.dump(pred_boxes, f)\n",
    "with open(gt_boxes_file_name, 'wb') as f:\n",
    "    pickle.dump(gt_boxes, f)\n",
    "\n",
    "new_prediction_file = \"/home/liangxu/gt/3D_tracking/3party/CenterPoint/work_dirs/nusc_centerpoint_voxelnet_dcn_0075voxel_flip_trainSet_new/infos_train_10sweeps_withvelo_filter_True.json\"\n",
    "pred_boxes_new, _ = load_prediction(new_prediction_file, 10000, DetectionBox)\n",
    "with open(prediction_file_name_centerpoint, 'wb') as f:\n",
    "    pickle.dump(pred_boxes_new, f)\n",
    "    \n",
    "# get the test file\n",
    "data_root = \"/media/liangxu/ArmyData/nuscenes/trainval/v1.0-test\"\n",
    "nusc = NuScenes(version='v1.0-test', dataroot=data_root, verbose=True)\n",
    "print(data_root)\n",
    "nusc_test_file_name = \"/media/liangxu/ArmyData/nuscenes/Tracking_result/tracking_tmp/nusc_test.pkl\"\n",
    "with open(nusc_test_file_name, 'wb') as f:\n",
    "    pickle.dump(nusc, f)\n",
    "\n",
    "\"\"\""
   ]
  },
  {
   "cell_type": "code",
   "execution_count": 4,
   "id": "cleared-leonard",
   "metadata": {},
   "outputs": [],
   "source": [
    "#assert set(pred_boxes.sample_tokens) == set(gt_boxes.sample_tokens), \\\n",
    "#            \"Samples in split don't match samples in predicted tracks.\"\n",
    "\n",
    "assert set(gt_boxes.sample_tokens) == set(pred_boxes_new.sample_tokens), \\\n",
    "            \"Samples in split don't match samples in predicted tracks.\"\n"
   ]
  },
  {
   "cell_type": "code",
   "execution_count": 5,
   "id": "employed-active",
   "metadata": {},
   "outputs": [
    {
     "name": "stdout",
     "output_type": "stream",
     "text": [
      "len(pred_boxes_centerpoint.sample_tokens):  28130\n",
      "len(gt_boxes.sample_tokens):  28130\n"
     ]
    }
   ],
   "source": [
    " # Add center distances.\n",
    "#pred_boxes = add_center_dist(nusc, pred_boxes)\n",
    "pred_boxes_centerpoint = add_center_dist(nusc, pred_boxes_new)\n",
    "gt_boxes   = add_center_dist(nusc, gt_boxes)\n",
    "\n",
    "#print('len(pred_boxes.sample_tokens): ', len(pred_boxes.sample_tokens))\n",
    "print('len(pred_boxes_centerpoint.sample_tokens): ', len(pred_boxes_centerpoint.sample_tokens))\n",
    "print('len(gt_boxes.sample_tokens): ', len(gt_boxes.sample_tokens))"
   ]
  },
  {
   "cell_type": "code",
   "execution_count": 6,
   "id": "stainless-television",
   "metadata": {},
   "outputs": [
    {
     "name": "stdout",
     "output_type": "stream",
     "text": [
      "Liang XU\n"
     ]
    }
   ],
   "source": [
    "tracks_gt = create_tracks(gt_boxes, nusc, 'train', gt=True)"
   ]
  },
  {
   "cell_type": "code",
   "execution_count": 7,
   "id": "dried-brush",
   "metadata": {},
   "outputs": [],
   "source": [
    "\n",
    "from get_nuscenes_stats import matching_and_get_diff_stats, get_mean\n",
    "from trainingTestingDataCreating import training_data_creation"
   ]
  },
  {
   "cell_type": "code",
   "execution_count": 8,
   "id": "typical-requirement",
   "metadata": {},
   "outputs": [
    {
     "name": "stderr",
     "output_type": "stream",
     "text": [
      "\r",
      "  0%|          | 0/700 [00:00<?, ?it/s]"
     ]
    },
    {
     "name": "stdout",
     "output_type": "stream",
     "text": [
      "len(tracks.keys()):  700\n"
     ]
    },
    {
     "name": "stderr",
     "output_type": "stream",
     "text": [
      "100%|██████████| 700/700 [01:11<00:00,  9.77it/s]\n"
     ]
    },
    {
     "data": {
      "text/plain": [
       "({'bicycle': array([ 1.29255138e+00,  6.04981211e-01,  1.69851979e+00,  9.24922207e+02,\n",
       "          1.29928737e+03,  7.54455098e-01,  3.50005634e-02,  8.89233002e-03,\n",
       "         -3.69294743e-02,  1.01596643e-02, -2.28356654e-03,  2.19812316e-03,\n",
       "         -2.08178349e-03,  2.51023328e-04,  3.81416683e-03]),\n",
       "  'bus': array([ 3.49466679e+00,  2.94869529e+00,  1.11763184e+01,  1.03657590e+03,\n",
       "          1.31494559e+03,  1.87588071e+00,  1.75155290e-01,  3.95991159e-02,\n",
       "         -2.29194236e-02,  6.48864550e-03,  1.83604957e-03, -6.08124866e-03,\n",
       "          3.70562220e-03,  5.12323703e-04,  3.67486684e-03]),\n",
       "  'car': array([ 1.73496995e+00,  1.96062873e+00,  4.61921671e+00,  1.18384247e+03,\n",
       "          1.17948029e+03,  9.67292984e-01,  1.77048395e-01,  1.83719918e-02,\n",
       "         -1.48373986e-02,  5.44655633e-03,  8.71153712e-04, -7.72651883e-04,\n",
       "          5.07796695e-04,  4.51635759e-04,  7.76475847e-05]),\n",
       "  'motorcycle': array([ 1.46360935e+00,  7.76617224e-01,  2.10927549e+00,  9.87766295e+02,\n",
       "          1.29562551e+03,  8.31365490e-01,  1.51516200e-01, -4.89430673e-03,\n",
       "          1.69435289e-01, -1.36311703e-03,  1.28897520e-03, -6.47063337e-04,\n",
       "          7.23860338e-04,  1.34061419e-03, -5.54840452e-03]),\n",
       "  'pedestrian': array([ 1.76855191e+00,  6.67333417e-01,  7.25477875e-01,  8.81150651e+02,\n",
       "          1.38858330e+03,  1.08833380e+00,  2.82662548e-01, -4.89998190e-02,\n",
       "          1.21155008e-02,  9.23667057e-03, -7.81454409e-04, -2.74625305e-04,\n",
       "         -5.43041519e-06,  4.99293756e-04, -9.40015059e-05]),\n",
       "  'trailer': array([ 3.86668658e+00,  2.92318591e+00,  1.22905906e+01,  1.48195352e+03,\n",
       "          9.72743322e+02,  2.16587011e+00,  5.98367990e-02, -1.09382002e-02,\n",
       "          1.36538899e-02,  6.06591734e-03,  2.67895193e-04,  1.63254488e-03,\n",
       "          1.69016264e-03, -4.50576776e-04, -1.24141468e-03]),\n",
       "  'truck': array([ 2.82540373e+00,  2.50966100e+00,  6.88430400e+00,  1.24954116e+03,\n",
       "          1.06456348e+03,  1.57039061e+00,  2.49418403e-01,  3.33880954e-03,\n",
       "         -5.38623686e-02,  5.75745443e-03,  8.02126096e-04,  9.83752654e-04,\n",
       "         -1.94920709e-03,  7.45106572e-04,  2.83504669e-04])},\n",
       " {'bicycle': array([3.46931106e-01, 1.63383801e-01, 2.58803938e-01, 5.26221814e+02,\n",
       "         4.30970109e+02, 4.91088920e-01, 1.80102439e+00, 7.68469988e-01,\n",
       "         6.78180769e-01, 7.38635431e-02, 2.50090938e-01, 1.41025298e-01,\n",
       "         1.16855584e-01, 7.14265876e-02, 3.65281060e-01]),\n",
       "  'bus': array([4.94004571e-01, 3.21811774e-01, 2.05553837e+00, 5.52781857e+02,\n",
       "         4.63697319e+02, 1.21322188e+00, 1.67214014e+00, 1.69621138e+00,\n",
       "         1.39426813e+00, 1.17715915e-01, 3.15686808e-01, 3.43117946e-01,\n",
       "         2.97432190e-01, 1.08451113e-01, 4.57219895e-01]),\n",
       "  'car': array([2.44141728e-01, 1.87028764e-01, 4.61048601e-01, 6.17789167e+02,\n",
       "         4.12279804e+02, 6.77471298e-01, 1.76984041e+00, 1.38347916e+00,\n",
       "         1.19455479e+00, 7.85491502e-02, 2.08732887e-01, 3.98645862e-01,\n",
       "         3.53461905e-01, 7.31828644e-02, 3.03776364e-01]),\n",
       "  'motorcycle': array([2.30800547e-01, 1.73695407e-01, 3.35804165e-01, 6.55027105e+02,\n",
       "         4.55492008e+02, 7.37792060e-01, 1.90472461e+00, 1.42112444e+00,\n",
       "         1.40948782e+00, 1.13101578e-01, 3.37383323e-01, 1.79902082e-01,\n",
       "         1.96634426e-01, 7.39879473e-02, 4.84734368e-01]),\n",
       "  'pedestrian': array([1.91239833e-01, 1.40255579e-01, 1.89042307e-01, 5.24730476e+02,\n",
       "         3.79107687e+02, 7.08106700e-01, 1.88624855e+00, 4.23987810e-01,\n",
       "         3.77889621e-01, 7.81013063e-02, 4.35380197e-01, 1.82979388e-01,\n",
       "         1.57275211e-01, 7.71098262e-02, 6.51891506e-01]),\n",
       "  'trailer': array([7.71751566e-01, 5.42730981e-01, 4.59895298e+00, 4.64854215e+02,\n",
       "         2.86510673e+02, 7.45106345e-01, 1.80534779e+00, 9.22646329e-01,\n",
       "         7.84971903e-01, 8.79450120e-02, 1.63653051e-01, 2.04935380e-01,\n",
       "         1.92005612e-01, 1.09277194e-01, 2.37311239e-01]),\n",
       "  'truck': array([8.39808101e-01, 4.48202798e-01, 2.08706225e+00, 5.85782026e+02,\n",
       "         3.90065398e+02, 7.57522822e-01, 1.82994037e+00, 1.24630849e+00,\n",
       "         1.06692256e+00, 8.32793936e-02, 2.44797966e-01, 3.07453411e-01,\n",
       "         3.07509410e-01, 9.15457110e-02, 3.76404650e-01])},\n",
       " {'bicycle': array([1.20361192e-01, 2.66942666e-02, 6.69794785e-02, 2.76909397e+05,\n",
       "         1.85735235e+05, 2.41168328e-01, 3.24368887e+00, 5.90546122e-01,\n",
       "         4.59929155e-01, 5.45582300e-03, 6.25454771e-02, 1.98881347e-02,\n",
       "         1.36552276e-02, 5.10175742e-03, 1.33430252e-01]),\n",
       "  'bus': array([2.44040516e-01, 1.03562818e-01, 4.22523800e+00, 3.05567781e+05,\n",
       "         2.15015204e+05, 1.47190733e+00, 2.79605266e+00, 2.87713304e+00,\n",
       "         1.94398363e+00, 1.38570365e-02, 9.96581605e-02, 1.17729925e-01,\n",
       "         8.84659079e-02, 1.17616440e-02, 2.09050032e-01]),\n",
       "  'car': array([5.96051832e-02, 3.49797586e-02, 2.12565813e-01, 3.81663455e+05,\n",
       "         1.69974637e+05, 4.58967360e-01, 3.13233509e+00, 1.91401460e+00,\n",
       "         1.42696115e+00, 6.16996900e-03, 4.35694181e-02, 1.58918523e-01,\n",
       "         1.24935318e-01, 5.35573165e-03, 9.22800791e-02]),\n",
       "  'motorcycle': array([5.32688926e-02, 3.01700943e-02, 1.12764437e-01, 4.29060508e+05,\n",
       "         2.07472969e+05, 5.44337123e-01, 3.62797583e+00, 2.01959468e+00,\n",
       "         1.98665591e+00, 1.27919670e-02, 1.13827507e-01, 3.23647590e-02,\n",
       "         3.86650974e-02, 5.47421635e-03, 2.34967407e-01]),\n",
       "  'pedestrian': array([3.65726736e-02, 1.96716274e-02, 3.57369939e-02, 2.75342072e+05,\n",
       "         1.43722638e+05, 5.01415098e-01, 3.55793360e+00, 1.79765663e-01,\n",
       "         1.42800566e-01, 6.09981404e-03, 1.89555916e-01, 3.34814566e-02,\n",
       "         2.47354921e-02, 5.94592529e-03, 4.24962535e-01]),\n",
       "  'trailer': array([5.95600480e-01, 2.94556918e-01, 2.11503685e+01, 2.16089441e+05,\n",
       "         8.20883656e+04, 5.55183465e-01, 3.25928063e+00, 8.51276248e-01,\n",
       "         6.16180888e-01, 7.73432513e-03, 2.67823211e-02, 4.19985099e-02,\n",
       "         3.68661552e-02, 1.19415050e-02, 5.63166240e-02]),\n",
       "  'truck': array([7.05277646e-01, 2.00885748e-01, 4.35582883e+00, 3.43140581e+05,\n",
       "         1.52151015e+05, 5.73840826e-01, 3.34868174e+00, 1.55328485e+00,\n",
       "         1.13832374e+00, 6.93545740e-03, 5.99260444e-02, 9.45275998e-02,\n",
       "         9.45620374e-02, 8.38061721e-03, 1.41680460e-01])})"
      ]
     },
     "execution_count": 8,
     "metadata": {},
     "output_type": "execute_result"
    }
   ],
   "source": [
    "get_mean(tracks_gt)"
   ]
  },
  {
   "cell_type": "code",
   "execution_count": 29,
   "id": "present-status",
   "metadata": {},
   "outputs": [
    {
     "name": "stderr",
     "output_type": "stream",
     "text": [
      "  0%|          | 0/700 [00:00<?, ?it/s]\n"
     ]
    },
    {
     "ename": "IndexError",
     "evalue": "index 3 is out of bounds for axis 0 with size 3",
     "output_type": "error",
     "traceback": [
      "\u001b[0;31m---------------------------------------------------------------------------\u001b[0m",
      "\u001b[0;31mIndexError\u001b[0m                                Traceback (most recent call last)",
      "\u001b[0;32m<ipython-input-29-aaef77ba1d8a>\u001b[0m in \u001b[0;36m<module>\u001b[0;34m\u001b[0m\n\u001b[0;32m----> 1\u001b[0;31m \u001b[0mmatching_and_get_diff_stats\u001b[0m\u001b[0;34m(\u001b[0m\u001b[0mpred_boxes\u001b[0m\u001b[0;34m,\u001b[0m \u001b[0mgt_boxes\u001b[0m\u001b[0;34m,\u001b[0m \u001b[0mtracks_gt\u001b[0m\u001b[0;34m,\u001b[0m \u001b[0;34m'2d_center'\u001b[0m\u001b[0;34m)\u001b[0m\u001b[0;34m\u001b[0m\u001b[0;34m\u001b[0m\u001b[0m\n\u001b[0m",
      "\u001b[0;32m~/gt/3D_tracking/DEV/Tracking/get_nuscenes_stats.py\u001b[0m in \u001b[0;36mmatching_and_get_diff_stats\u001b[0;34m(pred_boxes, gt_boxes, tracks_gt, matching_dist)\u001b[0m\n\u001b[1;32m    271\u001b[0m             \u001b[0;32mif\u001b[0m \u001b[0;34m(\u001b[0m\u001b[0mddisc\u001b[0m \u001b[0;34m>\u001b[0m \u001b[0;36m2.0\u001b[0m\u001b[0;34m)\u001b[0m\u001b[0;34m:\u001b[0m\u001b[0;34m\u001b[0m\u001b[0;34m\u001b[0m\u001b[0m\n\u001b[1;32m    272\u001b[0m               \u001b[0mprint\u001b[0m\u001b[0;34m(\u001b[0m\u001b[0;34m\"THe distance is greater than miss detection \"\u001b[0m\u001b[0;34m,\u001b[0m \u001b[0mddisc\u001b[0m\u001b[0;34m)\u001b[0m\u001b[0;34m\u001b[0m\u001b[0;34m\u001b[0m\u001b[0m\n\u001b[0;32m--> 273\u001b[0;31m             \u001b[0mdiff_value\u001b[0m \u001b[0;34m=\u001b[0m \u001b[0mdets\u001b[0m\u001b[0;34m[\u001b[0m\u001b[0mindex_j\u001b[0m\u001b[0;34m]\u001b[0m \u001b[0;34m-\u001b[0m \u001b[0mgts\u001b[0m\u001b[0;34m[\u001b[0m\u001b[0mindex_i\u001b[0m\u001b[0;34m]\u001b[0m\u001b[0;34m\u001b[0m\u001b[0;34m\u001b[0m\u001b[0m\n\u001b[0m\u001b[1;32m    274\u001b[0m             \u001b[0;31m#print(\"original value \", diff_value[6])\u001b[0m\u001b[0;34m\u001b[0m\u001b[0;34m\u001b[0m\u001b[0;34m\u001b[0m\u001b[0m\n\u001b[1;32m    275\u001b[0m             \u001b[0mangle_diff\u001b[0m \u001b[0;34m=\u001b[0m \u001b[0mnp\u001b[0m\u001b[0;34m.\u001b[0m\u001b[0mzeros\u001b[0m\u001b[0;34m(\u001b[0m\u001b[0;36m4\u001b[0m\u001b[0;34m)\u001b[0m\u001b[0;34m\u001b[0m\u001b[0;34m\u001b[0m\u001b[0m\n",
      "\u001b[0;31mIndexError\u001b[0m: index 3 is out of bounds for axis 0 with size 3"
     ]
    }
   ],
   "source": [
    "matching_and_get_diff_stats(pred_boxes, gt_boxes, tracks_gt, '2d_center')"
   ]
  },
  {
   "cell_type": "code",
   "execution_count": 38,
   "id": "sexual-findings",
   "metadata": {},
   "outputs": [
    {
     "name": "stderr",
     "output_type": "stream",
     "text": [
      "100%|██████████| 700/700 [08:57<00:00,  1.30it/s]\n"
     ]
    },
    {
     "data": {
      "text/plain": [
       "({'bicycle': array([ 0.00444158,  0.00548391,  0.02700448,  0.00472683,  0.00487179,\n",
       "          0.00578921, -0.00090104]),\n",
       "  'bus': array([-0.03849067, -0.02355045,  0.039287  ,  0.0112755 ,  0.00263459,\n",
       "          0.00761268,  0.00062003]),\n",
       "  'car': array([-1.33519307e-02, -1.30198578e-02, -1.12860569e-02, -6.58205779e-05,\n",
       "          2.42299028e-03,  3.80057004e-03, -1.46172755e-03]),\n",
       "  'motorcycle': array([-0.00109592, -0.00817222, -0.0100901 ,  0.00397068,  0.00278687,\n",
       "          0.0058704 ,  0.00936965]),\n",
       "  'pedestrian': array([-0.00331991, -0.0059713 , -0.01035154,  0.00085706,  0.00082741,\n",
       "          0.00515495,  0.00167351]),\n",
       "  'trailer': array([ 0.01758176, -0.03357614,  0.0386592 , -0.00047133,  0.00306588,\n",
       "         -0.0086273 ,  0.00031292]),\n",
       "  'truck': array([-2.03802520e-02, -3.48075837e-02, -6.75954557e-02, -8.56012919e-05,\n",
       "         -6.29031429e-03, -4.90164668e-03,  6.46115653e-04])},\n",
       " {'bicycle': array([0.15030771, 0.13934666, 0.20774621, 0.22716344, 0.24198294,\n",
       "         0.1652483 , 0.22373981]),\n",
       "  'bus': array([0.30244347, 0.23255523, 0.70934273, 0.24932923, 0.2304485 ,\n",
       "         0.23724314, 0.03879275]),\n",
       "  'car': array([0.15910102, 0.156636  , 0.34103986, 0.28331662, 0.29188843,\n",
       "         0.17761093, 0.1081697 ]),\n",
       "  'motorcycle': array([0.13264562, 0.12467152, 0.22833151, 0.22237666, 0.21442723,\n",
       "         0.14621125, 0.18316375]),\n",
       "  'pedestrian': array([0.14879412, 0.12535981, 0.16317245, 0.16915797, 0.16768133,\n",
       "         0.16291298, 0.29450023]),\n",
       "  'trailer': array([0.34798771, 0.28502763, 1.14505057, 0.29092018, 0.28311265,\n",
       "         0.25747015, 0.09652174]),\n",
       "  'truck': array([0.29876547, 0.24584975, 0.84816712, 0.30423525, 0.30097393,\n",
       "         0.22770374, 0.08549889])},\n",
       " {'bicycle': array([0.02259241, 0.01941749, 0.04315849, 0.05160323, 0.05855574,\n",
       "         0.027307  , 0.0500595 ]),\n",
       "  'bus': array([0.09147205, 0.05408194, 0.50316711, 0.06216506, 0.05310651,\n",
       "         0.05628431, 0.00150488]),\n",
       "  'car': array([0.02531313, 0.02453484, 0.11630819, 0.08026831, 0.08519886,\n",
       "         0.03154564, 0.01170068]),\n",
       "  'motorcycle': array([0.01759486, 0.01554299, 0.05213528, 0.04945138, 0.04597904,\n",
       "         0.02137773, 0.03354896]),\n",
       "  'pedestrian': array([0.02213969, 0.01571508, 0.02662525, 0.02861442, 0.02811703,\n",
       "         0.02654064, 0.08673039]),\n",
       "  'trailer': array([0.12109544, 0.08124075, 1.3111408 , 0.08463455, 0.08015278,\n",
       "         0.06629088, 0.00931645]),\n",
       "  'truck': array([0.0892608 , 0.0604421 , 0.71938747, 0.09255909, 0.09058531,\n",
       "         0.05184899, 0.00731006])})"
      ]
     },
     "execution_count": 38,
     "metadata": {},
     "output_type": "execute_result"
    }
   ],
   "source": [
    "from get_nuscenes_stats import matching_and_get_diff_stats\n",
    "matching_and_get_diff_stats(pred_boxes_centerpoint, gt_boxes, tracks_gt, 'advanced')"
   ]
  },
  {
   "cell_type": "code",
   "execution_count": 39,
   "id": "soviet-flush",
   "metadata": {},
   "outputs": [],
   "source": [
    "tracking_diff_file_name = \"/media/liangxu/ArmyData/nuscenes/Tracking_result/tracking_tmp/tracking_diff\"\n",
    "tracking_diff = pickle.load(open( tracking_diff_file_name , 'rb'))"
   ]
  },
  {
   "cell_type": "code",
   "execution_count": 40,
   "id": "industrial-recorder",
   "metadata": {},
   "outputs": [],
   "source": [
    "diff = {tracking_name: np.stack(tracking_diff[tracking_name], axis=0) for tracking_name in NUSCENES_TRACKING_NAMES}"
   ]
  },
  {
   "cell_type": "code",
   "execution_count": 41,
   "id": "increasing-aaron",
   "metadata": {},
   "outputs": [],
   "source": [
    "mean = {tracking_name: np.mean(diff[tracking_name], axis=0) for tracking_name in NUSCENES_TRACKING_NAMES}"
   ]
  },
  {
   "cell_type": "code",
   "execution_count": 42,
   "id": "solid-moisture",
   "metadata": {},
   "outputs": [
    {
     "name": "stdout",
     "output_type": "stream",
     "text": [
      "bicycle [ 0.00444158  0.00548391  0.02700448  0.00472683  0.00487179  0.00578921\n",
      " -0.00090104]\n",
      "bus [-0.03849067 -0.02355045  0.039287    0.0112755   0.00263459  0.00761268\n",
      "  0.00062003]\n",
      "car [-1.33519307e-02 -1.30198578e-02 -1.12860569e-02 -6.58205779e-05\n",
      "  2.42299028e-03  3.80057004e-03 -1.46172755e-03]\n",
      "motorcycle [-0.00109592 -0.00817222 -0.0100901   0.00397068  0.00278687  0.0058704\n",
      "  0.00936965]\n",
      "pedestrian [-0.00331991 -0.0059713  -0.01035154  0.00085706  0.00082741  0.00515495\n",
      "  0.00167351]\n",
      "trailer [ 0.01758176 -0.03357614  0.0386592  -0.00047133  0.00306588 -0.0086273\n",
      "  0.00031292]\n",
      "truck [-2.03802520e-02 -3.48075837e-02 -6.75954557e-02 -8.56012919e-05\n",
      " -6.29031429e-03 -4.90164668e-03  6.46115653e-04]\n"
     ]
    }
   ],
   "source": [
    "for k, v in mean.items(): \n",
    "    print(k, v)"
   ]
  },
  {
   "cell_type": "code",
   "execution_count": 43,
   "id": "soviet-yellow",
   "metadata": {},
   "outputs": [
    {
     "name": "stdout",
     "output_type": "stream",
     "text": [
      "bicycle [0.15030771 0.13934666 0.20774621 0.22716344 0.24198294 0.1652483\n",
      " 0.22373981]\n",
      "bus [0.30244347 0.23255523 0.70934273 0.24932923 0.2304485  0.23724314\n",
      " 0.03879275]\n",
      "car [0.15910102 0.156636   0.34103986 0.28331662 0.29188843 0.17761093\n",
      " 0.1081697 ]\n",
      "motorcycle [0.13264562 0.12467152 0.22833151 0.22237666 0.21442723 0.14621125\n",
      " 0.18316375]\n",
      "pedestrian [0.14879412 0.12535981 0.16317245 0.16915797 0.16768133 0.16291298\n",
      " 0.29450023]\n",
      "trailer [0.34798771 0.28502763 1.14505057 0.29092018 0.28311265 0.25747015\n",
      " 0.09652174]\n",
      "truck [0.29876547 0.24584975 0.84816712 0.30423525 0.30097393 0.22770374\n",
      " 0.08549889]\n"
     ]
    }
   ],
   "source": [
    "std = {tracking_name: np.std(diff[tracking_name], axis=0) for tracking_name in NUSCENES_TRACKING_NAMES}\n",
    "for k, v in std.items(): \n",
    "    print(k, v)"
   ]
  },
  {
   "cell_type": "code",
   "execution_count": 44,
   "id": "actual-abuse",
   "metadata": {},
   "outputs": [
    {
     "data": {
      "text/plain": [
       "'\\nbox.size[2], \\nbox.size[0], \\nbox.size[1],\\nbox.translation[0], \\nbox.translation[1], \\nbox.translation[2],\\nrotation_to_positive_z_angle(box.rotation)\\n'"
      ]
     },
     "execution_count": 44,
     "metadata": {},
     "output_type": "execute_result"
    }
   ],
   "source": [
    "\"\"\"\n",
    "box.size[2], \n",
    "box.size[0], \n",
    "box.size[1],\n",
    "box.translation[0], \n",
    "box.translation[1], \n",
    "box.translation[2],\n",
    "rotation_to_positive_z_angle(box.rotation)\n",
    "\"\"\""
   ]
  },
  {
   "cell_type": "code",
   "execution_count": 45,
   "id": "linear-recommendation",
   "metadata": {},
   "outputs": [
    {
     "name": "stdout",
     "output_type": "stream",
     "text": [
      "bicycle [0.02259241 0.01941749 0.04315849 0.05160323 0.05855574 0.027307\n",
      " 0.0500595 ]\n",
      "bus [0.09147205 0.05408194 0.50316711 0.06216506 0.05310651 0.05628431\n",
      " 0.00150488]\n",
      "car [0.02531313 0.02453484 0.11630819 0.08026831 0.08519886 0.03154564\n",
      " 0.01170068]\n",
      "motorcycle [0.01759486 0.01554299 0.05213528 0.04945138 0.04597904 0.02137773\n",
      " 0.03354896]\n",
      "pedestrian [0.02213969 0.01571508 0.02662525 0.02861442 0.02811703 0.02654064\n",
      " 0.08673039]\n",
      "trailer [0.12109544 0.08124075 1.3111408  0.08463455 0.08015278 0.06629088\n",
      " 0.00931645]\n",
      "truck [0.0892608  0.0604421  0.71938747 0.09255909 0.09058531 0.05184899\n",
      " 0.00731006]\n"
     ]
    }
   ],
   "source": [
    "var = {tracking_name: np.var(diff[tracking_name], axis=0) for tracking_name in NUSCENES_TRACKING_NAMES}\n",
    "for k, v in var.items(): \n",
    "    print(k, v)"
   ]
  },
  {
   "cell_type": "code",
   "execution_count": 46,
   "id": "completed-channel",
   "metadata": {},
   "outputs": [],
   "source": [
    "MeasurementNoise_file_name = \"/media/liangxu/ArmyData/nuscenes/Tracking_result/tracking_tmp/measurement_noise_var\"\n",
    "with open(MeasurementNoise_file_name, 'wb') as f:\n",
    "    pickle.dump(var, f)\n",
    "    "
   ]
  },
  {
   "cell_type": "code",
   "execution_count": 47,
   "id": "hazardous-perfume",
   "metadata": {},
   "outputs": [],
   "source": [
    "# plot the histgram\n",
    "import matplotlib.pyplot as plt\n",
    "import numpy as np\n",
    "\n",
    "%matplotlib inline"
   ]
  },
  {
   "cell_type": "code",
   "execution_count": 48,
   "id": "stylish-association",
   "metadata": {
    "scrolled": false
   },
   "outputs": [
    {
     "name": "stdout",
     "output_type": "stream",
     "text": [
      "bicycle\n",
      "(7894,)\n"
     ]
    },
    {
     "data": {
      "image/png": "[encoded data removed]",
      "text/plain": [
       "<Figure size 432x288 with 1 Axes>"
      ]
     },
     "metadata": {
      "needs_background": "light"
     },
     "output_type": "display_data"
    },
    {
     "name": "stdout",
     "output_type": "stream",
     "text": [
      "bus\n",
      "(8541,)\n"
     ]
    },
    {
     "data": {
      "image/png": "[encoded data removed]",
      "text/plain": [
       "<Figure size 432x288 with 1 Axes>"
      ]
     },
     "metadata": {
      "needs_background": "light"
     },
     "output_type": "display_data"
    },
    {
     "name": "stdout",
     "output_type": "stream",
     "text": [
      "car\n",
      "(319597,)\n"
     ]
    },
    {
     "data": {
      "image/png": "[encoded data removed]",
      "text/plain": [
       "<Figure size 432x288 with 1 Axes>"
      ]
     },
     "metadata": {
      "needs_background": "light"
     },
     "output_type": "display_data"
    },
    {
     "name": "stdout",
     "output_type": "stream",
     "text": [
      "motorcycle\n",
      "(8495,)\n"
     ]
    },
    {
     "data": {
      "image/png": "[encoded data removed]",
      "text/plain": [
       "<Figure size 432x288 with 1 Axes>"
      ]
     },
     "metadata": {
      "needs_background": "light"
     },
     "output_type": "display_data"
    },
    {
     "name": "stdout",
     "output_type": "stream",
     "text": [
      "pedestrian\n",
      "(162985,)\n"
     ]
    },
    {
     "data": {
      "image/png": "[encoded data removed]",
      "text/plain": [
       "<Figure size 432x288 with 1 Axes>"
      ]
     },
     "metadata": {
      "needs_background": "light"
     },
     "output_type": "display_data"
    },
    {
     "name": "stdout",
     "output_type": "stream",
     "text": [
      "trailer\n",
      "(13449,)\n"
     ]
    },
    {
     "data": {
      "image/png": "[encoded data removed]",
      "text/plain": [
       "<Figure size 432x288 with 1 Axes>"
      ]
     },
     "metadata": {
      "needs_background": "light"
     },
     "output_type": "display_data"
    },
    {
     "name": "stdout",
     "output_type": "stream",
     "text": [
      "truck\n",
      "(48851,)\n"
     ]
    },
    {
     "data": {
      "image/png": "[encoded data removed]",
      "text/plain": [
       "<Figure size 432x288 with 1 Axes>"
      ]
     },
     "metadata": {
      "needs_background": "light"
     },
     "output_type": "display_data"
    }
   ],
   "source": [
    "for tracking_name in NUSCENES_TRACKING_NAMES: \n",
    "    print(tracking_name)\n",
    "    values = diff[tracking_name][:,6]\n",
    "    print(values.shape)\n",
    "    plt.hist(values, 250)\n",
    "    plt.gca().set_yscale(\"log\")\n",
    "    plt.show()"
   ]
  },
  {
   "cell_type": "markdown",
   "id": "refined-pearl",
   "metadata": {},
   "source": [
    "## Testing the miss detection rate and clutter rate"
   ]
  },
  {
   "cell_type": "code",
   "execution_count": 71,
   "id": "polished-sigma",
   "metadata": {},
   "outputs": [],
   "source": [
    "miss_detection_rate_file_name = \"/media/liangxu/ArmyData/nuscenes/Tracking_result/tracking_tmp/miss_detection_rate\"\n",
    "clutter_rate_file_name = \"/media/liangxu/ArmyData/nuscenes/Tracking_result/tracking_tmp/clutter_rate\"\n",
    "miss_detection_rate = pickle.load(open( miss_detection_rate_file_name , 'rb'))\n",
    "clutter_rate        = pickle.load(open( clutter_rate_file_name , 'rb'))"
   ]
  },
  {
   "cell_type": "code",
   "execution_count": 79,
   "id": "political-flashing",
   "metadata": {},
   "outputs": [
    {
     "name": "stdout",
     "output_type": "stream",
     "text": [
      "bicycle\n",
      "0.17546647823143685\n"
     ]
    },
    {
     "data": {
      "image/png": "[encoded data removed]",
      "text/plain": [
       "<Figure size 432x288 with 1 Axes>"
      ]
     },
     "metadata": {
      "needs_background": "light"
     },
     "output_type": "display_data"
    },
    {
     "name": "stdout",
     "output_type": "stream",
     "text": [
      "bus\n",
      "0.22741892512632061\n"
     ]
    },
    {
     "data": {
      "image/png": "[encoded data removed]",
      "text/plain": [
       "<Figure size 432x288 with 1 Axes>"
      ]
     },
     "metadata": {
      "needs_background": "light"
     },
     "output_type": "display_data"
    },
    {
     "name": "stdout",
     "output_type": "stream",
     "text": [
      "car\n",
      "0.23008693770454175\n"
     ]
    },
    {
     "data": {
      "image/png": "[encoded data removed]",
      "text/plain": [
       "<Figure size 432x288 with 1 Axes>"
      ]
     },
     "metadata": {
      "needs_background": "light"
     },
     "output_type": "display_data"
    },
    {
     "name": "stdout",
     "output_type": "stream",
     "text": [
      "motorcycle\n",
      "0.17746422387295707\n"
     ]
    },
    {
     "data": {
      "image/png": "[encoded data removed]",
      "text/plain": [
       "<Figure size 432x288 with 1 Axes>"
      ]
     },
     "metadata": {
      "needs_background": "light"
     },
     "output_type": "display_data"
    },
    {
     "name": "stdout",
     "output_type": "stream",
     "text": [
      "pedestrian\n",
      "0.14290858673907253\n"
     ]
    },
    {
     "data": {
      "image/png": "[encoded data removed]",
      "text/plain": [
       "<Figure size 432x288 with 1 Axes>"
      ]
     },
     "metadata": {
      "needs_background": "light"
     },
     "output_type": "display_data"
    },
    {
     "name": "stdout",
     "output_type": "stream",
     "text": [
      "trailer\n",
      "0.28530788819262637\n"
     ]
    },
    {
     "data": {
      "image/png": "[encoded data removed]",
      "text/plain": [
       "<Figure size 432x288 with 1 Axes>"
      ]
     },
     "metadata": {
      "needs_background": "light"
     },
     "output_type": "display_data"
    },
    {
     "name": "stdout",
     "output_type": "stream",
     "text": [
      "truck\n",
      "0.3149607594217675\n"
     ]
    },
    {
     "data": {
      "image/png": "[encoded data removed]",
      "text/plain": [
       "<Figure size 432x288 with 1 Axes>"
      ]
     },
     "metadata": {
      "needs_background": "light"
     },
     "output_type": "display_data"
    }
   ],
   "source": [
    "for tracking_name in NUSCENES_TRACKING_NAMES: \n",
    "    print(tracking_name)\n",
    "    values = miss_detection_rate[tracking_name]\n",
    "    print(np.mean(values))\n",
    "    plt.hist(values, 50)\n",
    "    plt.show()"
   ]
  },
  {
   "cell_type": "code",
   "execution_count": 80,
   "id": "fewer-statement",
   "metadata": {},
   "outputs": [
    {
     "name": "stdout",
     "output_type": "stream",
     "text": [
      "bicycle\n",
      "0.9115411522704274\n"
     ]
    },
    {
     "data": {
      "image/png": "[encoded data removed]",
      "text/plain": [
       "<Figure size 432x288 with 1 Axes>"
      ]
     },
     "metadata": {
      "needs_background": "light"
     },
     "output_type": "display_data"
    },
    {
     "name": "stdout",
     "output_type": "stream",
     "text": [
      "bus\n",
      "0.3612809676925432\n"
     ]
    },
    {
     "data": {
      "image/png": "[encoded data removed]",
      "text/plain": [
       "<Figure size 432x288 with 1 Axes>"
      ]
     },
     "metadata": {
      "needs_background": "light"
     },
     "output_type": "display_data"
    },
    {
     "name": "stdout",
     "output_type": "stream",
     "text": [
      "car\n",
      "0.5401523835124042\n"
     ]
    },
    {
     "data": {
      "image/png": "[encoded data removed]",
      "text/plain": [
       "<Figure size 432x288 with 1 Axes>"
      ]
     },
     "metadata": {
      "needs_background": "light"
     },
     "output_type": "display_data"
    },
    {
     "name": "stdout",
     "output_type": "stream",
     "text": [
      "motorcycle\n",
      "0.8659063094039738\n"
     ]
    },
    {
     "data": {
      "image/png": "[encoded data removed]",
      "text/plain": [
       "<Figure size 432x288 with 1 Axes>"
      ]
     },
     "metadata": {
      "needs_background": "light"
     },
     "output_type": "display_data"
    },
    {
     "name": "stdout",
     "output_type": "stream",
     "text": [
      "pedestrian\n",
      "0.7637450814802567\n"
     ]
    },
    {
     "data": {
      "image/png": "[encoded data removed]",
      "text/plain": [
       "<Figure size 432x288 with 1 Axes>"
      ]
     },
     "metadata": {
      "needs_background": "light"
     },
     "output_type": "display_data"
    },
    {
     "name": "stdout",
     "output_type": "stream",
     "text": [
      "trailer\n",
      "0.5696673222082385\n"
     ]
    },
    {
     "data": {
      "image/png": "[encoded data removed]",
      "text/plain": [
       "<Figure size 432x288 with 1 Axes>"
      ]
     },
     "metadata": {
      "needs_background": "light"
     },
     "output_type": "display_data"
    },
    {
     "name": "stdout",
     "output_type": "stream",
     "text": [
      "truck\n",
      "0.7157382173562927\n"
     ]
    },
    {
     "data": {
      "image/png": "[encoded data removed]",
      "text/plain": [
       "<Figure size 432x288 with 1 Axes>"
      ]
     },
     "metadata": {
      "needs_background": "light"
     },
     "output_type": "display_data"
    }
   ],
   "source": [
    "for tracking_name in NUSCENES_TRACKING_NAMES: \n",
    "    print(tracking_name)\n",
    "    values = clutter_rate[tracking_name]\n",
    "    print(np.mean(values))\n",
    "    plt.hist(values, 50)\n",
    "    plt.show()"
   ]
  },
  {
   "cell_type": "markdown",
   "id": "particular-gibson",
   "metadata": {},
   "source": [
    "## Creating the tracking data"
   ]
  },
  {
   "cell_type": "code",
   "execution_count": 72,
   "id": "aware-theme",
   "metadata": {},
   "outputs": [
    {
     "name": "stderr",
     "output_type": "stream",
     "text": [
      "100%|██████████| 64386/64386 [00:00<00:00, 968298.07it/s]\n",
      "  1%|          | 70/7542 [00:00<00:10, 679.28it/s]"
     ]
    },
    {
     "name": "stdout",
     "output_type": "stream",
     "text": [
      "Number of instance  64386\n",
      "total number of data sets  7542\n"
     ]
    },
    {
     "name": "stderr",
     "output_type": "stream",
     "text": [
      "100%|██████████| 7542/7542 [00:42<00:00, 175.69it/s]\n",
      " 14%|█▍        | 101/700 [00:00<00:00, 1007.95it/s]"
     ]
    },
    {
     "name": "stdout",
     "output_type": "stream",
     "text": [
      "Total Number of tracks  3540\n",
      "In [  0  ] scene_token  f0f120e4d4b0441da90ec53b16ee169d  has [  41  ] sample\n",
      "In [  1  ] scene_token  43d5f10c855048b9963c9eb288a8a001  has [  41  ] sample\n",
      "In [  2  ] scene_token  5c9bd7ead37e4aa9989f7909f3a78baa  has [  40  ] sample\n",
      "In [  3  ] scene_token  aa54277d163d419b9f952b014112643e  has [  41  ] sample\n",
      "In [  4  ] scene_token  5890face846e47a899246159b7c30bd7  has [  41  ] sample\n",
      "In [  5  ] scene_token  e3b6fe9201c64334be311d4249a0c80e  has [  41  ] sample\n",
      "In [  6  ] scene_token  ae643c14ded14e6ea74f8c8605200ed1  has [  41  ] sample\n",
      "In [  7  ] scene_token  2538a745a83f430eb590d48b4743e179  has [  40  ] sample\n",
      "In [  8  ] scene_token  1ec0b9bc3eca4b76b2610c519f843762  has [  40  ] sample\n",
      "In [  9  ] scene_token  7ed1b613f0ee47ceaf6d19ca3947f825  has [  39  ] sample\n",
      "In [  10  ] scene_token  b519ec833e23450a8bd3340b67f2516b  has [  41  ] sample\n",
      "In [  11  ] scene_token  103b54209e584cd4b7ed2890eca2e126  has [  41  ] sample\n",
      "In [  12  ] scene_token  ea4c42715ae24b0b952c57a9af1e7731  has [  41  ] sample\n",
      "In [  13  ] scene_token  c31adab2faea4db6ae5673eb8a507d00  has [  40  ] sample\n",
      "In [  14  ] scene_token  19284973bd0342998c37848e931a90d0  has [  40  ] sample\n",
      "In [  15  ] scene_token  7937f7d56b5444fd8c55052460e23807  has [  40  ] sample\n",
      "In [  16  ] scene_token  c0990deaa8954a54afc86f7710f349a1  has [  40  ] sample\n",
      "In [  17  ] scene_token  36b7b02f0f034f0595e3437a85554151  has [  40  ] sample\n",
      "In [  18  ] scene_token  5b9c64f03f8b4a4f8189a18d74f866c2  has [  40  ] sample\n",
      "In [  19  ] scene_token  16c90eedfc7943a5a4c64e84d18876a2  has [  40  ] sample\n",
      "In [  20  ] scene_token  9ac6dff089a84a6d8f066122443a10db  has [  40  ] sample\n",
      "In [  21  ] scene_token  76b36918bd4c487581a4196ffd1b1434  has [  40  ] sample\n",
      "In [  22  ] scene_token  48ff8fee13c344ed843af3eec8f9b94b  has [  41  ] sample\n",
      "In [  23  ] scene_token  b0525843a3b0463f91d715deff733b8f  has [  41  ] sample\n",
      "In [  24  ] scene_token  555c691be4704ef29559373e031441dd  has [  40  ] sample\n",
      "In [  25  ] scene_token  6d6314f1865343f987ca53107b694745  has [  41  ] sample\n",
      "In [  26  ] scene_token  1be49200788d4e38ae4496b27b233ccb  has [  41  ] sample\n",
      "In [  27  ] scene_token  e333874a12d64a7d956f23fe6a4c5c62  has [  40  ] sample\n",
      "In [  28  ] scene_token  23663ff8f4614b8bb005d67e51a69283  has [  40  ] sample\n",
      "In [  29  ] scene_token  63252988084b4943a50734990c47e039  has [  40  ] sample\n",
      "In [  30  ] scene_token  567fcd99d0dc4fa088f52b047f4ebdcf  has [  40  ] sample\n",
      "In [  31  ] scene_token  b79d940da8df43d09ee972c2414ffeca  has [  39  ] sample\n",
      "In [  32  ] scene_token  b57e1a48e584451f8f966ab083c8d07d  has [  40  ] sample\n",
      "In [  33  ] scene_token  1e3f0bd8063a4084b7104345b20bfb80  has [  40  ] sample\n",
      "In [  34  ] scene_token  b3318661150b4d6080886dc702989910  has [  41  ] sample\n",
      "In [  35  ] scene_token  7deb4760e2244f32b57f9d631b535b66  has [  40  ] sample\n",
      "In [  36  ] scene_token  8b60e7e47cde43e0a7fbd66d926de14f  has [  41  ] sample\n",
      "In [  37  ] scene_token  0e247ba64b9d4a34a7256b6c173b1b5d  has [  41  ] sample\n",
      "In [  38  ] scene_token  c6d1085c40614693a046dae3168bdb35  has [  40  ] sample\n",
      "In [  39  ] scene_token  cf10376382b74af1975be86f7190df20  has [  40  ] sample\n",
      "In [  40  ] scene_token  9c7062b34e064d6ab42124f3f0be233d  has [  41  ] sample\n",
      "In [  41  ] scene_token  87a71839e68b46da8e91fb5f21b50c1c  has [  39  ] sample\n",
      "In [  42  ] scene_token  fd2d419d4cf84a2d84922b9b7d2cea4d  has [  40  ] sample\n",
      "In [  43  ] scene_token  faa975eaad804c85bd8f2da9b30c8d9a  has [  41  ] sample\n",
      "In [  44  ] scene_token  2422d2652f4f42298a389a6e0dfef307  has [  41  ] sample\n",
      "In [  45  ] scene_token  482edf83eb664fdf90204c1830abe648  has [  41  ] sample\n",
      "In [  46  ] scene_token  2135a00f664d4a3bbfb938e007befa06  has [  41  ] sample\n",
      "In [  47  ] scene_token  8c45a7a9142f4f848d463cc46843db71  has [  40  ] sample\n",
      "In [  48  ] scene_token  d4c5db6faa9f443795ad86561e9e556e  has [  40  ] sample\n",
      "In [  49  ] scene_token  befb96098dc14988ac468a6bd3cbd4a0  has [  40  ] sample\n",
      "In [  50  ] scene_token  dd61533869aa48f2aaa7e8a6418bdbe6  has [  40  ] sample\n",
      "In [  51  ] scene_token  76b0df6376e246d284c9be42b1fc6be6  has [  40  ] sample\n",
      "In [  52  ] scene_token  212b65c558254e2084489bf76e371e1a  has [  40  ] sample\n",
      "In [  53  ] scene_token  5c76a3728b8b4d02ae20bd69fb928aa1  has [  40  ] sample\n",
      "In [  54  ] scene_token  782f9486adbd4546a492e69b6697ef70  has [  40  ] sample\n",
      "In [  55  ] scene_token  15e1fa06e30e438a98430cc1fd0e8a69  has [  39  ] sample\n",
      "In [  56  ] scene_token  126aa95f38b649fa857d48672c8ad808  has [  41  ] sample\n",
      "In [  57  ] scene_token  b2119bd765a94b0cb705424800307bbf  has [  40  ] sample\n",
      "In [  58  ] scene_token  f57957ebc5654b649a0786d993b64be4  has [  40  ] sample\n",
      "In [  59  ] scene_token  cb0cd06a1dd84271968466d7b65e48f8  has [  40  ] sample\n",
      "In [  60  ] scene_token  cf652a711c8e40209132036a95162fed  has [  40  ] sample\n",
      "In [  61  ] scene_token  5726dbbea8044103be584a85e2f3ee64  has [  40  ] sample\n",
      "In [  62  ] scene_token  02e484442a2f411b971edcf96ebbe885  has [  40  ] sample\n",
      "In [  63  ] scene_token  8383c0b1422b46ad90e2a64ff3e91fcf  has [  40  ] sample\n",
      "In [  64  ] scene_token  521f01dfc8c9402e8309e047e2eea112  has [  41  ] sample\n",
      "In [  65  ] scene_token  1c76efe7d0b048bc815c0445eeaa76ab  has [  41  ] sample\n",
      "In [  66  ] scene_token  0053e9c440a94c1b84bd9c4223efc4b0  has [  40  ] sample\n",
      "In [  67  ] scene_token  a2e3c0a763c04e56a5e26611eb69395b  has [  41  ] sample\n",
      "In [  68  ] scene_token  098c11f50ff2425a9ff994e004de1216  has [  40  ] sample\n",
      "In [  69  ] scene_token  ab8bf18dfce14db4b8213b88f5dc1429  has [  40  ] sample\n",
      "In [  70  ] scene_token  b7bb8ec5bf22476f8ba8ca0b2e57e8f6  has [  41  ] sample\n",
      "In [  71  ] scene_token  b528f78de55e41d9bb3382176dae1a4c  has [  40  ] sample\n",
      "In [  72  ] scene_token  209e9e9c3a2e4a399c44b6aa8be659d6  has [  41  ] sample\n",
      "In [  73  ] scene_token  1d4db80d13f342aba4881b38099bc4b7  has [  40  ] sample\n",
      "In [  74  ] scene_token  827712f3e79340d8878de0202c5b3960  has [  41  ] sample\n",
      "In [  75  ] scene_token  212fd4c9c9174635a7ec76051c8eec9e  has [  41  ] sample\n",
      "In [  76  ] scene_token  47a73fb6a41a4c4b9fe2897254dd3671  has [  41  ] sample\n",
      "In [  77  ] scene_token  52fa2df7fde34bd58ee30cff02b73f51  has [  40  ] sample\n",
      "In [  78  ] scene_token  6b6a24b7ae6b40ee95d60918f7f4cb2e  has [  40  ] sample\n",
      "In [  79  ] scene_token  ab7f4909bc6c4841a12020355a7d505c  has [  40  ] sample\n",
      "In [  80  ] scene_token  f12b4e7fb95646ec9dac305076024bb9  has [  40  ] sample\n",
      "In [  81  ] scene_token  d9a3087bab26405cb005221b979edd39  has [  40  ] sample\n",
      "In [  82  ] scene_token  8adaf76e6005413181924e6c83053a21  has [  41  ] sample\n",
      "In [  83  ] scene_token  8857cf15fa7049a6b000490835d3b9fc  has [  40  ] sample\n",
      "In [  84  ] scene_token  d91c7213cd1c48ae86a30bd82fc4fd25  has [  40  ] sample\n",
      "In [  85  ] scene_token  dbd9183e1278475ea54761297e004b04  has [  41  ] sample\n",
      "In [  86  ] scene_token  a6ebe93557f24cf9bcf613dbff0aab24  has [  41  ] sample\n",
      "In [  87  ] scene_token  85e8f6d6743a4897b5e07e685267868e  has [  41  ] sample\n",
      "In [  88  ] scene_token  f8ef029224b84d14843db98a76a7f4a1  has [  41  ] sample\n",
      "In [  89  ] scene_token  28e4134bcd664522907277f1ceec2893  has [  40  ] sample\n",
      "In [  90  ] scene_token  b526c20f7eed49f0886cdb4ba6b733e8  has [  41  ] sample\n",
      "In [  91  ] scene_token  55162149a9464d5bb0b0ebd914567e09  has [  40  ] sample\n",
      "In [  92  ] scene_token  64e1ad8a976542ab86c427d714550d06  has [  41  ] sample\n",
      "In [  93  ] scene_token  0b8948ee96ac46faad405bf1ffc70bb1  has [  40  ] sample\n",
      "In [  94  ] scene_token  09f67057dd8346388b28f79d9bb1cf04  has [  41  ] sample\n",
      "In [  95  ] scene_token  edf6a55a70114f6296143ed471251804  has [  41  ] sample\n",
      "In [  96  ] scene_token  0c601ff2bf004fccafec366b08bf29e2  has [  40  ] sample\n",
      "In [  97  ] scene_token  c7780850596641b8ab5f352d16b178e4  has [  41  ] sample\n",
      "In [  98  ] scene_token  797700339b014fb6aa61c1ea3778d587  has [  40  ] sample\n",
      "In [  99  ] scene_token  1f23540a109243438a5e3bd47e70105d  has [  41  ] sample\n",
      "In [  100  ] scene_token  eba4b7c19b5f48289e105937d03e5222  has [  40  ] sample\n",
      "In [  101  ] scene_token  0287702725184161af95373198546a59  has [  41  ] sample\n",
      "In [  102  ] scene_token  d58468c6097c425e89671a7b3f480acf  has [  40  ] sample\n",
      "In [  103  ] scene_token  1a819a84e3494177b47bea8c7f0770ec  has [  40  ] sample\n",
      "In [  104  ] scene_token  105c227c304b4cb18e98a5be6b2d8302  has [  40  ] sample\n",
      "In [  105  ] scene_token  8931a57994764c9b945a7a1b352c9ae5  has [  40  ] sample\n",
      "In [  106  ] scene_token  980ddcb62e294608bd4235b0dfd517f4  has [  40  ] sample\n",
      "In [  107  ] scene_token  390f81ac97474695a727d688240e6fba  has [  40  ] sample\n",
      "In [  108  ] scene_token  bef135921f374f838bf0badae55cac83  has [  40  ] sample\n",
      "In [  109  ] scene_token  4959ccdac5774a088d0c9e10667f09f1  has [  39  ] sample\n",
      "In [  110  ] scene_token  90d616aaefc4429380388205ebb23398  has [  39  ] sample\n",
      "In [  111  ] scene_token  64eef73c4f564a3db415e965f6460012  has [  41  ] sample\n",
      "In [  112  ] scene_token  7bbc6931b39b4ba3834240618fc4a4c2  has [  40  ] sample\n",
      "In [  113  ] scene_token  f143809fc26c4bb296f4f367b0954c26  has [  40  ] sample\n",
      "In [  114  ] scene_token  cffc45a1565446fab5014afb3da169e8  has [  40  ] sample\n",
      "In [  115  ] scene_token  f05ec45554f842ccb523caf326750f13  has [  41  ] sample\n",
      "In [  116  ] scene_token  727214583a2a478094d4f093d20c7060  has [  40  ] sample\n",
      "In [  117  ] scene_token  e233467e827140efa4b42d2b4c435855  has [  40  ] sample\n",
      "In [  118  ] scene_token  8d8728879b89405eba3f8ce1af138cb2  has [  41  ] sample\n",
      "In [  119  ] scene_token  04e5f089805540a5a9e73c1b7c54ee8c  has [  40  ] sample\n",
      "In [  120  ] scene_token  6ab3d1e9476d4cd89d4949d69d056901  has [  40  ] sample\n",
      "In [  121  ] scene_token  13c6a31ab85547b08dab2544024553a8  has [  40  ] sample\n",
      "In [  122  ] scene_token  4f18d9a7ed374a0fb93c026589dcf9a0  has [  41  ] sample\n",
      "In [  123  ] scene_token  82024d9f5f7f46dba436cd93c27173c7  has [  41  ] sample\n",
      "In [  124  ] scene_token  129304d659464b0fb3a51c99eaec114a  has [  40  ] sample\n",
      "In [  125  ] scene_token  1ad821fcfc9f4c24bb879ec7d5ba0ec1  has [  41  ] sample\n",
      "In [  126  ] scene_token  19f47b8941094af29b8db20b255717fc  has [  40  ] sample\n",
      "In [  127  ] scene_token  40a2faa275fe4b9bb7412259485bb46e  has [  41  ] sample\n",
      "In [  128  ] scene_token  c71940250758484c913c23850c284fba  has [  40  ] sample\n",
      "In [  129  ] scene_token  d39c6835da754adfa0f75183e685c403  has [  40  ] sample\n",
      "In [  130  ] scene_token  93481c2504474ca0b21d4abbab2cf3cf  has [  40  ] sample\n",
      "In [  131  ] scene_token  446af4b1d7da4735a607bc3e45c2e0b3  has [  40  ] sample\n",
      "In [  132  ] scene_token  359f9c029ae44e1d9d47c05bc7915561  has [  40  ] sample\n",
      "In [  133  ] scene_token  e757a98aa8794d448f65f5966b8ac954  has [  40  ] sample\n",
      "In [  134  ] scene_token  dc8302cfccdb4812a0a4a60dde595e18  has [  40  ] sample\n",
      "In [  135  ] scene_token  cd9db61edff14e8784678abb347cd674  has [  41  ] sample\n",
      "In [  136  ] scene_token  210add02013a4dfa84b7c5e23058781f  has [  40  ] sample\n",
      "In [  137  ] scene_token  2755560e05784e5cbc76619793d36e86  has [  40  ] sample\n",
      "In [  138  ] scene_token  da783af4b5124333911684dbaf31d969  has [  40  ] sample\n",
      "In [  139  ] scene_token  f634de95cc7043b8b38ceaac67d472cf  has [  41  ] sample\n",
      "In [  140  ] scene_token  6746ba640c0e45c7961efbe6af51757e  has [  39  ] sample\n",
      "In [  141  ] scene_token  64a3a2d22172406c848f2a92275808ba  has [  41  ] sample\n",
      "In [  142  ] scene_token  11058d54abcd4829828523040372ce05  has [  40  ] sample\n",
      "In [  143  ] scene_token  bcb05cffb5814973a6cff4fbdca2b99b  has [  39  ] sample\n",
      "In [  144  ] scene_token  fc9068b303e448a6bbcefd37204386a9  has [  39  ] sample\n",
      "In [  145  ] scene_token  7cf32f906f50415786414ce8bbe10e9b  has [  40  ] sample\n",
      "In [  146  ] scene_token  fbf27198b3424e28ab1de2a12eb3dc4a  has [  40  ] sample\n",
      "In [  147  ] scene_token  cdeb0e85e43e481a87b2251351e10c2f  has [  40  ] sample\n",
      "In [  148  ] scene_token  e71f69d57d944b6cb0ffc516a88b6104  has [  40  ] sample\n",
      "In [  149  ] scene_token  26c089d84086473e87607ae5c6ae85c6  has [  40  ] sample\n",
      "In [  150  ] scene_token  b09162caded44198b149b4bce3558056  has [  41  ] sample\n",
      "In [  151  ] scene_token  25f40f7316954a3e978e24d691e1a117  has [  40  ] sample\n",
      "In [  152  ] scene_token  1ecfbad2023f4b17b542801a21375e3f  has [  40  ] sample\n",
      "In [  153  ] scene_token  4772f5283211444eaabd463cd341d360  has [  41  ] sample\n",
      "In [  154  ] scene_token  4284a8d9b40d42edb9725543db91381e  has [  39  ] sample\n",
      "In [  155  ] scene_token  3a3c0ea9e3ce43918ee1765afd0f1319  has [  41  ] sample\n",
      "In [  156  ] scene_token  4bcb814456f044919bc052c208dbebc5  has [  40  ] sample\n",
      "In [  157  ] scene_token  c610d0ac2e2045a5972bda66ac42ede3  has [  40  ] sample\n",
      "In [  158  ] scene_token  d2db9f5df62c4d338d3bed43f616b954  has [  41  ] sample\n",
      "In [  159  ] scene_token  9047b53fd41540649dce014a128cbe1b  has [  40  ] sample\n",
      "In [  160  ] scene_token  6520b5f0d568414c973f791b30ee1548  has [  40  ] sample\n",
      "In [  161  ] scene_token  9544516643a14926bf750fc71c1b307d  has [  40  ] sample\n",
      "In [  162  ] scene_token  02f1e5e2fc544798aad223f5ae5e8440  has [  41  ] sample\n",
      "In [  163  ] scene_token  c6072dd4f7cc47efaad77889aa465ad6  has [  41  ] sample\n",
      "In [  164  ] scene_token  12cd5f88732749a58725528bb3d86958  has [  39  ] sample\n",
      "In [  165  ] scene_token  69295e26c8d146de94ea5307d8d74819  has [  39  ] sample\n",
      "In [  166  ] scene_token  c4ab236557c8423caa8add5fb48a0898  has [  41  ] sample\n",
      "In [  167  ] scene_token  4b5bf3f4668d44fea9a676e9c4a8a79e  has [  40  ] sample\n",
      "In [  168  ] scene_token  881c0b8d8efe4006a6c974128ee7f7c2  has [  41  ] sample\n",
      "In [  169  ] scene_token  f444b757d7e2444c889da10f02b73491  has [  40  ] sample\n",
      "In [  170  ] scene_token  ab6eea0e06c84f70be411a9d36636a7a  has [  40  ] sample\n",
      "In [  171  ] scene_token  cc9d6954dc6448359fc1e8aeafc5f760  has [  39  ] sample\n",
      "In [  172  ] scene_token  bed8426a524d45afab05b19cf02386b2  has [  40  ] sample\n",
      "In [  173  ] scene_token  7ad327c8827849ed91136bb2d04acec9  has [  40  ] sample\n",
      "In [  174  ] scene_token  2ba06ef7b3b44cbfad6d771981d86af9  has [  40  ] sample\n",
      "In [  175  ] scene_token  df8dfada99a04a81bd1b102eeb84e9bc  has [  40  ] sample\n",
      "In [  176  ] scene_token  295c6c85275e4376bc8446b4a76504cd  has [  40  ] sample\n",
      "In [  177  ] scene_token  3673601f263947fd9259640bd55622bd  has [  40  ] sample\n",
      "In [  178  ] scene_token  634a8c5835e44aec912604a9a1972a5d  has [  40  ] sample\n",
      "In [  179  ] scene_token  bd210a5bc7004d8c94b68cf6366612a2  has [  39  ] sample\n",
      "In [  180  ] scene_token  bb73edb93a0a46c4be997c576e9beb61  has [  39  ] sample\n",
      "In [  181  ] scene_token  f68ef41fbd1142d3a74f71be605a2227  has [  41  ] sample\n",
      "In [  182  ] scene_token  6bb64043c9db4f51b7a69e7260ed4f6e  has [  40  ] sample\n",
      "In [  183  ] scene_token  5035adcd18d34d4783c2ccb41db998c1  has [  41  ] sample\n",
      "In [  184  ] scene_token  860ef56791a947baadb27dd00bd5d4b3  has [  40  ] sample\n",
      "In [  185  ] scene_token  f0294478e1994642bac453f1e84610df  has [  41  ] sample\n",
      "In [  186  ] scene_token  fd0d4fdda5c04f7eb43ecd2097df56fa  has [  41  ] sample\n",
      "In [  187  ] scene_token  400b708de5d7434d8964da4a0246d164  has [  40  ] sample\n",
      "In [  188  ] scene_token  eac3102e4cc24d4b95532bcc711a902f  has [  39  ] sample\n",
      "In [  189  ] scene_token  32bae098e2434a09af1e7983e31fbf5c  has [  40  ] sample\n",
      "In [  190  ] scene_token  e209e66ff7834490b212c16cb12a1ce9  has [  40  ] sample\n",
      "In [  191  ] scene_token  862a468e56954dc9a833a9eb3ebd884b  has [  41  ] sample\n",
      "In [  192  ] scene_token  73b16c26a0d24c7a841e4cbe5d0d7878  has [  41  ] sample\n",
      "In [  193  ] scene_token  dcdea563c77544bb887de11d87619d3c  has [  40  ] sample\n",
      "In [  194  ] scene_token  277af8c7487f4f24bd2953d4dc8d11ff  has [  40  ] sample\n",
      "In [  195  ] scene_token  6308d6d934074a028fc3145eedf3e65f  has [  40  ] sample\n",
      "In [  196  ] scene_token  77b27e26bf6d4c38859ccfa076cee51d  has [  41  ] sample\n",
      "In [  197  ] scene_token  6207269cb9474c14b01f9610b2ee30aa  has [  40  ] sample\n",
      "In [  198  ] scene_token  b0b26c1e5a1140e69598422f12ae1dc0 "
     ]
    },
    {
     "name": "stderr",
     "output_type": "stream",
     "text": [
      " 43%|████▎     | 303/700 [00:00<00:00, 971.39it/s] "
     ]
    },
    {
     "name": "stdout",
     "output_type": "stream",
     "text": [
      " has [  39  ] sample\n",
      "In [  199  ] scene_token  2575c1870ede486b8568279b4731e47e  has [  41  ] sample\n",
      "In [  200  ] scene_token  bc8f2774ff4946d3965a807a6aa1b64f  has [  39  ] sample\n",
      "In [  201  ] scene_token  f7d01e23508040c2aec430e8da13fb76  has [  41  ] sample\n",
      "In [  202  ] scene_token  1891b66d9f58463399aa242f3b521232  has [  40  ] sample\n",
      "In [  203  ] scene_token  3b5f3391078e48ac92600cbdfa4ccbe6  has [  40  ] sample\n",
      "In [  204  ] scene_token  53e8446852bf488bb1b09ae032918bbd  has [  40  ] sample\n",
      "In [  205  ] scene_token  55c853d5aab04850a8059dc95e62c2ad  has [  40  ] sample\n",
      "In [  206  ] scene_token  a8bd4c1efe284a5bba46f59454764965  has [  41  ] sample\n",
      "In [  207  ] scene_token  1466f33b56704942a368fa03d10708dd  has [  40  ] sample\n",
      "In [  208  ] scene_token  717053dec2ef4baa913ba1e24c09edff  has [  40  ] sample\n",
      "In [  209  ] scene_token  e15260c4ed5b4505900d497ef92ddd2d  has [  40  ] sample\n",
      "In [  210  ] scene_token  3014465d5958427aac89c4f15b6050dd  has [  40  ] sample\n",
      "In [  211  ] scene_token  83773bcf46ac486383529098de0542dd  has [  41  ] sample\n",
      "In [  212  ] scene_token  03a8a37d5d444674bae34336e78ac39d  has [  41  ] sample\n",
      "In [  213  ] scene_token  bc5daf905b854dbc8944811c4b7c319d  has [  40  ] sample\n",
      "In [  214  ] scene_token  796e7ae080984a0ab2b96ce80f18ca3b  has [  40  ] sample\n",
      "In [  215  ] scene_token  b0644660d7864451bfc4b3432bb5b47e  has [  41  ] sample\n",
      "In [  216  ] scene_token  c5b36e5275cc4a2285d095e87347c49a  has [  40  ] sample\n",
      "In [  217  ] scene_token  5e30d846d2344ec2addfb664799d1899  has [  39  ] sample\n",
      "In [  218  ] scene_token  2bd47eabb64d4499862388cec180a7d1  has [  41  ] sample\n",
      "In [  219  ] scene_token  0cc28fe2c1064fb9a51f1647c28ca564  has [  40  ] sample\n",
      "In [  220  ] scene_token  c6c092a66329470f836714f46b92d59b  has [  41  ] sample\n",
      "In [  221  ] scene_token  66461d94f2e44d39a90843ff2dce11e8  has [  40  ] sample\n",
      "In [  222  ] scene_token  7bcc4753bdb64d2cb407b55cc4e4527f  has [  39  ] sample\n",
      "In [  223  ] scene_token  6b80170cd8404e6298d353bf1fa8dc0c  has [  40  ] sample\n",
      "In [  224  ] scene_token  98fc76cc0e364efdaa7e86a36b666dda  has [  41  ] sample\n",
      "In [  225  ] scene_token  69a38ccf0894467fbae658d28d4fd10a  has [  40  ] sample\n",
      "In [  226  ] scene_token  2c96ff6afc9e4cf7bc8b107fce955c1f  has [  41  ] sample\n",
      "In [  227  ] scene_token  3469d30a6e2a4d878fb0ff899346b7de  has [  41  ] sample\n",
      "In [  228  ] scene_token  fe3aa64e4339456186c38c6308f5fb1a  has [  40  ] sample\n",
      "In [  229  ] scene_token  ab40eb69df49448d83628f611b2ca273  has [  40  ] sample\n",
      "In [  230  ] scene_token  a2b64d02c5fa4b9bab671a97561b6b33  has [  40  ] sample\n",
      "In [  231  ] scene_token  fb3aaad97849430cbc32891319c9be10  has [  39  ] sample\n",
      "In [  232  ] scene_token  fd5a3c6d3ad44954a8045edbe9d93763  has [  40  ] sample\n",
      "In [  233  ] scene_token  35ecd252b8ee4cbc83376148e192a803  has [  40  ] sample\n",
      "In [  234  ] scene_token  4bf8fb20e4744bd391beb07b2424b30a  has [  40  ] sample\n",
      "In [  235  ] scene_token  01c8c59260db4a3682d7b4f8da65425e  has [  40  ] sample\n",
      "In [  236  ] scene_token  ea68050d37ea40688241b2dc361ec886  has [  41  ] sample\n",
      "In [  237  ] scene_token  23e33c8bba1f411ba5871dc074f8dbf8  has [  40  ] sample\n",
      "In [  238  ] scene_token  3ace9decdd1f4ea0915b9862c95ca128  has [  40  ] sample\n",
      "In [  239  ] scene_token  7540f31d12f1439db67a50be7726c70d  has [  40  ] sample\n",
      "In [  240  ] scene_token  d825d5544592463e8c138473502dfeea  has [  39  ] sample\n",
      "In [  241  ] scene_token  19640fe4b6894f97b16e0faad51432b4  has [  40  ] sample\n",
      "In [  242  ] scene_token  6193fac132614eb1a09dcbf3f359460f  has [  41  ] sample\n",
      "In [  243  ] scene_token  75ebb308bea04317adbc25554d5cd7f5  has [  40  ] sample\n",
      "In [  244  ] scene_token  5a2aac9df32945d183fc81924ff148b6  has [  41  ] sample\n",
      "In [  245  ] scene_token  4d475873416a4860900f5af213e0027c  has [  39  ] sample\n",
      "In [  246  ] scene_token  cd1a8954ff904333bb13fa1a6ee526fd  has [  39  ] sample\n",
      "In [  247  ] scene_token  c67b72f4a0bd4f2b96ecbd0e01c58232  has [  40  ] sample\n",
      "In [  248  ] scene_token  102b894332464704900264216480a8f7  has [  41  ] sample\n",
      "In [  249  ] scene_token  10dfdae842b543938a230f25a1e9f934  has [  40  ] sample\n",
      "In [  250  ] scene_token  4b48dfc43a3f411b88a71031d77e5696  has [  39  ] sample\n",
      "In [  251  ] scene_token  2bbae5e654224cbeb5884c471e2ad05e  has [  41  ] sample\n",
      "In [  252  ] scene_token  36349e9caeff483e9d8d25e9743b9f5b  has [  41  ] sample\n",
      "In [  253  ] scene_token  cf3db17f34cd412faca3535ac8c7069a  has [  41  ] sample\n",
      "In [  254  ] scene_token  13be0238abba499e95ba4e6404b22223  has [  40  ] sample\n",
      "In [  255  ] scene_token  9a442b0f6b7a41568b3e4f7b7ba58402  has [  40  ] sample\n",
      "In [  256  ] scene_token  14b96c255dee4a838a8d401302ac2852  has [  40  ] sample\n",
      "In [  257  ] scene_token  62696ecd66a3445da436ce2d87ee3501  has [  40  ] sample\n",
      "In [  258  ] scene_token  aee27b55da77468ba444357348f5cf88  has [  41  ] sample\n",
      "In [  259  ] scene_token  433a14f8dcf5457fb2c4def5c749122a  has [  39  ] sample\n",
      "In [  260  ] scene_token  22daa579e9d54040b3f76a4eeef3a587  has [  39  ] sample\n",
      "In [  261  ] scene_token  2121cc12888e47ce856dc5391f202594  has [  40  ] sample\n",
      "In [  262  ] scene_token  034256c9639044f98da7562ef3de3646  has [  41  ] sample\n",
      "In [  263  ] scene_token  efe3681f556b43e6aa65bf7bfc61a2f8  has [  40  ] sample\n",
      "In [  264  ] scene_token  73030fb67d3c46cfb5e590168088ae39  has [  40  ] sample\n",
      "In [  265  ] scene_token  1fbcc26ebf6948bb964d3ae74939e8ea  has [  40  ] sample\n",
      "In [  266  ] scene_token  798e8504b4364d378270333a349ef508  has [  39  ] sample\n",
      "In [  267  ] scene_token  28db6ee9a8d34e9e88e741817b6733c1  has [  41  ] sample\n",
      "In [  268  ] scene_token  7061c4fa99a44d02af4a3e2689be4457  has [  41  ] sample\n",
      "In [  269  ] scene_token  4db0eee3b82d49b198c1a411cf7f7d68  has [  39  ] sample\n",
      "In [  270  ] scene_token  9f5f2211d6f943a89dd87bbe9703539d  has [  40  ] sample\n",
      "In [  271  ] scene_token  579fb61492be4ffc97132658f8e4bb9c  has [  40  ] sample\n",
      "In [  272  ] scene_token  2ce2df158372461fa91ce77455656f81  has [  40  ] sample\n",
      "In [  273  ] scene_token  de943e246dad4ad686de98008a634ecf  has [  40  ] sample\n",
      "In [  274  ] scene_token  643ee37539844cb2b0453fd031a3afdd  has [  41  ] sample\n",
      "In [  275  ] scene_token  e329b73341204af7a9de29e65291ce1c  has [  40  ] sample\n",
      "In [  276  ] scene_token  5a3283d8aad24bba8cd36bfc1619064a  has [  40  ] sample\n",
      "In [  277  ] scene_token  f2e4460c1fd149ec8068626837f20013  has [  41  ] sample\n",
      "In [  278  ] scene_token  78c5f7d7b547483c906d8524a8c3190f  has [  40  ] sample\n",
      "In [  279  ] scene_token  97ba0e14805b42f292db7f06b6d1121b  has [  41  ] sample\n",
      "In [  280  ] scene_token  8399be3e75814cc793d145986318c45d  has [  40  ] sample\n",
      "In [  281  ] scene_token  4ea72ee843914a6cbd755e39f2489156  has [  40  ] sample\n",
      "In [  282  ] scene_token  e54f4a36a8b94aebbe4189186dee8f05  has [  41  ] sample\n",
      "In [  283  ] scene_token  fee7ac5f5c1e4943877cd20d6e069427  has [  40  ] sample\n",
      "In [  284  ] scene_token  ab5bc0504e2c4103ab306c5bd18f6791  has [  41  ] sample\n",
      "In [  285  ] scene_token  087c6e521e974c708d49cac1db095691  has [  40  ] sample\n",
      "In [  286  ] scene_token  f77e66f97d204b5da547f6c007dc2abf  has [  40  ] sample\n",
      "In [  287  ] scene_token  fccdb073bc54449a99f033e040ad51a2  has [  41  ] sample\n",
      "In [  288  ] scene_token  c74a3a7265ae45f99f65628fbd7cd2a4  has [  39  ] sample\n",
      "In [  289  ] scene_token  30ae9c1092f6404a9e6aa0589e809780  has [  40  ] sample\n",
      "In [  290  ] scene_token  45fc8a7a26c5469a88db999ae8468777  has [  40  ] sample\n",
      "In [  291  ] scene_token  a1e7cd557b9541dbb00822ea0c56204b  has [  40  ] sample\n",
      "In [  292  ] scene_token  c0cb50847c3949a0b4baf2e200ac897c  has [  40  ] sample\n",
      "In [  293  ] scene_token  a99120daccb24bcd941b33e6e03bf718  has [  40  ] sample\n",
      "In [  294  ] scene_token  c3e0e9f6ee8d4170a3d22a6179f1ca3a  has [  40  ] sample\n",
      "In [  295  ] scene_token  38b3010304734913bb148d17ebbc352b  has [  41  ] sample\n",
      "In [  296  ] scene_token  cf550d9670274ac1a7f274fbacb39c48  has [  40  ] sample\n",
      "In [  297  ] scene_token  cfeb880362694fa7a428aec2fd139daa  has [  41  ] sample\n",
      "In [  298  ] scene_token  26540bfbab79463cb1ba76b52ec6013b  has [  40  ] sample\n",
      "In [  299  ] scene_token  1319a9c0288f4ff9ae32d3f33b3bae17  has [  40  ] sample\n",
      "In [  300  ] scene_token  69e393da7cb54eb6bea7927a2af0d1ee  has [  40  ] sample\n",
      "In [  301  ] scene_token  857922568e4e4fb89c3ee3010eb93c7c  has [  40  ] sample\n",
      "In [  302  ] scene_token  2f093cad7209436aa06e103bfe062857  has [  39  ] sample\n",
      "In [  303  ] scene_token  5ab815cbcfee494499e41151890d6d8f  has [  40  ] sample\n",
      "In [  304  ] scene_token  bf753f22bc524274bc359467e0be149c  has [  41  ] sample\n",
      "In [  305  ] scene_token  57146b2ebf10432f84b15a3038fe1755  has [  40  ] sample\n",
      "In [  306  ] scene_token  5fc7c5dfc56b4971b14005bc53f69908  has [  41  ] sample\n",
      "In [  307  ] scene_token  c949ec2cca7047bdb67dce64b6c3586a  has [  40  ] sample\n",
      "In [  308  ] scene_token  00590cbfa24a430a8c274b51e1c71231  has [  40  ] sample\n",
      "In [  309  ] scene_token  bd850592cd2541288b177b8e20baa31e  has [  40  ] sample\n",
      "In [  310  ] scene_token  e083627747d8499a8c4e94c7abf941e2  has [  41  ] sample\n",
      "In [  311  ] scene_token  37cfda558193400bbe3a5ff14ae4606e  has [  41  ] sample\n",
      "In [  312  ] scene_token  a4fe925930de41489b12b85b77d2f0cb  has [  40  ] sample\n",
      "In [  313  ] scene_token  1e9283d1ce98428aaa3b851487eb4f58  has [  41  ] sample\n",
      "In [  314  ] scene_token  55638ae3a8b34572aef756ee7fbce0df  has [  40  ] sample\n",
      "In [  315  ] scene_token  d7823d64ca1a47c5842beb6d7197042d  has [  41  ] sample\n",
      "In [  316  ] scene_token  deab903b0b644d7a984c552968026631  has [  40  ] sample\n",
      "In [  317  ] scene_token  9a81caa3d5134d7f87ee4786ccef68f7  has [  39  ] sample\n",
      "In [  318  ] scene_token  66134aebdaca4aca82aec91ec8c6245e  has [  40  ] sample\n",
      "In [  319  ] scene_token  0c12123d57594f4d81d32fd4aa89fb1f  has [  40  ] sample\n",
      "In [  320  ] scene_token  06c43bc74aff453081ce83eb126a756e  has [  40  ] sample\n",
      "In [  321  ] scene_token  019b370afb444a2e8ce85654898307c8  has [  39  ] sample\n",
      "In [  322  ] scene_token  2dc89e0f9c6c4dbab908d341fab020c6  has [  40  ] sample\n",
      "In [  323  ] scene_token  73d9a36f20594e658020ebfc5b0ba74a  has [  39  ] sample\n",
      "In [  324  ] scene_token  4c5c675340d14cd88a65b5e22eb9c9c1  has [  41  ] sample\n",
      "In [  325  ] scene_token  d3c39710e9da42f48b605824ce2a1927  has [  40  ] sample\n",
      "In [  326  ] scene_token  2911b04ae82a45f386ad4f79457dd73f  has [  41  ] sample\n",
      "In [  327  ] scene_token  fb20ca9935c4439e8125ba830abcf9dc  has [  40  ] sample\n",
      "In [  328  ] scene_token  28d385e6db0e495da3a606b58e2432f0  has [  40  ] sample\n",
      "In [  329  ] scene_token  ba76f4185aa34ed3bff467ac640da902  has [  40  ] sample\n",
      "In [  330  ] scene_token  7463b2d752f0464f803b07a945ee7c5a  has [  41  ] sample\n",
      "In [  331  ] scene_token  4efde86424ea4088a43faeb5158ceabf  has [  41  ] sample\n",
      "In [  332  ] scene_token  41e0d46e715a476ab05e4d62e415ea41  has [  40  ] sample\n",
      "In [  333  ] scene_token  2ffd7e2a1daf4b928464ddb2ed3dca59  has [  40  ] sample\n",
      "In [  334  ] scene_token  febc1800b9ed432d96aee5ecf0156831  has [  40  ] sample\n",
      "In [  335  ] scene_token  d3d94f2ce3dc4db4b3ba6f4aa81c3987  has [  41  ] sample\n",
      "In [  336  ] scene_token  37a37b06ba5e4f978fc6cb77e90f2498  has [  41  ] sample\n",
      "In [  337  ] scene_token  1977a1c98a6c4eb79fbc2a6dc0da9b0f  has [  40  ] sample\n",
      "In [  338  ] scene_token  7e2d9f38f8eb409ea57b3864bb4ed098  has [  40  ] sample\n",
      "In [  339  ] scene_token  c468cdcc838143d480b5b9c835c8380c  has [  41  ] sample\n",
      "In [  340  ] scene_token  e8bda599a2d44d76a7692caeacb1ba6e  has [  41  ] sample\n",
      "In [  341  ] scene_token  ce2d6bdc33084dc1a2780f41f6740e06  has [  40  ] sample\n",
      "In [  342  ] scene_token  f29904c2bcdc4d78bbcac75a2b30fe38  has [  41  ] sample\n",
      "In [  343  ] scene_token  5560a973257e407b8d5bf9fb92b1e0f3  has [  40  ] sample\n",
      "In [  344  ] scene_token  f4395dd8e4004f12a8dec3079a93d804  has [  39  ] sample\n",
      "In [  345  ] scene_token  d654cae175de44319ace178994ed0329  has [  40  ] sample\n",
      "In [  346  ] scene_token  095d9b93b583425f910ae2afaf1d017d  has [  39  ] sample\n",
      "In [  347  ] scene_token  d90b94e8bfd446cd9407f48665122268  has [  40  ] sample\n",
      "In [  348  ] scene_token  9c83e438973e4824853e6a38928ca4ff  has [  40  ] sample\n",
      "In [  349  ] scene_token  1fa63d31aaa7459383b4414715cd12db  has [  40  ] sample\n",
      "In [  350  ] scene_token  e3d714da71d2477695a055716ede7130  has [  41  ] sample\n",
      "In [  351  ] scene_token  52b30ecd104a4f4eab6f8f5684a73e56  has [  40  ] sample\n",
      "In [  352  ] scene_token  f13bd38bf9b64d579a63d4e7d750f592  has [  40  ] sample\n",
      "In [  353  ] scene_token  e02aee6f1fec4d13ad77044466da5fb4  has [  40  ] sample\n",
      "In [  354  ] scene_token  f612aec0c3e34e32b2e9e48670cdecca  has [  41  ] sample\n",
      "In [  355  ] scene_token  c324de94562d41498a2d4b7d51c5ce78  has [  40  ] sample\n",
      "In [  356  ] scene_token  66be189398d74681a8b8db4b7dd52259  has [  41  ] sample\n",
      "In [  357  ] scene_token  7e3a6bdd6c6f4c8fb018cff404974446  has [  40  ] sample\n",
      "In [  358  ] scene_token  4a4d09496d594c7385a1ec227bdb3a7f  has [  41  ] sample\n",
      "In [  359  ] scene_token  6e820d4c44b74793aacd0c7091488865  has [  40  ] sample\n",
      "In [  360  ] scene_token  c6da5920d2bc459bb3bc51ee6b9fdd7e  has [  40  ] sample\n",
      "In [  361  ] scene_token  ea9d0ef295c14dafb5653ede3f9f29a1  has [  40  ] sample\n",
      "In [  362  ] scene_token  44f25e0b668e4077abf57f3df320bb57  has [  41  ] sample\n",
      "In [  363  ] scene_token  04061484361145f5ac6f90a5103b84a6  has [  40  ] sample\n",
      "In [  364  ] scene_token  4ed628299b1e45a3a73704e8cf8287a9  has [  41  ] sample\n",
      "In [  365  ] scene_token  673ce9bdd9254fff82a524653a07b57f  has [  41  ] sample\n",
      "In [  366  ] scene_token  599c50b42e294116bd702c9e5cc830a3  has [  41  ] sample\n",
      "In [  367  ] scene_token  93032908bafd484ea10a39b0d5d3fff6  has [  40  ] sample\n",
      "In [  368  ] scene_token  24d0c3ea8a2049468201c055667d6bc3  has [  41  ] sample\n",
      "In [  369  ] scene_token  1959c8f440a340fda3ea2cac0ac528ec  has [  40  ] sample\n",
      "In [  370  ] scene_token  d6e6f5d622474271b695f4c7f07df7bb  has [  40  ] sample\n",
      "In [  371  ] scene_token  6447a9c30b0140d783871b08104ae7b3  has [  40  ] sample\n",
      "In [  372  ] scene_token  85a9c262809d4ac49d2a9b1f8a1487e8  has [  40  ] sample\n",
      "In [  373  ] scene_token  68fc5e3698a544d1bdf5847b88ad77d4  has [  40  ] sample\n",
      "In [  374  ] scene_token  fc61f52dcc1b4def95a278665d23af00  has [  39  ] sample\n",
      "In [  375  ] scene_token  97349fd50e694a5f994b0954047b96d0  has [  40  ] sample\n",
      "In [  376  ] scene_token  4047f251c21a475abb49518e0fa6fa9e  has [  40  ] sample\n",
      "In [  377  ] scene_token  37b32e4e8cf846679b2c0cb342dbd4aa  has [  40  ] sample\n",
      "In [  378  ] scene_token  2d8e61ea27fd419ba9b708488e3f2f10  has [  40  ] sample\n",
      "In [  379  ] scene_token  270fe8382f884386b3445143fa946200  has [  40  ] sample\n",
      "In [  380  ] scene_token  406a61a4d394432e95a7e8426a97551f  has [  40  ] sample\n",
      "In [  381  ] scene_token  d25718445d89453381c659b9c8734939  has [  41  ] sample\n",
      "In [  382  ] scene_token  59530445fcc04c2090bfaf63f342f794  has [  40"
     ]
    },
    {
     "name": "stderr",
     "output_type": "stream",
     "text": [
      " 74%|███████▍  | 519/700 [00:00<00:00, 959.31it/s] "
     ]
    },
    {
     "name": "stdout",
     "output_type": "stream",
     "text": [
      "  ] sample\n",
      "In [  383  ] scene_token  17302a41218442ffbb0b094adb0669ab  has [  40  ] sample\n",
      "In [  384  ] scene_token  ef5f216134a94e308697ab4c75402a20  has [  40  ] sample\n",
      "In [  385  ] scene_token  d9161e521b1644cea4cb9e3f21ef9f79  has [  40  ] sample\n",
      "In [  386  ] scene_token  affb0caa5d2948f98cee5c42c7aefc1c  has [  41  ] sample\n",
      "In [  387  ] scene_token  8dd4349e80c345afac455cf76074f028  has [  40  ] sample\n",
      "In [  388  ] scene_token  3032b651c72e4b5c86d4dea1b4930689  has [  40  ] sample\n",
      "In [  389  ] scene_token  d95a36c034344ae2ac11daf2ba1b2c60  has [  41  ] sample\n",
      "In [  390  ] scene_token  373bf99c103d4464a7b963a83523fbcb  has [  41  ] sample\n",
      "In [  391  ] scene_token  590b4e5a4f94426ab3b1a66f35e140d5  has [  40  ] sample\n",
      "In [  392  ] scene_token  03ee880dd4e348f4b3407f0d073c7c70  has [  40  ] sample\n",
      "In [  393  ] scene_token  7365754410624f2f85087003f4ed41ad  has [  40  ] sample\n",
      "In [  394  ] scene_token  d033fb0d79ea42b9a356fa5162172598  has [  41  ] sample\n",
      "In [  395  ] scene_token  881da81bb35a4bdb925e0a2884ee7f0f  has [  40  ] sample\n",
      "In [  396  ] scene_token  e1e664292aa144bc8d0d5d6441df084c  has [  40  ] sample\n",
      "In [  397  ] scene_token  2f0e54af35964a3fb347359836bec035  has [  41  ] sample\n",
      "In [  398  ] scene_token  6946bd49ebe648b7a8c4555774059bc8  has [  40  ] sample\n",
      "In [  399  ] scene_token  8b43539a55374b6c8ed60c95a42d63a2  has [  39  ] sample\n",
      "In [  400  ] scene_token  fcb40dc8514444c49b1fdc06f80a123b  has [  40  ] sample\n",
      "In [  401  ] scene_token  1d914f73a4a243c3acac50d24f083aac  has [  40  ] sample\n",
      "In [  402  ] scene_token  a5887dd5d6d947e4af581b915716d51c  has [  40  ] sample\n",
      "In [  403  ] scene_token  9056ac9944e846109b00e31cc96259cb  has [  40  ] sample\n",
      "In [  404  ] scene_token  762e6aac0d6f4c1b9b0286ab4b2da654  has [  39  ] sample\n",
      "In [  405  ] scene_token  75a4ec12042542149b0a77a0a10d6330  has [  39  ] sample\n",
      "In [  406  ] scene_token  865c607c8ef44f13b39744a0de110740  has [  40  ] sample\n",
      "In [  407  ] scene_token  010fb5bcc7984d0f8f07f99e02366df1  has [  40  ] sample\n",
      "In [  408  ] scene_token  c9d654d4279c4efa9745a25ba6b373ee  has [  40  ] sample\n",
      "In [  409  ] scene_token  566311b8201e416f9f99463656dcadce  has [  40  ] sample\n",
      "In [  410  ] scene_token  7b4a37ecca84421fbc22ad15e8b00ed8  has [  41  ] sample\n",
      "In [  411  ] scene_token  af128e79b77a4a4b8bfcd997c320b2a9  has [  39  ] sample\n",
      "In [  412  ] scene_token  5674c9e612cc4f7793330a361755830a  has [  41  ] sample\n",
      "In [  413  ] scene_token  76c632788f8c4516bef1c4297f2002f6  has [  40  ] sample\n",
      "In [  414  ] scene_token  ea0979999bf84ee6a6230b1bde7ec723  has [  41  ] sample\n",
      "In [  415  ] scene_token  88abbe4f3b37466791b2ae58490044d9  has [  41  ] sample\n",
      "In [  416  ] scene_token  0e37d4a357db4246a908cfd97d17efc6  has [  39  ] sample\n",
      "In [  417  ] scene_token  2175d0e84f224ea69907e5c338bde395  has [  40  ] sample\n",
      "In [  418  ] scene_token  bebf5f5b2a674631ab5c88fd1aa9e87a  has [  41  ] sample\n",
      "In [  419  ] scene_token  773e6b4f990f4044bed5ea7036ea7c3b  has [  40  ] sample\n",
      "In [  420  ] scene_token  75548269eb0a4614a6f84ab8d7713196  has [  40  ] sample\n",
      "In [  421  ] scene_token  c7604a179ea94e45857ec2c16416e5ad  has [  40  ] sample\n",
      "In [  422  ] scene_token  a6fae4900f8e46cba689b59b5bc8a2ab  has [  40  ] sample\n",
      "In [  423  ] scene_token  7f03cd19d9cc4381a591fca00666d7ed  has [  40  ] sample\n",
      "In [  424  ] scene_token  a6daedc3063b421cb3a05019e545f925  has [  40  ] sample\n",
      "In [  425  ] scene_token  d1455a9d8add42dba52beac59a67259c  has [  41  ] sample\n",
      "In [  426  ] scene_token  27dc2edfb6524c7d8997ac3573ed2f3d  has [  39  ] sample\n",
      "In [  427  ] scene_token  928ee3a8c5a84497a6360fe70a4e921e  has [  32  ] sample\n",
      "In [  428  ] scene_token  bc4fd5a05a004333b9411754630f4cba  has [  40  ] sample\n",
      "In [  429  ] scene_token  78f63999591a49a195b872ddc368a146  has [  40  ] sample\n",
      "In [  430  ] scene_token  792b78f6cbcf413c821cb591630cddfb  has [  40  ] sample\n",
      "In [  431  ] scene_token  34ca95580d2d4c45a68b471d5afb3e27  has [  40  ] sample\n",
      "In [  432  ] scene_token  1b5ef5ecb2084b89aa0314d65f25d9e1  has [  40  ] sample\n",
      "In [  433  ] scene_token  d0880a386b6d434bb5cd13c134af7a3e  has [  40  ] sample\n",
      "In [  434  ] scene_token  3bc4553925494890a21ef7a15c40eaed  has [  39  ] sample\n",
      "In [  435  ] scene_token  d987908d74794138b07d1237887bb441  has [  40  ] sample\n",
      "In [  436  ] scene_token  eae0cfe3be5f44a5be4f3e2c961397ed  has [  40  ] sample\n",
      "In [  437  ] scene_token  77c9f156f8594ed59dcdacb8b877a7ac  has [  40  ] sample\n",
      "In [  438  ] scene_token  70e7d95ee1d1426fa84da44ddbf82d7a  has [  41  ] sample\n",
      "In [  439  ] scene_token  01c3f5e39956402da3e37845632fadca  has [  39  ] sample\n",
      "In [  440  ] scene_token  fb255bba9b6a4f37a8894e336d2136f1  has [  41  ] sample\n",
      "In [  441  ] scene_token  70c3b2f2b1f3403083fd44d06cc5abe0  has [  41  ] sample\n",
      "In [  442  ] scene_token  0be1ff07a8f148ca9535fb7f0deaf828  has [  40  ] sample\n",
      "In [  443  ] scene_token  dc9ef63b61394d3d8effeb51919f2144  has [  40  ] sample\n",
      "In [  444  ] scene_token  e0a212aafd574781b122a6ba66599a1e  has [  41  ] sample\n",
      "In [  445  ] scene_token  5a1d2867bb504c888a628ad549cc10b6  has [  41  ] sample\n",
      "In [  446  ] scene_token  078e6d7a3d4a429bba404bf12c7a98f2  has [  41  ] sample\n",
      "In [  447  ] scene_token  9a61a88ed9094334a73aa93c08222110  has [  40  ] sample\n",
      "In [  448  ] scene_token  d7ebcbbd26d849b384c11bec8df28a9b  has [  40  ] sample\n",
      "In [  449  ] scene_token  bd22f197e9f648cba8e307869479629b  has [  41  ] sample\n",
      "In [  450  ] scene_token  4deb245e67374cd88e64d6557b652841  has [  41  ] sample\n",
      "In [  451  ] scene_token  363bb6c0fdaf465aa54c39f082bb92c6  has [  40  ] sample\n",
      "In [  452  ] scene_token  7ad94b6e54f641208bf59cba6bb55220  has [  40  ] sample\n",
      "In [  453  ] scene_token  c8e6213038884d05907b1edd7e55552e  has [  41  ] sample\n",
      "In [  454  ] scene_token  bd916d78cb3149999182fb3ce4eb8a8d  has [  41  ] sample\n",
      "In [  455  ] scene_token  d0b2d916178a402a842c88f394d7d7e8  has [  40  ] sample\n",
      "In [  456  ] scene_token  f30849d00388491fa6997a13d56c73fd  has [  40  ] sample\n",
      "In [  457  ] scene_token  53d376c20b7146349a53554a4616c48c  has [  41  ] sample\n",
      "In [  458  ] scene_token  9a0d2af517ff44f587c93254ee657215  has [  40  ] sample\n",
      "In [  459  ] scene_token  f98a50e675b14266a6c53cb25a0351fa  has [  40  ] sample\n",
      "In [  460  ] scene_token  43017e1e57174925ae241b2ebff7991b  has [  40  ] sample\n",
      "In [  461  ] scene_token  0d2cc345342a460e94ff54748338ac22  has [  40  ] sample\n",
      "In [  462  ] scene_token  f36162eac28641a0978032ff89e0f752  has [  40  ] sample\n",
      "In [  463  ] scene_token  7d6006ae9d8f406aa99756156ea4f70a  has [  40  ] sample\n",
      "In [  464  ] scene_token  788c5502523f4d01b3a8de47ec3dadfb  has [  41  ] sample\n",
      "In [  465  ] scene_token  b68cfa7e0bd64bd395fd922d750cfdd2  has [  40  ] sample\n",
      "In [  466  ] scene_token  01796494e25c448dadaba70cfcc3532d  has [  40  ] sample\n",
      "In [  467  ] scene_token  2376fcdd28a44b83962289664cee55b7  has [  41  ] sample\n",
      "In [  468  ] scene_token  89f20737ec344aa48b543a9e005a38ca  has [  41  ] sample\n",
      "In [  469  ] scene_token  3359935281a34136992997acab7cdddd  has [  41  ] sample\n",
      "In [  470  ] scene_token  20b987b503444b3d9996c8f66946afa3  has [  40  ] sample\n",
      "In [  471  ] scene_token  88084e0150d64dd1949a9cf1493e5188  has [  41  ] sample\n",
      "In [  472  ] scene_token  53484b9d012842bb98719a9d12b038ca  has [  40  ] sample\n",
      "In [  473  ] scene_token  b829278aae2747959f2a95423455bbcb  has [  40  ] sample\n",
      "In [  474  ] scene_token  cb3ef7b7ef124983b336c781f134cdfb  has [  40  ] sample\n",
      "In [  475  ] scene_token  d0de3bf834b747179080898725b0f21d  has [  40  ] sample\n",
      "In [  476  ] scene_token  2fc3753772e241f2ab2cd16a784cc680  has [  41  ] sample\n",
      "In [  477  ] scene_token  d865cb18632040fdb4cb06b6e3331cdb  has [  39  ] sample\n",
      "In [  478  ] scene_token  84f4c0747550493f959595dae6785cd3  has [  39  ] sample\n",
      "In [  479  ] scene_token  e12dee10fe2545e4ab88459ed4268bc6  has [  41  ] sample\n",
      "In [  480  ] scene_token  4431d97ea17044ad9c09c13d16684054  has [  39  ] sample\n",
      "In [  481  ] scene_token  670e01eb31b64b509db5290531254203  has [  39  ] sample\n",
      "In [  482  ] scene_token  e6cb595f6df44b3999db28c65f2244ac  has [  39  ] sample\n",
      "In [  483  ] scene_token  a8819942e8bb43b6a832c56dfb78cfc6  has [  39  ] sample\n",
      "In [  484  ] scene_token  f123185f3bb64faebc08d4453aec2659  has [  39  ] sample\n",
      "In [  485  ] scene_token  3289046b886f4c98a676bd7e6a3c6ef1  has [  41  ] sample\n",
      "In [  486  ] scene_token  8fbbe701baf641359129ea166e1674ec  has [  40  ] sample\n",
      "In [  487  ] scene_token  fd4ef697de684d0a8e016a8f8ae61193  has [  40  ] sample\n",
      "In [  488  ] scene_token  1847e3fc11ab466d95f82e6c7031f33d  has [  40  ] sample\n",
      "In [  489  ] scene_token  491322eec05043c9907c59aa35b046ea  has [  40  ] sample\n",
      "In [  490  ] scene_token  62d9a581c7114d90a48bacfb2a47b104  has [  41  ] sample\n",
      "In [  491  ] scene_token  6d8cb5391245464c9de1c412819df210  has [  40  ] sample\n",
      "In [  492  ] scene_token  df0c3cb16cde410eba8eea191765515c  has [  41  ] sample\n",
      "In [  493  ] scene_token  57f5503bf63144b8bf450315e860f58e  has [  41  ] sample\n",
      "In [  494  ] scene_token  634e7fbfe29c4a72b1ceb692b1d2ab44  has [  41  ] sample\n",
      "In [  495  ] scene_token  e5a3df5fe95149b5b974af1d14277ea7  has [  40  ] sample\n",
      "In [  496  ] scene_token  e2d9a52b37bd4b63b913777ef77b2d4f  has [  40  ] sample\n",
      "In [  497  ] scene_token  7ca5e90766dc4b7bb6a9b3b0d95c99da  has [  40  ] sample\n",
      "In [  498  ] scene_token  82aef599650d462db73731b7ff40918b  has [  40  ] sample\n",
      "In [  499  ] scene_token  59ff984c3143486da7d2c4ffec023b36  has [  39  ] sample\n",
      "In [  500  ] scene_token  a1ca2ba59ac9452fb3da60019bf32c71  has [  40  ] sample\n",
      "In [  501  ] scene_token  9f3c8453d03d4df5946444757376b826  has [  40  ] sample\n",
      "In [  502  ] scene_token  82aa6c89bbf744a6a5a12cc171d8376e  has [  40  ] sample\n",
      "In [  503  ] scene_token  7ef04cdbd04c4b67a22f59502cb8fac6  has [  40  ] sample\n",
      "In [  504  ] scene_token  c9c28de6e66442f7921858f1ebbec3ef  has [  40  ] sample\n",
      "In [  505  ] scene_token  fdf27bbde3e345bd9ac83cbe9a3c813a  has [  40  ] sample\n",
      "In [  506  ] scene_token  b886756c3fd641eeba9dda3932e196c0  has [  40  ] sample\n",
      "In [  507  ] scene_token  8cf06ee8cd004478aa46f391310b923e  has [  40  ] sample\n",
      "In [  508  ] scene_token  6e81ee0f64274490a403bbd6482c2bf9  has [  40  ] sample\n",
      "In [  509  ] scene_token  dc6235e2281943548084c484cb38b876  has [  40  ] sample\n",
      "In [  510  ] scene_token  3be5ff913abf449bac92ce2d2a4cffa0  has [  40  ] sample\n",
      "In [  511  ] scene_token  34a9823fac0d4b9db30898e00b5f9f9c  has [  40  ] sample\n",
      "In [  512  ] scene_token  2bfb95d8ba3a4c11869f4d6635784640  has [  40  ] sample\n",
      "In [  513  ] scene_token  4098aaf3c7074e7d87285e2fc95369e0  has [  40  ] sample\n",
      "In [  514  ] scene_token  a5003bf9af8545a3a4c7f1f5604e8d3b  has [  40  ] sample\n",
      "In [  515  ] scene_token  cddd0d5be10b4313a859524952455f43  has [  41  ] sample\n",
      "In [  516  ] scene_token  0ced08ea43754420a23b2fbec667a763  has [  40  ] sample\n",
      "In [  517  ] scene_token  221a67d95acf448ba863917ec4d32ed0  has [  40  ] sample\n",
      "In [  518  ] scene_token  55b44b64f35c48689cdca8c39b672db4  has [  41  ] sample\n",
      "In [  519  ] scene_token  261e8288cf5647e396ab584e210e4ba1  has [  41  ] sample\n",
      "In [  520  ] scene_token  20ec831deb0f44e397497198cbe5a97c  has [  41  ] sample\n",
      "In [  521  ] scene_token  312102fd97de4bd4859374946e24ccdc  has [  39  ] sample\n",
      "In [  522  ] scene_token  81227a12571240e0b9d537165f57e177  has [  40  ] sample\n",
      "In [  523  ] scene_token  21464a6831c1443db294d1b56a7a33a5  has [  40  ] sample\n",
      "In [  524  ] scene_token  e631037169574c67944176bf079ee75c  has [  40  ] sample\n",
      "In [  525  ] scene_token  52678e6091214431bf9f3b41e5eeaa24  has [  40  ] sample\n",
      "In [  526  ] scene_token  2131d9fd2c48418081875019e35cf6a2  has [  40  ] sample\n",
      "In [  527  ] scene_token  a1b51c02d8414856a86c0c37e4789c2f  has [  40  ] sample\n",
      "In [  528  ] scene_token  9eaabad9385b4fe1b9f397edead326ac  has [  40  ] sample\n",
      "In [  529  ] scene_token  748894952b00431186308b387c2f424c  has [  41  ] sample\n",
      "In [  530  ] scene_token  8fe2dd6f533646b39c8e81316597c52b  has [  41  ] sample\n",
      "In [  531  ] scene_token  47cfdbcf14fe47d2a3b9e7e5b46d8a36  has [  41  ] sample\n",
      "In [  532  ] scene_token  5c6620829a1f492b8482218670aa0541  has [  40  ] sample\n",
      "In [  533  ] scene_token  c59fe8015e3743329ec907bc29c93124  has [  39  ] sample\n",
      "In [  534  ] scene_token  ceca737af78440118b7b394a54723454  has [  41  ] sample\n",
      "In [  535  ] scene_token  3034b3f33e1d49f4a7b6c84bdea57004  has [  41  ] sample\n",
      "In [  536  ] scene_token  5d709891c41d423687ae4ea0473cb9c4  has [  41  ] sample\n",
      "In [  537  ] scene_token  66e050dbde3447e5a4b07f0d896f5864  has [  41  ] sample\n",
      "In [  538  ] scene_token  692fe09aecae4b1a94f8a3bceedd9b7c  has [  40  ] sample\n",
      "In [  539  ] scene_token  724957e51f464a9aa64a16458443786d  has [  40  ] sample\n",
      "In [  540  ] scene_token  240d15482599449a9bd0432fbfa688ab  has [  41  ] sample\n",
      "In [  541  ] scene_token  1b3b150c9d3e4e1593e7ce882a69f870  has [  40  ] sample\n",
      "In [  542  ] scene_token  e5514b8f435e475cac4eba74b44773b5  has [  40  ] sample\n",
      "In [  543  ] scene_token  a2e8f126913b4f72909e06d881dc5a8b  has [  41  ] sample\n",
      "In [  544  ] scene_token  f92422ed4b4e427194a4958ccf15709a  has [  40  ] sample\n",
      "In [  545  ] scene_token  214008f81b8b4b509c730f0c13e9491f  has [  41  ] sample\n",
      "In [  546  ] scene_token  cab845a2e8864482993ac62811f879c1  has [  40  ] sample\n",
      "In [  547  ] scene_token  37284f813cc74496971ff58f5d37400a  has [  41  ] sample\n",
      "In [  548  ] scene_token  de7d80a1f5fb4c3e82ce8a4f213b450a  has [  40  ] sample\n",
      "In [  549  ] scene_token  8c7dfcee70754286959b80c6cfe2d246  has [  40  ] sample\n",
      "In [  550  ] scene_token  93bdbe60d6d0495cbb39d6c811554905  has [  39  ] sample\n",
      "In [  551  ] scene_token  69ee276c40644ddbb7fe21c613cd7689  has [  40  ] sample\n",
      "In [  552  ] scene_token  96a410b8fe5e4b57bf69b844bfd4d28c  has [  41  ] sample\n",
      "In [  553  ] scene_token  a5d7cc4bf3404cccb89932d94ccb9da6  has [  40  ] sample\n",
      "In [  554  ] scene_token  875e9b8b63b54263ba1edeb21faadea8  has [  39  ] sample\n",
      "In [  555  ] scene_token  7f8714d8ca814914bf4ff3ed30123db5  has [  40  ] sample\n",
      "In [  556  ] scene_token  aa45d94630be481787f20121ce89a605  has [  40  ] sample\n",
      "In [  557  ] scene_token  fdf4384c1fce4a16aad939d8417bccd6  has [  40  ] sample\n",
      "In [  558  ] scene_token  b3f63d06b6c54ae6ae80d688f4966408  has [  41  ] sample\n",
      "In [  559  ] scene_token  d4c560022dda448dabb0b60fb62dd6ba  has [  40  ] sample\n",
      "In [  560  ] scene_token  8461c1125eaf46c7abaf4ee18e8c4ee6  has [  40  ] sample\n",
      "In [  561  ] scene_token  52bb785dcb5548a1836898f14fb3cf6d  has [  40  ] sample\n",
      "In [  562  ] scene_token  2c1f2e5096434cd78919b2ae442d4ba4  has [  40  ] sample\n",
      "In [  563  ] scene_token  b0c4f9a7680142d8add66f69e5f20ecb  has [  40  ] sample\n",
      "In [  564  ] scene_token  947308824ada42fdbcff7009e815287f  has [  41  ] sample\n",
      "In [  565  ] scene_token  c2d5a5e7f7dc4e12b967fff22a0e1bf1  has [  41  ] sample\n",
      "In [  566  ] scene_token  b8be4950e73743a8841d545fcb145706  has [  40  ] sample\n",
      "In [  567  ] scene_token  82240fd6d5ba4375815f8a7fa1561361  has [  41  ] sample\n",
      "In [  568  ] scene_token  ee909cb746e44174be804f26bc971efe  has [  41  ] sample\n",
      "In [  569  ] scene_token  85d5e2548a5e454fa65a739ac0ac55c2  has [  40  ] sample\n",
      "In [  570  ] scene_token  5d5506d750cc41d8bd33840d5350d7ad  has [  41  ] sample\n",
      "In [  571  ] scene_token  3a1850241080418b88dcee97c7d17ed7  has [  40  ] sample\n",
      "In [  572  ] scene_token  5e270cfc71714e2bb94bad445c6159a4  has [  40  ] sample\n",
      "In [  573  ] scene_token  f69f7b4cefb7493bb1a8185f6f01d137  has [  40  ] sample\n",
      "In [  574  ] scene_token  dcd5bc29543747e28ef02816dd458290  has [  41  ] sample\n",
      "In [  575  ] scene_token  5c2fc0a595c9435cb08e30700c63f9e9  has [  39  ] sample\n",
      "In [  576  ] scene_token  c04cdbbe744c4da08d3df61c47d5cc94  has [  40  ] sample\n",
      "In [  577  ] scene_token  cd122d67c51c4fa4902486897cad91ad  has [  41  ] sample\n",
      "In [  578  ] scene_token  bfe368f8c6a44efcb323a82f6974a9a6  has [  40  ] sample\n",
      "In [  579  ] scene_token  dac50250c406439480be8b44d2c5a634  has [  41  ] sample\n",
      "In [  580  ] scene_token  70368a18644046f898ab836fc8a3c03f  has [  39  ] sample\n",
      "In [  581  ] scene_token  da41ecbc644b4915b84bb732e35ebf8c  has [  40  ] sample\n",
      "In [  582  ] scene_token  2a721a8d80e04e4e82709e6150f5196a  has [  40  ] sample\n",
      "In [  583  ] scene_token  7809330e0345423ab6212787edf3561b  has [  40  ] sample\n",
      "In [  584  ] scene_token  1623e7fab5174f2a84cf1b539233e3a6  has [  41  ] sample\n",
      "In [  585  ] scene_token  cfa36eca40364e5bb15f550a077a21c5  has [  40  ] sample\n",
      "In [  586  ] scene_token  53c92676ef334011bd4689494ac11fa0  has [  39  ] sample\n",
      "In [  587  ] scene_token  58af378ff68b49c99aabf320dca1ee25  has [  41  ] sample\n",
      "In [  588  ] scene_token  2e3c0f308fcf4664bf7994053d7080b9  has [  40  ] sample\n",
      "In [  589  ] scene_token  c075fbdd97124beaba95bc5c25149f30  has [  40  ] sample\n",
      "In [  590  ] scene_token  54cdaaae372d421fa4734d66f51a8c48  has [  40  ] sample\n",
      "In [  591  ] scene_token  8c84164e752a4ab69d039a07c898f7af "
     ]
    },
    {
     "name": "stderr",
     "output_type": "stream",
     "text": [
      "100%|██████████| 700/700 [00:00<00:00, 973.88it/s]"
     ]
    },
    {
     "name": "stdout",
     "output_type": "stream",
     "text": [
      " has [  41  ] sample\n",
      "In [  592  ] scene_token  8e1f7ff7dc9940da8eeca3c06ae1aa4d  has [  40  ] sample\n",
      "In [  593  ] scene_token  0c13be31e9854d97960d1af570db433f  has [  40  ] sample\n",
      "In [  594  ] scene_token  ff6af17f52c34e9c9958c64e41fb3786  has [  40  ] sample\n",
      "In [  595  ] scene_token  1d25e9071ea94891b5eb7554e77a11bb  has [  40  ] sample\n",
      "In [  596  ] scene_token  453453c849304ad69741891946d46453  has [  40  ] sample\n",
      "In [  597  ] scene_token  49eb09ab4c4142268131125d6e619a0c  has [  40  ] sample\n",
      "In [  598  ] scene_token  d8a5dd6087de4e808c61c27f91e8216e  has [  40  ] sample\n",
      "In [  599  ] scene_token  60111bb5388f4195b98555d4d4b89618  has [  39  ] sample\n",
      "In [  600  ] scene_token  2a334f5c4615465f86a250d4758a2d7d  has [  40  ] sample\n",
      "In [  601  ] scene_token  d4d2faa310a748dda508d15c6d5c4244  has [  40  ] sample\n",
      "In [  602  ] scene_token  d83994e61a1b431cacf34931801d0c78  has [  40  ] sample\n",
      "In [  603  ] scene_token  e0a22086a94f48e5bbd4c4e7916b2106  has [  40  ] sample\n",
      "In [  604  ] scene_token  08110c8640454affb5167801442a85fd  has [  41  ] sample\n",
      "In [  605  ] scene_token  ef5f945852e84fcc88cab506746a6636  has [  40  ] sample\n",
      "In [  606  ] scene_token  aad7d3bf3c7a47ad9cb93d9b92ed38ee  has [  40  ] sample\n",
      "In [  607  ] scene_token  40516b7f46e548d19dfee580e9a5afa6  has [  41  ] sample\n",
      "In [  608  ] scene_token  268099669c954f429087081530094337  has [  41  ] sample\n",
      "In [  609  ] scene_token  77c23b25e2ee4b9ebff6d179d3ce4a31  has [  40  ] sample\n",
      "In [  610  ] scene_token  bed12977df5a41dcb97ac69eeae3682c  has [  40  ] sample\n",
      "In [  611  ] scene_token  30e77a3561ce4f1bb4fd90e322ea29d7  has [  39  ] sample\n",
      "In [  612  ] scene_token  ced236f5da704cbcb41249bb6ecc8b68  has [  40  ] sample\n",
      "In [  613  ] scene_token  3e1f0257a4b8457486651de2d16b61ab  has [  40  ] sample\n",
      "In [  614  ] scene_token  448cf480b0b8400a86881d28c2c5f734  has [  40  ] sample\n",
      "In [  615  ] scene_token  9e7d5adad1514dd79292e9318b7a443c  has [  40  ] sample\n",
      "In [  616  ] scene_token  d1ac8e27ba8944a4a42a488cf2fedd74  has [  40  ] sample\n",
      "In [  617  ] scene_token  fe4fdd7a28754baeac7074ad78f55a52  has [  40  ] sample\n",
      "In [  618  ] scene_token  08be42eb2186411d8e2201225329f1c6  has [  40  ] sample\n",
      "In [  619  ] scene_token  dbfd4af0e0d744858e796ec69826e673  has [  40  ] sample\n",
      "In [  620  ] scene_token  8b93e49bac094cf0a1c3ea983912f89f  has [  41  ] sample\n",
      "In [  621  ] scene_token  c34206e65a1442828b950b0ca52098b7  has [  40  ] sample\n",
      "In [  622  ] scene_token  94f224a2a36c4bbbab59120cc6c31f6e  has [  39  ] sample\n",
      "In [  623  ] scene_token  add2303ca41d445c8339e05769745fc0  has [  40  ] sample\n",
      "In [  624  ] scene_token  cc8c0bf57f984915a77078b10eb33198  has [  39  ] sample\n",
      "In [  625  ] scene_token  6295f0119c5c44d8a75e0016517a172d  has [  40  ] sample\n",
      "In [  626  ] scene_token  5557f4edc1464442812293e2ea90a586  has [  40  ] sample\n",
      "In [  627  ] scene_token  fab5dcdfa43b4cce99da3ddf6718cc2a  has [  40  ] sample\n",
      "In [  628  ] scene_token  2f9da038274a4448bdbb83f994fc6381  has [  41  ] sample\n",
      "In [  629  ] scene_token  29dee0b8210b410a9b3421f0cb39019f  has [  41  ] sample\n",
      "In [  630  ] scene_token  65cfdc10a42e499ea704c617e077afe0  has [  40  ] sample\n",
      "In [  631  ] scene_token  8d267899e2e843d4905fafd1f12c0a20  has [  41  ] sample\n",
      "In [  632  ] scene_token  c24317a5c0cb4f5c9fd31740eb1152f2  has [  39  ] sample\n",
      "In [  633  ] scene_token  c77e6ecf108c4c8b80d35d84642c805f  has [  40  ] sample\n",
      "In [  634  ] scene_token  5dd272b76c3f4e2582040a91f2be2dde  has [  41  ] sample\n",
      "In [  635  ] scene_token  e3094e1174654d119b55cce4df145e02  has [  40  ] sample\n",
      "In [  636  ] scene_token  bb028034cb474e3da8953f83752a70a9  has [  40  ] sample\n",
      "In [  637  ] scene_token  d1ece215e0a8442691cb5e380a6fb935  has [  41  ] sample\n",
      "In [  638  ] scene_token  36e3167610cc48eabcaad06a72479ac7  has [  41  ] sample\n",
      "In [  639  ] scene_token  c133e78e55ae487c821803a3b183d1ab  has [  40  ] sample\n",
      "In [  640  ] scene_token  c7b8d96173bf41dc8df8c0d16adfc71e  has [  41  ] sample\n",
      "In [  641  ] scene_token  83ffc453d209404781ea4574d77adb22  has [  40  ] sample\n",
      "In [  642  ] scene_token  93036f2be8de445aad06b727b848cea5  has [  40  ] sample\n",
      "In [  643  ] scene_token  a59b6db922ff490da5ccfc9980700935  has [  40  ] sample\n",
      "In [  644  ] scene_token  bc219c0fa63b43b4b9dddab47fce1fef  has [  39  ] sample\n",
      "In [  645  ] scene_token  5aa5225d0ef440519a31c1dde075dab7  has [  40  ] sample\n",
      "In [  646  ] scene_token  ca6abd081eaf48689f06b5e8fcc9d369  has [  41  ] sample\n",
      "In [  647  ] scene_token  938479858b4849dd8ceddc11c154082b  has [  39  ] sample\n",
      "In [  648  ] scene_token  9a1188aba4bf458c8220818a6c0be55a  has [  39  ] sample\n",
      "In [  649  ] scene_token  055a607b74e04001adef097225a8661a  has [  41  ] sample\n",
      "In [  650  ] scene_token  54ec146682e24683becfeab4124e8402  has [  40  ] sample\n",
      "In [  651  ] scene_token  c7492bdc08f8450fa580b7787331f0c9  has [  39  ] sample\n",
      "In [  652  ] scene_token  4f679c8f8f6d4f5d8466253dda4733ba  has [  40  ] sample\n",
      "In [  653  ] scene_token  7599adab7f3944dc8ac1c88b4f3bb082  has [  40  ] sample\n",
      "In [  654  ] scene_token  b487d499e93e44caaf6c3dc884225fa2  has [  40  ] sample\n",
      "In [  655  ] scene_token  25496f19ffd14bd088cb430bfc01a4d7  has [  40  ] sample\n",
      "In [  656  ] scene_token  daa9fce50073470398da3c2bccdaf21b  has [  40  ] sample\n",
      "In [  657  ] scene_token  f9e460f092c94466b1211704b5a8859d  has [  40  ] sample\n",
      "In [  658  ] scene_token  36fbee38a28543ea9e27a67d64e1dee4  has [  40  ] sample\n",
      "In [  659  ] scene_token  9833ac6de5ae418f9e6d0eeb58e72beb  has [  40  ] sample\n",
      "In [  660  ] scene_token  4f28b42169f4404cbab4b43476e13885  has [  40  ] sample\n",
      "In [  661  ] scene_token  181bf34123514c329e2cef72847607a4  has [  40  ] sample\n",
      "In [  662  ] scene_token  2bbff07f5b4248eab483ddcf91cfa848  has [  39  ] sample\n",
      "In [  663  ] scene_token  2eb0dd074d8e4a328fd2283184c4412e  has [  40  ] sample\n",
      "In [  664  ] scene_token  2cc8ffb250c44b42a888e9185810e04c  has [  40  ] sample\n",
      "In [  665  ] scene_token  f55c8c62235146d895f611176fd0a5dc  has [  41  ] sample\n",
      "In [  666  ] scene_token  b0be2e24e2234947867c7f555f6f59d2  has [  40  ] sample\n",
      "In [  667  ] scene_token  892ed06c432448fe87ecb5d31756f14a  has [  40  ] sample\n",
      "In [  668  ] scene_token  ed97ee6a3b444ba7800641baab057556  has [  40  ] sample\n",
      "In [  669  ] scene_token  9771da5dd7bb4657be34365619e39dab  has [  41  ] sample\n",
      "In [  670  ] scene_token  64ca274b5f69458bb5d21e0e2e071902  has [  40  ] sample\n",
      "In [  671  ] scene_token  2987b4494fcc4639bdd6d714a94b2c72  has [  40  ] sample\n",
      "In [  672  ] scene_token  74d03e3b673f4a72a3f76e1b0c7840bd  has [  40  ] sample\n",
      "In [  673  ] scene_token  3d42cd90a8184d9ebd3bb85b6416314d  has [  40  ] sample\n",
      "In [  674  ] scene_token  45275e709d4a4b0592d57850d8e8bd8d  has [  41  ] sample\n",
      "In [  675  ] scene_token  e323a27a0ba94ab5ab11010d778cd41f  has [  41  ] sample\n",
      "In [  676  ] scene_token  5af1f9db65e04747aa3ca8364037c49b  has [  41  ] sample\n",
      "In [  677  ] scene_token  05d5241d4d5a4c2a9c670dc8c9853c74  has [  41  ] sample\n",
      "In [  678  ] scene_token  7f6043918b234b68a61e6caab7a33346  has [  41  ] sample\n",
      "In [  679  ] scene_token  6d4b2bd795ae4c66900ad98ccd2371a6  has [  39  ] sample\n",
      "In [  680  ] scene_token  dbe2eceb3e4649289366f674c2ba4274  has [  39  ] sample\n",
      "In [  681  ] scene_token  ed22649f50454a6ab71356780b2a2454  has [  39  ] sample\n",
      "In [  682  ] scene_token  242ac1b59fec4e0c9c200ffca81775e2  has [  40  ] sample\n",
      "In [  683  ] scene_token  19dce2ebc7bd4f138aea6d645a4afec7  has [  40  ] sample\n",
      "In [  684  ] scene_token  ccf96ecd7161425ba7c5b5dbad79b600  has [  41  ] sample\n",
      "In [  685  ] scene_token  1c89941a6935484182ca19eddcd3bc77  has [  41  ] sample\n",
      "In [  686  ] scene_token  30783e1b472a4101b82be19e41636ba2  has [  41  ] sample\n",
      "In [  687  ] scene_token  a4bfab3710d4494aa3c9a443c1bf5573  has [  40  ] sample\n",
      "In [  688  ] scene_token  6f5133fe62b240e797bac25aeff8b531  has [  39  ] sample\n",
      "In [  689  ] scene_token  e9a94a93c36a4adb831eb67ec8bdf289  has [  40  ] sample\n",
      "In [  690  ] scene_token  e0b14a8e11994763acba690bbcc3f56a  has [  41  ] sample\n",
      "In [  691  ] scene_token  48ba943c3d19463a81281bf6a7078eac  has [  40  ] sample\n",
      "In [  692  ] scene_token  c0d3796765e2452d990309b2568adac5  has [  40  ] sample\n",
      "In [  693  ] scene_token  31cb85777b814e0ab6ae6d146964b6ae  has [  41  ] sample\n",
      "In [  694  ] scene_token  35c3bc100e4b4e5089820986d3f50fa3  has [  40  ] sample\n",
      "In [  695  ] scene_token  f0f7132494bc4045a21868aca13b56f9  has [  40  ] sample\n",
      "In [  696  ] scene_token  a25d763258dc4526b52759b3ddaad7ec  has [  41  ] sample\n",
      "In [  697  ] scene_token  9c5dc664216e43a99d5da3f23d373e4d  has [  41  ] sample\n",
      "In [  698  ] scene_token  53d4c9a634df4fdfadf057d3a216e98f  has [  41  ] sample\n",
      "In [  699  ] scene_token  8758419c03ab47a59ea6d6620176f3a3  has [  40  ] sample\n"
     ]
    },
    {
     "name": "stderr",
     "output_type": "stream",
     "text": [
      "\n"
     ]
    }
   ],
   "source": [
    "training_data_creation(nusc, pred_boxes_centerpoint, gt_boxes, tracks_gt)"
   ]
  },
  {
   "cell_type": "code",
   "execution_count": null,
   "id": "hungry-phone",
   "metadata": {},
   "outputs": [],
   "source": []
  }
 ],
 "metadata": {
  "kernelspec": {
   "display_name": "Python 3",
   "language": "python",
   "name": "python3"
  },
  "language_info": {
   "codemirror_mode": {
    "name": "ipython",
    "version": 3
   },
   "file_extension": ".py",
   "mimetype": "text/x-python",
   "name": "python",
   "nbconvert_exporter": "python",
   "pygments_lexer": "ipython3",
   "version": "3.7.9"
  }
 },
 "nbformat": 4,
 "nbformat_minor": 5
}
