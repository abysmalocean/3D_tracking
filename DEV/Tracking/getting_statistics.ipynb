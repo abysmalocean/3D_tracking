{
 "cells": [
  {
   "cell_type": "code",
   "execution_count": 2,
   "id": "proprietary-samuel",
   "metadata": {},
   "outputs": [],
   "source": [
    "import os\n",
    "import sys\n",
    "!export PYTHONPATH=\"${PYTHONPATH}:~/gt/3D_tracking/DEV/Tracking/nuscenes\"\n",
    "import numpy as np\n",
    "\n",
    "from sklearn.utils.linear_assignment_ import linear_assignment\n",
    "\n",
    "from nuscenes import NuScenes\n",
    "from nuscenes.eval.common.config import config_factory\n",
    "from nuscenes.eval.tracking.evaluate import TrackingEval\n",
    "from nuscenes.eval.detection.data_classes import DetectionConfig\n",
    "from nuscenes.eval.detection.data_classes import DetectionBox\n",
    "from nuscenes.eval.tracking.data_classes import TrackingBox\n",
    "from nuscenes.eval.common.loaders import load_prediction, load_gt, filter_eval_boxes\n",
    "from nuscenes.eval.tracking.loaders import create_tracks\n",
    "from pyquaternion import Quaternion\n",
    "#from main import iou3d, convert_3dbox_to_8corner\n",
    "import argparse\n",
    "import pickle \n",
    "from utils.dict import *\n",
    "from utils.stats import add_center_dist\n",
    "%load_ext autoreload\n",
    "%autoreload 2"
   ]
  },
  {
   "cell_type": "code",
   "execution_count": 5,
   "id": "compound-concord",
   "metadata": {},
   "outputs": [
    {
     "name": "stdout",
     "output_type": "stream",
     "text": [
      "======\n",
      "Loading NuScenes tables for version v1.0-test...\n",
      "23 category,\n",
      "8 attribute,\n",
      "4 visibility,\n",
      "0 instance,\n",
      "12 sensor,\n",
      "1800 calibrated_sensor,\n",
      "462901 ego_pose,\n",
      "15 log,\n",
      "150 scene,\n",
      "6008 sample,\n",
      "462901 sample_data,\n",
      "0 sample_annotation,\n",
      "4 map,\n",
      "Done loading in 8.477 seconds.\n",
      "======\n",
      "Reverse indexing ...\n",
      "Done reverse indexing in 1.9 seconds.\n",
      "======\n",
      "/media/liangxu/ArmyData/nuscenes/trainval/v1.0-test\n"
     ]
    }
   ],
   "source": []
  },
  {
   "cell_type": "code",
   "execution_count": 7,
   "id": "indie-driving",
   "metadata": {},
   "outputs": [],
   "source": []
  },
  {
   "cell_type": "code",
   "execution_count": 2,
   "id": "double-basement",
   "metadata": {},
   "outputs": [],
   "source": [
    "detection_file = os.path.join(detection_path , 'megvii_train.json')\n",
    "data_root      = os.path.join(nuscense_path , 'trainval')\n",
    "gt_boxes_file_name = \"/media/liangxu/ArmyData/nuscenes/Tracking_result/tracking_tmp/gt_boxes\"\n",
    "prediction_file_name = \"/media/liangxu/ArmyData/nuscenes/Tracking_result/tracking_tmp/pred_boxes\"\n",
    "prediction_file_name_centerpoint = \"/media/liangxu/ArmyData/nuscenes/Tracking_result/tracking_tmp/pred_boxes_centerpoint\"\n",
    "nusc_file_name = \"/media/liangxu/ArmyData/nuscenes/Tracking_result/tracking_tmp/nusc.pkl\""
   ]
  },
  {
   "cell_type": "code",
   "execution_count": 3,
   "id": "undefined-correlation",
   "metadata": {},
   "outputs": [],
   "source": [
    "# Load the detection and ground truth result\n",
    "nusc = pickle.load(open(nusc_file_name , 'rb'))\n",
    "pred_boxes = pickle.load(open(prediction_file_name , 'rb'))\n",
    "pred_boxes_new = pickle.load(open(prediction_file_name_centerpoint , 'rb'))\n",
    "gt_boxes   = pickle.load(open(gt_boxes_file_name , 'rb'))"
   ]
  },
  {
   "cell_type": "code",
   "execution_count": 15,
   "id": "amended-director",
   "metadata": {},
   "outputs": [],
   "source": []
  },
  {
   "cell_type": "code",
   "execution_count": 16,
   "id": "powerful-terrace",
   "metadata": {},
   "outputs": [],
   "source": []
  },
  {
   "cell_type": "code",
   "execution_count": 5,
   "id": "paperback-hydrogen",
   "metadata": {},
   "outputs": [
    {
     "data": {
      "text/plain": [
       "\"\\nversion='v1.0-trainval'\\nnusc = NuScenes(version=version, dataroot=data_root, verbose=True)\\nwith open(nusc_file_name, 'wb') as f:\\n    pickle.dump(nusc, f)\\n\\npred_boxes, _ = load_prediction(detection_file, 10000, DetectionBox)\\ngt_boxes = load_gt(nusc, 'train', TrackingBox, verbose = True)\\nwith open(prediction_file_name, 'wb') as f:\\n    pickle.dump(pred_boxes, f)\\nwith open(gt_boxes_file_name, 'wb') as f:\\n    pickle.dump(gt_boxes, f)\\n\""
      ]
     },
     "execution_count": 5,
     "metadata": {},
     "output_type": "execute_result"
    }
   ],
   "source": [
    "# load the predictions and the gt boxes\n",
    "\"\"\"\n",
    "version='v1.0-trainval'\n",
    "nusc = NuScenes(version=version, dataroot=data_root, verbose=True)\n",
    "with open(nusc_file_name, 'wb') as f:\n",
    "    pickle.dump(nusc, f)\n",
    "\n",
    "pred_boxes, _ = load_prediction(detection_file, 10000, DetectionBox)\n",
    "gt_boxes = load_gt(nusc, 'train', TrackingBox, verbose = True)\n",
    "with open(prediction_file_name, 'wb') as f:\n",
    "    pickle.dump(pred_boxes, f)\n",
    "with open(gt_boxes_file_name, 'wb') as f:\n",
    "    pickle.dump(gt_boxes, f)\n",
    "\n",
    "new_prediction_file = \"/home/liangxu/gt/3D_tracking/3party/CenterPoint/work_dirs/nusc_centerpoint_voxelnet_dcn_0075voxel_flip_trainSet_new/infos_train_10sweeps_withvelo_filter_True.json\"\n",
    "pred_boxes_new, _ = load_prediction(new_prediction_file, 10000, DetectionBox)\n",
    "with open(prediction_file_name_centerpoint, 'wb') as f:\n",
    "    pickle.dump(pred_boxes_new, f)\n",
    "    \n",
    "# get the test file\n",
    "data_root = \"/media/liangxu/ArmyData/nuscenes/trainval/v1.0-test\"\n",
    "nusc = NuScenes(version='v1.0-test', dataroot=data_root, verbose=True)\n",
    "print(data_root)\n",
    "nusc_test_file_name = \"/media/liangxu/ArmyData/nuscenes/Tracking_result/tracking_tmp/nusc_test.pkl\"\n",
    "with open(nusc_test_file_name, 'wb') as f:\n",
    "    pickle.dump(nusc, f)\n",
    "\n",
    "\"\"\""
   ]
  },
  {
   "cell_type": "code",
   "execution_count": 4,
   "id": "secondary-burden",
   "metadata": {},
   "outputs": [],
   "source": [
    "assert set(pred_boxes.sample_tokens) == set(gt_boxes.sample_tokens), \\\n",
    "            \"Samples in split don't match samples in predicted tracks.\"\n",
    "\n",
    "assert set(pred_boxes.sample_tokens) == set(pred_boxes_new.sample_tokens), \\\n",
    "            \"Samples in split don't match samples in predicted tracks.\"\n"
   ]
  },
  {
   "cell_type": "code",
   "execution_count": 5,
   "id": "outstanding-smooth",
   "metadata": {},
   "outputs": [
    {
     "name": "stdout",
     "output_type": "stream",
     "text": [
      "len(pred_boxes.sample_tokens):  28130\n",
      "len(pred_boxes_centerpoint.sample_tokens):  28130\n",
      "len(gt_boxes.sample_tokens):  28130\n"
     ]
    }
   ],
   "source": [
    " # Add center distances.\n",
    "pred_boxes = add_center_dist(nusc, pred_boxes)\n",
    "pred_boxes_centerpoint = add_center_dist(nusc, pred_boxes_new)\n",
    "gt_boxes   = add_center_dist(nusc, gt_boxes)\n",
    "\n",
    "print('len(pred_boxes.sample_tokens): ', len(pred_boxes.sample_tokens))\n",
    "print('len(pred_boxes_centerpoint.sample_tokens): ', len(pred_boxes_centerpoint.sample_tokens))\n",
    "print('len(gt_boxes.sample_tokens): ', len(gt_boxes.sample_tokens))"
   ]
  },
  {
   "cell_type": "code",
   "execution_count": 6,
   "id": "helpful-variety",
   "metadata": {},
   "outputs": [
    {
     "name": "stdout",
     "output_type": "stream",
     "text": [
      "Liang XU\n"
     ]
    }
   ],
   "source": [
    "tracks_gt = create_tracks(gt_boxes, nusc, 'train', gt=True)"
   ]
  },
  {
   "cell_type": "code",
   "execution_count": 9,
   "id": "fabulous-japan",
   "metadata": {},
   "outputs": [],
   "source": [
    "\n",
    "from get_nuscenes_stats import matching_and_get_diff_stats, get_mean"
   ]
  },
  {
   "cell_type": "code",
   "execution_count": 14,
   "id": "third-capture",
   "metadata": {},
   "outputs": [
    {
     "name": "stderr",
     "output_type": "stream",
     "text": [
      "  0%|          | 2/700 [00:00<00:45, 15.27it/s]"
     ]
    },
    {
     "name": "stdout",
     "output_type": "stream",
     "text": [
      "len(tracks.keys()):  700\n"
     ]
    },
    {
     "name": "stderr",
     "output_type": "stream",
     "text": [
      "100%|██████████| 700/700 [01:05<00:00, 10.68it/s]\n"
     ]
    },
    {
     "data": {
      "text/plain": [
       "({'bicycle': array([ 1.29255138e+00,  6.04981211e-01,  1.69851979e+00,  9.24922207e+02,\n",
       "          1.29928737e+03,  7.54455098e-01,  3.50005634e-02,  8.89233002e-03,\n",
       "         -3.69294743e-02,  1.01596643e-02, -2.28356654e-03,  2.19812316e-03,\n",
       "         -2.08178349e-03,  2.51023328e-04,  3.81416683e-03]),\n",
       "  'bus': array([ 3.49466679e+00,  2.94869529e+00,  1.11763184e+01,  1.03657590e+03,\n",
       "          1.31494559e+03,  1.87588071e+00,  1.75155290e-01,  3.95991159e-02,\n",
       "         -2.29194236e-02,  6.48864550e-03,  1.83604957e-03, -6.08124866e-03,\n",
       "          3.70562220e-03,  5.12323703e-04,  3.67486684e-03]),\n",
       "  'car': array([ 1.73496995e+00,  1.96062873e+00,  4.61921671e+00,  1.18384247e+03,\n",
       "          1.17948029e+03,  9.67292984e-01,  1.77048395e-01,  1.83719918e-02,\n",
       "         -1.48373986e-02,  5.44655633e-03,  8.71153712e-04, -7.72651883e-04,\n",
       "          5.07796695e-04,  4.51635759e-04,  7.76475847e-05]),\n",
       "  'motorcycle': array([ 1.46360935e+00,  7.76617224e-01,  2.10927549e+00,  9.87766295e+02,\n",
       "          1.29562551e+03,  8.31365490e-01,  1.51516200e-01, -4.89430673e-03,\n",
       "          1.69435289e-01, -1.36311703e-03,  1.28897520e-03, -6.47063337e-04,\n",
       "          7.23860338e-04,  1.34061419e-03, -5.54840452e-03]),\n",
       "  'pedestrian': array([ 1.76855191e+00,  6.67333417e-01,  7.25477875e-01,  8.81150651e+02,\n",
       "          1.38858330e+03,  1.08833380e+00,  2.82662548e-01, -4.89998190e-02,\n",
       "          1.21155008e-02,  9.23667057e-03, -7.81454409e-04, -2.74625305e-04,\n",
       "         -5.43041519e-06,  4.99293756e-04, -9.40015059e-05]),\n",
       "  'trailer': array([ 3.86668658e+00,  2.92318591e+00,  1.22905906e+01,  1.48195352e+03,\n",
       "          9.72743322e+02,  2.16587011e+00,  5.98367990e-02, -1.09382002e-02,\n",
       "          1.36538899e-02,  6.06591734e-03,  2.67895193e-04,  1.63254488e-03,\n",
       "          1.69016264e-03, -4.50576776e-04, -1.24141468e-03]),\n",
       "  'truck': array([ 2.82540373e+00,  2.50966100e+00,  6.88430400e+00,  1.24954116e+03,\n",
       "          1.06456348e+03,  1.57039061e+00,  2.49418403e-01,  3.33880954e-03,\n",
       "         -5.38623686e-02,  5.75745443e-03,  8.02126096e-04,  9.83752654e-04,\n",
       "         -1.94920709e-03,  7.45106572e-04,  2.83504669e-04])},\n",
       " {'bicycle': array([3.46931106e-01, 1.63383801e-01, 2.58803938e-01, 5.26221814e+02,\n",
       "         4.30970109e+02, 4.91088920e-01, 1.80102439e+00, 7.68469988e-01,\n",
       "         6.78180769e-01, 7.38635431e-02, 2.50090938e-01, 1.41025298e-01,\n",
       "         1.16855584e-01, 7.14265876e-02, 3.65281060e-01]),\n",
       "  'bus': array([4.94004571e-01, 3.21811774e-01, 2.05553837e+00, 5.52781857e+02,\n",
       "         4.63697319e+02, 1.21322188e+00, 1.67214014e+00, 1.69621138e+00,\n",
       "         1.39426813e+00, 1.17715915e-01, 3.15686808e-01, 3.43117946e-01,\n",
       "         2.97432190e-01, 1.08451113e-01, 4.57219895e-01]),\n",
       "  'car': array([2.44141728e-01, 1.87028764e-01, 4.61048601e-01, 6.17789167e+02,\n",
       "         4.12279804e+02, 6.77471298e-01, 1.76984041e+00, 1.38347916e+00,\n",
       "         1.19455479e+00, 7.85491502e-02, 2.08732887e-01, 3.98645862e-01,\n",
       "         3.53461905e-01, 7.31828644e-02, 3.03776364e-01]),\n",
       "  'motorcycle': array([2.30800547e-01, 1.73695407e-01, 3.35804165e-01, 6.55027105e+02,\n",
       "         4.55492008e+02, 7.37792060e-01, 1.90472461e+00, 1.42112444e+00,\n",
       "         1.40948782e+00, 1.13101578e-01, 3.37383323e-01, 1.79902082e-01,\n",
       "         1.96634426e-01, 7.39879473e-02, 4.84734368e-01]),\n",
       "  'pedestrian': array([1.91239833e-01, 1.40255579e-01, 1.89042307e-01, 5.24730476e+02,\n",
       "         3.79107687e+02, 7.08106700e-01, 1.88624855e+00, 4.23987810e-01,\n",
       "         3.77889621e-01, 7.81013063e-02, 4.35380197e-01, 1.82979388e-01,\n",
       "         1.57275211e-01, 7.71098262e-02, 6.51891506e-01]),\n",
       "  'trailer': array([7.71751566e-01, 5.42730981e-01, 4.59895298e+00, 4.64854215e+02,\n",
       "         2.86510673e+02, 7.45106345e-01, 1.80534779e+00, 9.22646329e-01,\n",
       "         7.84971903e-01, 8.79450120e-02, 1.63653051e-01, 2.04935380e-01,\n",
       "         1.92005612e-01, 1.09277194e-01, 2.37311239e-01]),\n",
       "  'truck': array([8.39808101e-01, 4.48202798e-01, 2.08706225e+00, 5.85782026e+02,\n",
       "         3.90065398e+02, 7.57522822e-01, 1.82994037e+00, 1.24630849e+00,\n",
       "         1.06692256e+00, 8.32793936e-02, 2.44797966e-01, 3.07453411e-01,\n",
       "         3.07509410e-01, 9.15457110e-02, 3.76404650e-01])},\n",
       " {'bicycle': array([1.20361192e-01, 2.66942666e-02, 6.69794785e-02, 2.76909397e+05,\n",
       "         1.85735235e+05, 2.41168328e-01, 3.24368887e+00, 5.90546122e-01,\n",
       "         4.59929155e-01, 5.45582300e-03, 6.25454771e-02, 1.98881347e-02,\n",
       "         1.36552276e-02, 5.10175742e-03, 1.33430252e-01]),\n",
       "  'bus': array([2.44040516e-01, 1.03562818e-01, 4.22523800e+00, 3.05567781e+05,\n",
       "         2.15015204e+05, 1.47190733e+00, 2.79605266e+00, 2.87713304e+00,\n",
       "         1.94398363e+00, 1.38570365e-02, 9.96581605e-02, 1.17729925e-01,\n",
       "         8.84659079e-02, 1.17616440e-02, 2.09050032e-01]),\n",
       "  'car': array([5.96051832e-02, 3.49797586e-02, 2.12565813e-01, 3.81663455e+05,\n",
       "         1.69974637e+05, 4.58967360e-01, 3.13233509e+00, 1.91401460e+00,\n",
       "         1.42696115e+00, 6.16996900e-03, 4.35694181e-02, 1.58918523e-01,\n",
       "         1.24935318e-01, 5.35573165e-03, 9.22800791e-02]),\n",
       "  'motorcycle': array([5.32688926e-02, 3.01700943e-02, 1.12764437e-01, 4.29060508e+05,\n",
       "         2.07472969e+05, 5.44337123e-01, 3.62797583e+00, 2.01959468e+00,\n",
       "         1.98665591e+00, 1.27919670e-02, 1.13827507e-01, 3.23647590e-02,\n",
       "         3.86650974e-02, 5.47421635e-03, 2.34967407e-01]),\n",
       "  'pedestrian': array([3.65726736e-02, 1.96716274e-02, 3.57369939e-02, 2.75342072e+05,\n",
       "         1.43722638e+05, 5.01415098e-01, 3.55793360e+00, 1.79765663e-01,\n",
       "         1.42800566e-01, 6.09981404e-03, 1.89555916e-01, 3.34814566e-02,\n",
       "         2.47354921e-02, 5.94592529e-03, 4.24962535e-01]),\n",
       "  'trailer': array([5.95600480e-01, 2.94556918e-01, 2.11503685e+01, 2.16089441e+05,\n",
       "         8.20883656e+04, 5.55183465e-01, 3.25928063e+00, 8.51276248e-01,\n",
       "         6.16180888e-01, 7.73432513e-03, 2.67823211e-02, 4.19985099e-02,\n",
       "         3.68661552e-02, 1.19415050e-02, 5.63166240e-02]),\n",
       "  'truck': array([7.05277646e-01, 2.00885748e-01, 4.35582883e+00, 3.43140581e+05,\n",
       "         1.52151015e+05, 5.73840826e-01, 3.34868174e+00, 1.55328485e+00,\n",
       "         1.13832374e+00, 6.93545740e-03, 5.99260444e-02, 9.45275998e-02,\n",
       "         9.45620374e-02, 8.38061721e-03, 1.41680460e-01])})"
      ]
     },
     "execution_count": 14,
     "metadata": {},
     "output_type": "execute_result"
    }
   ],
   "source": [
    "get_mean(tracks_gt)"
   ]
  },
  {
   "cell_type": "code",
   "execution_count": 29,
   "id": "racial-albert",
   "metadata": {},
   "outputs": [
    {
     "name": "stderr",
     "output_type": "stream",
     "text": [
      "  0%|          | 0/700 [00:00<?, ?it/s]\n"
     ]
    },
    {
     "ename": "IndexError",
     "evalue": "index 3 is out of bounds for axis 0 with size 3",
     "output_type": "error",
     "traceback": [
      "\u001b[0;31m---------------------------------------------------------------------------\u001b[0m",
      "\u001b[0;31mIndexError\u001b[0m                                Traceback (most recent call last)",
      "\u001b[0;32m<ipython-input-29-aaef77ba1d8a>\u001b[0m in \u001b[0;36m<module>\u001b[0;34m\u001b[0m\n\u001b[0;32m----> 1\u001b[0;31m \u001b[0mmatching_and_get_diff_stats\u001b[0m\u001b[0;34m(\u001b[0m\u001b[0mpred_boxes\u001b[0m\u001b[0;34m,\u001b[0m \u001b[0mgt_boxes\u001b[0m\u001b[0;34m,\u001b[0m \u001b[0mtracks_gt\u001b[0m\u001b[0;34m,\u001b[0m \u001b[0;34m'2d_center'\u001b[0m\u001b[0;34m)\u001b[0m\u001b[0;34m\u001b[0m\u001b[0;34m\u001b[0m\u001b[0m\n\u001b[0m",
      "\u001b[0;32m~/gt/3D_tracking/DEV/Tracking/get_nuscenes_stats.py\u001b[0m in \u001b[0;36mmatching_and_get_diff_stats\u001b[0;34m(pred_boxes, gt_boxes, tracks_gt, matching_dist)\u001b[0m\n\u001b[1;32m    271\u001b[0m             \u001b[0;32mif\u001b[0m \u001b[0;34m(\u001b[0m\u001b[0mddisc\u001b[0m \u001b[0;34m>\u001b[0m \u001b[0;36m2.0\u001b[0m\u001b[0;34m)\u001b[0m\u001b[0;34m:\u001b[0m\u001b[0;34m\u001b[0m\u001b[0;34m\u001b[0m\u001b[0m\n\u001b[1;32m    272\u001b[0m               \u001b[0mprint\u001b[0m\u001b[0;34m(\u001b[0m\u001b[0;34m\"THe distance is greater than miss detection \"\u001b[0m\u001b[0;34m,\u001b[0m \u001b[0mddisc\u001b[0m\u001b[0;34m)\u001b[0m\u001b[0;34m\u001b[0m\u001b[0;34m\u001b[0m\u001b[0m\n\u001b[0;32m--> 273\u001b[0;31m             \u001b[0mdiff_value\u001b[0m \u001b[0;34m=\u001b[0m \u001b[0mdets\u001b[0m\u001b[0;34m[\u001b[0m\u001b[0mindex_j\u001b[0m\u001b[0;34m]\u001b[0m \u001b[0;34m-\u001b[0m \u001b[0mgts\u001b[0m\u001b[0;34m[\u001b[0m\u001b[0mindex_i\u001b[0m\u001b[0;34m]\u001b[0m\u001b[0;34m\u001b[0m\u001b[0;34m\u001b[0m\u001b[0m\n\u001b[0m\u001b[1;32m    274\u001b[0m             \u001b[0;31m#print(\"original value \", diff_value[6])\u001b[0m\u001b[0;34m\u001b[0m\u001b[0;34m\u001b[0m\u001b[0;34m\u001b[0m\u001b[0m\n\u001b[1;32m    275\u001b[0m             \u001b[0mangle_diff\u001b[0m \u001b[0;34m=\u001b[0m \u001b[0mnp\u001b[0m\u001b[0;34m.\u001b[0m\u001b[0mzeros\u001b[0m\u001b[0;34m(\u001b[0m\u001b[0;36m4\u001b[0m\u001b[0;34m)\u001b[0m\u001b[0;34m\u001b[0m\u001b[0;34m\u001b[0m\u001b[0m\n",
      "\u001b[0;31mIndexError\u001b[0m: index 3 is out of bounds for axis 0 with size 3"
     ]
    }
   ],
   "source": [
    "matching_and_get_diff_stats(pred_boxes, gt_boxes, tracks_gt, '2d_center')"
   ]
  },
  {
   "cell_type": "code",
   "execution_count": 70,
   "id": "placed-mount",
   "metadata": {},
   "outputs": [
    {
     "name": "stderr",
     "output_type": "stream",
     "text": [
      "100%|██████████| 700/700 [08:46<00:00,  1.33it/s]\n"
     ]
    },
    {
     "data": {
      "text/plain": [
       "({'bicycle': array([ 0.00444158,  0.00548391,  0.02700448,  0.00472683,  0.00487179,\n",
       "          0.00578921, -0.00090104]),\n",
       "  'bus': array([-0.03849067, -0.02355045,  0.039287  ,  0.0112755 ,  0.00263459,\n",
       "          0.00761268,  0.00062003]),\n",
       "  'car': array([-1.33519307e-02, -1.30198578e-02, -1.12860569e-02, -6.58205779e-05,\n",
       "          2.42299028e-03,  3.80057004e-03, -1.46172755e-03]),\n",
       "  'motorcycle': array([-0.00109592, -0.00817222, -0.0100901 ,  0.00397068,  0.00278687,\n",
       "          0.0058704 ,  0.00936965]),\n",
       "  'pedestrian': array([-0.00331991, -0.0059713 , -0.01035154,  0.00085706,  0.00082741,\n",
       "          0.00515495,  0.00167351]),\n",
       "  'trailer': array([ 0.01758176, -0.03357614,  0.0386592 , -0.00047133,  0.00306588,\n",
       "         -0.0086273 ,  0.00031292]),\n",
       "  'truck': array([-2.03802520e-02, -3.48075837e-02, -6.75954557e-02, -8.56012919e-05,\n",
       "         -6.29031429e-03, -4.90164668e-03,  6.46115653e-04])},\n",
       " {'bicycle': array([0.15030771, 0.13934666, 0.20774621, 0.22716344, 0.24198294,\n",
       "         0.1652483 , 0.22373981]),\n",
       "  'bus': array([0.30244347, 0.23255523, 0.70934273, 0.24932923, 0.2304485 ,\n",
       "         0.23724314, 0.03879275]),\n",
       "  'car': array([0.15910102, 0.156636  , 0.34103986, 0.28331662, 0.29188843,\n",
       "         0.17761093, 0.1081697 ]),\n",
       "  'motorcycle': array([0.13264562, 0.12467152, 0.22833151, 0.22237666, 0.21442723,\n",
       "         0.14621125, 0.18316375]),\n",
       "  'pedestrian': array([0.14879412, 0.12535981, 0.16317245, 0.16915797, 0.16768133,\n",
       "         0.16291298, 0.29450023]),\n",
       "  'trailer': array([0.34798771, 0.28502763, 1.14505057, 0.29092018, 0.28311265,\n",
       "         0.25747015, 0.09652174]),\n",
       "  'truck': array([0.29876547, 0.24584975, 0.84816712, 0.30423525, 0.30097393,\n",
       "         0.22770374, 0.08549889])},\n",
       " {'bicycle': array([0.02259241, 0.01941749, 0.04315849, 0.05160323, 0.05855574,\n",
       "         0.027307  , 0.0500595 ]),\n",
       "  'bus': array([0.09147205, 0.05408194, 0.50316711, 0.06216506, 0.05310651,\n",
       "         0.05628431, 0.00150488]),\n",
       "  'car': array([0.02531313, 0.02453484, 0.11630819, 0.08026831, 0.08519886,\n",
       "         0.03154564, 0.01170068]),\n",
       "  'motorcycle': array([0.01759486, 0.01554299, 0.05213528, 0.04945138, 0.04597904,\n",
       "         0.02137773, 0.03354896]),\n",
       "  'pedestrian': array([0.02213969, 0.01571508, 0.02662525, 0.02861442, 0.02811703,\n",
       "         0.02654064, 0.08673039]),\n",
       "  'trailer': array([0.12109544, 0.08124075, 1.3111408 , 0.08463455, 0.08015278,\n",
       "         0.06629088, 0.00931645]),\n",
       "  'truck': array([0.0892608 , 0.0604421 , 0.71938747, 0.09255909, 0.09058531,\n",
       "         0.05184899, 0.00731006])})"
      ]
     },
     "execution_count": 70,
     "metadata": {},
     "output_type": "execute_result"
    }
   ],
   "source": [
    "from get_nuscenes_stats import matching_and_get_diff_stats\n",
    "matching_and_get_diff_stats(pred_boxes_centerpoint, gt_boxes, tracks_gt, 'advanced')"
   ]
  },
  {
   "cell_type": "code",
   "execution_count": 3,
   "id": "stable-transformation",
   "metadata": {},
   "outputs": [],
   "source": [
    "tracking_diff_file_name = \"/media/liangxu/ArmyData/nuscenes/Tracking_result/tracking_tmp/tracking_diff\"\n",
    "tracking_diff = pickle.load(open( tracking_diff_file_name , 'rb'))"
   ]
  },
  {
   "cell_type": "code",
   "execution_count": 4,
   "id": "unlikely-alfred",
   "metadata": {},
   "outputs": [],
   "source": [
    "diff = {tracking_name: np.stack(tracking_diff[tracking_name], axis=0) for tracking_name in NUSCENES_TRACKING_NAMES}"
   ]
  },
  {
   "cell_type": "code",
   "execution_count": 5,
   "id": "introductory-wiring",
   "metadata": {},
   "outputs": [],
   "source": [
    "mean = {tracking_name: np.mean(diff[tracking_name], axis=0) for tracking_name in NUSCENES_TRACKING_NAMES}"
   ]
  },
  {
   "cell_type": "code",
   "execution_count": 6,
   "id": "judicial-notification",
   "metadata": {},
   "outputs": [
    {
     "name": "stdout",
     "output_type": "stream",
     "text": [
      "bicycle [ 0.00444158  0.00548391  0.02700448  0.00472683  0.00487179  0.00578921\n",
      " -0.00090104]\n",
      "bus [-0.03849067 -0.02355045  0.039287    0.0112755   0.00263459  0.00761268\n",
      "  0.00062003]\n",
      "car [-1.33519307e-02 -1.30198578e-02 -1.12860569e-02 -6.58205779e-05\n",
      "  2.42299028e-03  3.80057004e-03 -1.46172755e-03]\n",
      "motorcycle [-0.00109592 -0.00817222 -0.0100901   0.00397068  0.00278687  0.0058704\n",
      "  0.00936965]\n",
      "pedestrian [-0.00331991 -0.0059713  -0.01035154  0.00085706  0.00082741  0.00515495\n",
      "  0.00167351]\n",
      "trailer [ 0.01758176 -0.03357614  0.0386592  -0.00047133  0.00306588 -0.0086273\n",
      "  0.00031292]\n",
      "truck [-2.03802520e-02 -3.48075837e-02 -6.75954557e-02 -8.56012919e-05\n",
      " -6.29031429e-03 -4.90164668e-03  6.46115653e-04]\n"
     ]
    }
   ],
   "source": [
    "for k, v in mean.items(): \n",
    "    print(k, v)"
   ]
  },
  {
   "cell_type": "code",
   "execution_count": 11,
   "id": "seasonal-newspaper",
   "metadata": {},
   "outputs": [
    {
     "name": "stdout",
     "output_type": "stream",
     "text": [
      "bicycle [0.15030771 0.13934666 0.20774621 0.22716344 0.24198294 0.1652483\n",
      " 0.22373981]\n",
      "bus [0.30244347 0.23255523 0.70934273 0.24932923 0.2304485  0.23724314\n",
      " 0.03879275]\n",
      "car [0.15910102 0.156636   0.34103986 0.28331662 0.29188843 0.17761093\n",
      " 0.1081697 ]\n",
      "motorcycle [0.13264562 0.12467152 0.22833151 0.22237666 0.21442723 0.14621125\n",
      " 0.18316375]\n",
      "pedestrian [0.14879412 0.12535981 0.16317245 0.16915797 0.16768133 0.16291298\n",
      " 0.29450023]\n",
      "trailer [0.34798771 0.28502763 1.14505057 0.29092018 0.28311265 0.25747015\n",
      " 0.09652174]\n",
      "truck [0.29876547 0.24584975 0.84816712 0.30423525 0.30097393 0.22770374\n",
      " 0.08549889]\n"
     ]
    }
   ],
   "source": [
    "std = {tracking_name: np.std(diff[tracking_name], axis=0) for tracking_name in NUSCENES_TRACKING_NAMES}\n",
    "for k, v in std.items(): \n",
    "    print(k, v)"
   ]
  },
  {
   "cell_type": "code",
   "execution_count": null,
   "id": "quantitative-winter",
   "metadata": {},
   "outputs": [],
   "source": [
    "\"\"\"\n",
    "box.size[2], \n",
    "box.size[0], \n",
    "box.size[1],\n",
    "box.translation[0], \n",
    "box.translation[1], \n",
    "box.translation[2],\n",
    "rotation_to_positive_z_angle(box.rotation)\n",
    "\"\"\""
   ]
  },
  {
   "cell_type": "code",
   "execution_count": 8,
   "id": "geographic-forward",
   "metadata": {},
   "outputs": [
    {
     "name": "stdout",
     "output_type": "stream",
     "text": [
      "bicycle [0.02259241 0.01941749 0.04315849 0.05160323 0.05855574 0.027307\n",
      " 0.0500595 ]\n",
      "bus [0.09147205 0.05408194 0.50316711 0.06216506 0.05310651 0.05628431\n",
      " 0.00150488]\n",
      "car [0.02531313 0.02453484 0.11630819 0.08026831 0.08519886 0.03154564\n",
      " 0.01170068]\n",
      "motorcycle [0.01759486 0.01554299 0.05213528 0.04945138 0.04597904 0.02137773\n",
      " 0.03354896]\n",
      "pedestrian [0.02213969 0.01571508 0.02662525 0.02861442 0.02811703 0.02654064\n",
      " 0.08673039]\n",
      "trailer [0.12109544 0.08124075 1.3111408  0.08463455 0.08015278 0.06629088\n",
      " 0.00931645]\n",
      "truck [0.0892608  0.0604421  0.71938747 0.09255909 0.09058531 0.05184899\n",
      " 0.00731006]\n"
     ]
    }
   ],
   "source": [
    "var = {tracking_name: np.var(diff[tracking_name], axis=0) for tracking_name in NUSCENES_TRACKING_NAMES}\n",
    "for k, v in var.items(): \n",
    "    print(k, v)"
   ]
  },
  {
   "cell_type": "code",
   "execution_count": 10,
   "id": "occupied-reconstruction",
   "metadata": {},
   "outputs": [],
   "source": [
    "MeasurementNoise_file_name = \"/media/liangxu/ArmyData/nuscenes/Tracking_result/tracking_tmp/measurement_noise_var\"\n",
    "with open(MeasurementNoise_file_name, 'wb') as f:\n",
    "    pickle.dump(var, f)\n",
    "    "
   ]
  },
  {
   "cell_type": "code",
   "execution_count": 64,
   "id": "yellow-roman",
   "metadata": {},
   "outputs": [],
   "source": [
    "# plot the histgram\n",
    "import matplotlib.pyplot as plt\n",
    "import numpy as np\n",
    "\n",
    "%matplotlib inline"
   ]
  },
  {
   "cell_type": "code",
   "execution_count": 67,
   "id": "peripheral-glossary",
   "metadata": {},
   "outputs": [
    {
     "name": "stdout",
     "output_type": "stream",
     "text": [
      "bicycle\n",
      "(7894,)\n"
     ]
    },
    {
     "data": {
      "image/png": "[encoded data removed]",
      "text/plain": [
       "<Figure size 432x288 with 1 Axes>"
      ]
     },
     "metadata": {
      "needs_background": "light"
     },
     "output_type": "display_data"
    },
    {
     "name": "stdout",
     "output_type": "stream",
     "text": [
      "bus\n",
      "(8541,)\n"
     ]
    },
    {
     "data": {
      "image/png": "[encoded data removed]",
      "text/plain": [
       "<Figure size 432x288 with 1 Axes>"
      ]
     },
     "metadata": {
      "needs_background": "light"
     },
     "output_type": "display_data"
    },
    {
     "name": "stdout",
     "output_type": "stream",
     "text": [
      "car\n",
      "(319597,)\n"
     ]
    },
    {
     "data": {
      "image/png": "[encoded data removed]",
      "text/plain": [
       "<Figure size 432x288 with 1 Axes>"
      ]
     },
     "metadata": {
      "needs_background": "light"
     },
     "output_type": "display_data"
    },
    {
     "name": "stdout",
     "output_type": "stream",
     "text": [
      "motorcycle\n",
      "(8495,)\n"
     ]
    },
    {
     "data": {
      "image/png": "[encoded data removed]",
      "text/plain": [
       "<Figure size 432x288 with 1 Axes>"
      ]
     },
     "metadata": {
      "needs_background": "light"
     },
     "output_type": "display_data"
    },
    {
     "name": "stdout",
     "output_type": "stream",
     "text": [
      "pedestrian\n",
      "(162985,)\n"
     ]
    },
    {
     "data": {
      "image/png": "[encoded data removed]",
      "text/plain": [
       "<Figure size 432x288 with 1 Axes>"
      ]
     },
     "metadata": {
      "needs_background": "light"
     },
     "output_type": "display_data"
    },
    {
     "name": "stdout",
     "output_type": "stream",
     "text": [
      "trailer\n",
      "(13449,)\n"
     ]
    },
    {
     "data": {
      "image/png": "[encoded data removed]",
      "text/plain": [
       "<Figure size 432x288 with 1 Axes>"
      ]
     },
     "metadata": {
      "needs_background": "light"
     },
     "output_type": "display_data"
    },
    {
     "name": "stdout",
     "output_type": "stream",
     "text": [
      "truck\n",
      "(48851,)\n"
     ]
    },
    {
     "data": {
      "image/png": "[encoded data removed]",
      "text/plain": [
       "<Figure size 432x288 with 1 Axes>"
      ]
     },
     "metadata": {
      "needs_background": "light"
     },
     "output_type": "display_data"
    }
   ],
   "source": [
    "for tracking_name in NUSCENES_TRACKING_NAMES: \n",
    "    print(tracking_name)\n",
    "    values = diff[tracking_name][:,0]\n",
    "    print(values.shape)\n",
    "    plt.hist(values, 150)\n",
    "    plt.show()"
   ]
  },
  {
   "cell_type": "markdown",
   "id": "looking-findings",
   "metadata": {},
   "source": [
    "## Testing the miss detection rate and clutter rate"
   ]
  },
  {
   "cell_type": "code",
   "execution_count": 71,
   "id": "heated-holiday",
   "metadata": {},
   "outputs": [],
   "source": [
    "miss_detection_rate_file_name = \"/media/liangxu/ArmyData/nuscenes/Tracking_result/tracking_tmp/miss_detection_rate\"\n",
    "clutter_rate_file_name = \"/media/liangxu/ArmyData/nuscenes/Tracking_result/tracking_tmp/clutter_rate\"\n",
    "miss_detection_rate = pickle.load(open( miss_detection_rate_file_name , 'rb'))\n",
    "clutter_rate        = pickle.load(open( clutter_rate_file_name , 'rb'))"
   ]
  },
  {
   "cell_type": "code",
   "execution_count": 79,
   "id": "chief-stations",
   "metadata": {},
   "outputs": [
    {
     "name": "stdout",
     "output_type": "stream",
     "text": [
      "bicycle\n",
      "0.17546647823143685\n"
     ]
    },
    {
     "data": {
      "image/png": "[encoded data removed]",
      "text/plain": [
       "<Figure size 432x288 with 1 Axes>"
      ]
     },
     "metadata": {
      "needs_background": "light"
     },
     "output_type": "display_data"
    },
    {
     "name": "stdout",
     "output_type": "stream",
     "text": [
      "bus\n",
      "0.22741892512632061\n"
     ]
    },
    {
     "data": {
      "image/png": "[encoded data removed]",
      "text/plain": [
       "<Figure size 432x288 with 1 Axes>"
      ]
     },
     "metadata": {
      "needs_background": "light"
     },
     "output_type": "display_data"
    },
    {
     "name": "stdout",
     "output_type": "stream",
     "text": [
      "car\n",
      "0.23008693770454175\n"
     ]
    },
    {
     "data": {
      "image/png": "[encoded data removed]",
      "text/plain": [
       "<Figure size 432x288 with 1 Axes>"
      ]
     },
     "metadata": {
      "needs_background": "light"
     },
     "output_type": "display_data"
    },
    {
     "name": "stdout",
     "output_type": "stream",
     "text": [
      "motorcycle\n",
      "0.17746422387295707\n"
     ]
    },
    {
     "data": {
      "image/png": "[encoded data removed]",
      "text/plain": [
       "<Figure size 432x288 with 1 Axes>"
      ]
     },
     "metadata": {
      "needs_background": "light"
     },
     "output_type": "display_data"
    },
    {
     "name": "stdout",
     "output_type": "stream",
     "text": [
      "pedestrian\n",
      "0.14290858673907253\n"
     ]
    },
    {
     "data": {
      "image/png": "[encoded data removed]",
      "text/plain": [
       "<Figure size 432x288 with 1 Axes>"
      ]
     },
     "metadata": {
      "needs_background": "light"
     },
     "output_type": "display_data"
    },
    {
     "name": "stdout",
     "output_type": "stream",
     "text": [
      "trailer\n",
      "0.28530788819262637\n"
     ]
    },
    {
     "data": {
      "image/png": "[encoded data removed]",
      "text/plain": [
       "<Figure size 432x288 with 1 Axes>"
      ]
     },
     "metadata": {
      "needs_background": "light"
     },
     "output_type": "display_data"
    },
    {
     "name": "stdout",
     "output_type": "stream",
     "text": [
      "truck\n",
      "0.3149607594217675\n"
     ]
    },
    {
     "data": {
      "image/png": "[encoded data removed]",
      "text/plain": [
       "<Figure size 432x288 with 1 Axes>"
      ]
     },
     "metadata": {
      "needs_background": "light"
     },
     "output_type": "display_data"
    }
   ],
   "source": [
    "for tracking_name in NUSCENES_TRACKING_NAMES: \n",
    "    print(tracking_name)\n",
    "    values = miss_detection_rate[tracking_name]\n",
    "    print(np.mean(values))\n",
    "    plt.hist(values, 50)\n",
    "    plt.show()"
   ]
  },
  {
   "cell_type": "code",
   "execution_count": 80,
   "id": "planned-drill",
   "metadata": {},
   "outputs": [
    {
     "name": "stdout",
     "output_type": "stream",
     "text": [
      "bicycle\n",
      "0.9115411522704274\n"
     ]
    },
    {
     "data": {
      "image/png": "[encoded data removed]",
      "text/plain": [
       "<Figure size 432x288 with 1 Axes>"
      ]
     },
     "metadata": {
      "needs_background": "light"
     },
     "output_type": "display_data"
    },
    {
     "name": "stdout",
     "output_type": "stream",
     "text": [
      "bus\n",
      "0.3612809676925432\n"
     ]
    },
    {
     "data": {
      "image/png": "[encoded data removed]",
      "text/plain": [
       "<Figure size 432x288 with 1 Axes>"
      ]
     },
     "metadata": {
      "needs_background": "light"
     },
     "output_type": "display_data"
    },
    {
     "name": "stdout",
     "output_type": "stream",
     "text": [
      "car\n",
      "0.5401523835124042\n"
     ]
    },
    {
     "data": {
      "image/png": "[encoded data removed]",
      "text/plain": [
       "<Figure size 432x288 with 1 Axes>"
      ]
     },
     "metadata": {
      "needs_background": "light"
     },
     "output_type": "display_data"
    },
    {
     "name": "stdout",
     "output_type": "stream",
     "text": [
      "motorcycle\n",
      "0.8659063094039738\n"
     ]
    },
    {
     "data": {
      "image/png": "[encoded data removed]",
      "text/plain": [
       "<Figure size 432x288 with 1 Axes>"
      ]
     },
     "metadata": {
      "needs_background": "light"
     },
     "output_type": "display_data"
    },
    {
     "name": "stdout",
     "output_type": "stream",
     "text": [
      "pedestrian\n",
      "0.7637450814802567\n"
     ]
    },
    {
     "data": {
      "image/png": "[encoded data removed]",
      "text/plain": [
       "<Figure size 432x288 with 1 Axes>"
      ]
     },
     "metadata": {
      "needs_background": "light"
     },
     "output_type": "display_data"
    },
    {
     "name": "stdout",
     "output_type": "stream",
     "text": [
      "trailer\n",
      "0.5696673222082385\n"
     ]
    },
    {
     "data": {
      "image/png": "[encoded data removed]",
      "text/plain": [
       "<Figure size 432x288 with 1 Axes>"
      ]
     },
     "metadata": {
      "needs_background": "light"
     },
     "output_type": "display_data"
    },
    {
     "name": "stdout",
     "output_type": "stream",
     "text": [
      "truck\n",
      "0.7157382173562927\n"
     ]
    },
    {
     "data": {
      "image/png": "[encoded data removed]",
      "text/plain": [
       "<Figure size 432x288 with 1 Axes>"
      ]
     },
     "metadata": {
      "needs_background": "light"
     },
     "output_type": "display_data"
    }
   ],
   "source": [
    "for tracking_name in NUSCENES_TRACKING_NAMES: \n",
    "    print(tracking_name)\n",
    "    values = clutter_rate[tracking_name]\n",
    "    print(np.mean(values))\n",
    "    plt.hist(values, 50)\n",
    "    plt.show()"
   ]
  }
 ],
 "metadata": {
  "kernelspec": {
   "display_name": "Python 3",
   "language": "python",
   "name": "python3"
  },
  "language_info": {
   "codemirror_mode": {
    "name": "ipython",
    "version": 3
   },
   "file_extension": ".py",
   "mimetype": "text/x-python",
   "name": "python",
   "nbconvert_exporter": "python",
   "pygments_lexer": "ipython3",
   "version": "3.7.9"
  }
 },
 "nbformat": 4,
 "nbformat_minor": 5
}
