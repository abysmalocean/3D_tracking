{
 "cells": [
  {
   "cell_type": "markdown",
   "metadata": {},
   "source": [
    "# Test the EKF_Net backpropogation"
   ]
  },
  {
   "cell_type": "code",
   "execution_count": 495,
   "metadata": {},
   "outputs": [],
   "source": [
    "import time, os, json\n",
    "import numpy as np\n",
    "import matplotlib.pyplot as plt"
   ]
  },
  {
   "cell_type": "code",
   "execution_count": 496,
   "metadata": {},
   "outputs": [
    {
     "name": "stdout",
     "output_type": "stream",
     "text": [
      "The autoreload extension is already loaded. To reload it, use:\n",
      "  %reload_ext autoreload\n"
     ]
    }
   ],
   "source": [
    "from cs231n.gradient_check import eval_numerical_gradient, eval_numerical_gradient_array\n",
    "from EKFNet import EKFNet_layers \n",
    "\n",
    "from EKFNet import EKFNet \n",
    "from loadData import raw\n",
    "\n",
    "%matplotlib inline\n",
    "%load_ext autoreload\n",
    "%autoreload 2"
   ]
  },
  {
   "cell_type": "code",
   "execution_count": 497,
   "metadata": {},
   "outputs": [
    {
     "name": "stdout",
     "output_type": "stream",
     "text": [
      "Total Lenght of the time data  30\n"
     ]
    }
   ],
   "source": [
    "## Load the KITTI data\n",
    "# Change this to the directory where you store KITTI data\n",
    "basedir = '../data_test/'\n",
    "\n",
    "# Specify the dataset to load\n",
    "date = '2011_09_26'\n",
    "drive = '0022'\n",
    "\n",
    "# Load the data. Optionally, specify the frame range to load.\n",
    "# dataset = pykitti.raw(basedir, date, drive)\n",
    "dataset      = raw(basedir, date, drive, frames=range(7800, 8100, 10))\n",
    "#dataset      = raw(basedir, date, drive)\n",
    "#print(\"Selected File Names : \")\n",
    "#for item in dataset_full.oxts_files:\n",
    "#    print(item)\n",
    "print(\"Total Lenght of the time data \", len(dataset))"
   ]
  },
  {
   "cell_type": "markdown",
   "metadata": {},
   "source": [
    "## Forward Steps"
   ]
  },
  {
   "cell_type": "code",
   "execution_count": 501,
   "metadata": {},
   "outputs": [
    {
     "name": "stdout",
     "output_type": "stream",
     "text": [
      "Running KF Liang XU\n"
     ]
    }
   ],
   "source": [
    "EKF_filter = EKFNet.EKFNet()\n",
    "EKF_filter.load_data_set(dataset)\n",
    "#EKF_filter.add_some_noise()\n",
    "EKF_filter.run_kf()"
   ]
  },
  {
   "cell_type": "code",
   "execution_count": 503,
   "metadata": {},
   "outputs": [
    {
     "ename": "TypeError",
     "evalue": "plot_overview() got an unexpected keyword argument 'update_rule'",
     "output_type": "error",
     "traceback": [
      "\u001b[0;31m-----------------------------------------------------------------\u001b[0m",
      "\u001b[0;31mTypeError\u001b[0m                       Traceback (most recent call last)",
      "\u001b[0;32m<ipython-input-503-617cf1c5274c>\u001b[0m in \u001b[0;36m<module>\u001b[0;34m\u001b[0m\n\u001b[0;32m----> 1\u001b[0;31m \u001b[0mEKF_filter\u001b[0m\u001b[0;34m.\u001b[0m\u001b[0mplot_overview\u001b[0m\u001b[0;34m(\u001b[0m\u001b[0mupdate_rule\u001b[0m\u001b[0;34m=\u001b[0m\u001b[0;34m'adam'\u001b[0m\u001b[0;34m)\u001b[0m\u001b[0;34m\u001b[0m\u001b[0;34m\u001b[0m\u001b[0m\n\u001b[0m",
      "\u001b[0;31mTypeError\u001b[0m: plot_overview() got an unexpected keyword argument 'update_rule'"
     ]
    }
   ],
   "source": [
    "EKF_filter.plot_overview(update_rule='adam')"
   ]
  },
  {
   "cell_type": "markdown",
   "metadata": {},
   "source": [
    "## Backward Steps\n",
    "In here I am going to test the back ward steps for each equations\n",
    "### Update Equations\n",
    "#### function 9\n",
    "x_post = x_hat + np.dot(K, y_)"
   ]
  },
  {
   "cell_type": "code",
   "execution_count": 7,
   "metadata": {},
   "outputs": [],
   "source": [
    "def rel_error(x, y):\n",
    "    \"\"\" returns relative error \"\"\"\n",
    "    return np.max(np.abs(x - y) / (np.maximum(1e-8, np.abs(x) + np.abs(y))))"
   ]
  },
  {
   "cell_type": "code",
   "execution_count": 7,
   "metadata": {},
   "outputs": [
    {
     "name": "stdout",
     "output_type": "stream",
     "text": [
      "dx_hat error:  3.2755995793143366e-12\n",
      "dK     error:  2.0608070170527488e-11\n",
      "dy_num      :  1.6306273868402972e-12\n",
      "[[-1.6940719 ]\n",
      " [-0.01202285]\n",
      " [ 0.85915533]\n",
      " [-0.28692244]\n",
      " [ 0.95975205]]\n",
      "[[-1.6940719 ]\n",
      " [-0.01202285]\n",
      " [ 0.85915533]\n",
      " [-0.28692244]\n",
      " [ 0.95975205]]\n"
     ]
    }
   ],
   "source": [
    "#np.random.seed(232)\n",
    "# 3 inputs\n",
    "x_hat   = np.random.randn(5,1)\n",
    "K       = np.random.randn(5,3)\n",
    "y_      = np.random.randn(3,1)\n",
    "out, cache = EKFNet_layers.fun_update_9_forward(x_hat, K, y_)\n",
    "\n",
    "dx_post = np.random.randn(*out.shape)\n",
    "fx_hat = lambda x_hat: EKFNet_layers.fun_update_9_forward(x_hat, K, y_)[0]\n",
    "fK     = lambda K    : EKFNet_layers.fun_update_9_forward(x_hat, K, y_)[0]\n",
    "fy_    = lambda y_   : EKFNet_layers.fun_update_9_forward(x_hat, K, y_)[0]\n",
    "dx_hat_num = eval_numerical_gradient_array(fx_hat, x_hat, dx_post)\n",
    "dK_num     = eval_numerical_gradient_array(fK,     K,     dx_post)\n",
    "dy_num     = eval_numerical_gradient_array(fy_,    y_,    dx_post)\n",
    "\n",
    "# run real backward\n",
    "\n",
    "dx_hat, dK, dy_ = EKFNet_layers.fun_update_9_back(dx_post, x_hat, K, y_)\n",
    "print('dx_hat error: ', rel_error(dx_hat_num, dx_hat))\n",
    "print('dK     error: ', rel_error(dK_num,     dK))\n",
    "print('dy_num      : ', rel_error(dy_num, dy_))\n",
    "print(dx_hat)\n",
    "print(dx_hat_num)"
   ]
  },
  {
   "cell_type": "markdown",
   "metadata": {},
   "source": [
    "#### Function 8"
   ]
  },
  {
   "cell_type": "code",
   "execution_count": 8,
   "metadata": {},
   "outputs": [
    {
     "name": "stdout",
     "output_type": "stream",
     "text": [
      "fun_8 back \n",
      "dp_hat error:  8.435478421833332e-11\n",
      "dK error:  4.326563231671625e-11\n",
      "dH error:  9.295691903194977e-11\n"
     ]
    }
   ],
   "source": [
    "K   = np.random.randn(5,3)\n",
    "H   = np.random.randn(3,5)\n",
    "P   = np.random.randn(5,5)\n",
    "out, cache = EKFNet_layers.fun_update_8_forward(P, K, H)\n",
    "dp_post = np.random.randn(*out.shape)\n",
    "\n",
    "fK  = lambda K: EKFNet_layers.fun_update_8_forward(P, K, H)[0]\n",
    "fH  = lambda H: EKFNet_layers.fun_update_8_forward(P, K, H)[0]\n",
    "fP  = lambda P: EKFNet_layers.fun_update_8_forward(P, K, H)[0]\n",
    "\n",
    "dK_num = eval_numerical_gradient_array(fK, K, dp_post)\n",
    "dH_num = eval_numerical_gradient_array(fH, H, dp_post)\n",
    "dP_num = eval_numerical_gradient_array(fP, P, dp_post)\n",
    "\n",
    "dp_hat, dK, dH = EKFNet_layers.fun_update_8_back(dp_post, P, K, H)\n",
    "\n",
    "print('dp_hat error: ', rel_error(dP_num, dp_hat))\n",
    "print('dK error: '    , rel_error(dK_num, dK))\n",
    "print('dH error: '    , rel_error(dH_num, dH))\n"
   ]
  },
  {
   "cell_type": "markdown",
   "metadata": {},
   "source": [
    "#### Function 7"
   ]
  },
  {
   "cell_type": "code",
   "execution_count": 9,
   "metadata": {},
   "outputs": [
    {
     "name": "stdout",
     "output_type": "stream",
     "text": [
      "[[-3.96860751  4.46770918  1.23944146  4.70098056  0.60063016]\n",
      " [-2.77050057  4.3622378   0.92425106  3.148116   -1.38320923]\n",
      " [-2.1506515   4.5427981   2.17638157  0.95691682 -4.01209954]]\n",
      "[[-3.96860751  4.46770918  1.23944146  4.70098056  0.60063016]\n",
      " [-2.77050057  4.3622378   0.92425106  3.148116   -1.38320923]\n",
      " [-2.1506515   4.54279811  2.17638157  0.95691682 -4.01209954]]\n",
      "dp_hat error:  5.038387698117703e-10\n",
      "dS error:  2.6347520264237358e-11\n",
      "dH error:  2.207296652488631e-11\n"
     ]
    }
   ],
   "source": [
    "S   = np.random.randn(3,3)\n",
    "H   = np.random.randn(3,5)\n",
    "P   = np.random.randn(5,5)\n",
    "out, cache = EKFNet_layers.fun_update_7_forward(P, H, S)\n",
    "dk_post = np.random.randn(*out.shape)\n",
    "\n",
    "fS  = lambda S: EKFNet_layers.fun_update_7_forward(P, H, S)[0]\n",
    "fH  = lambda H: EKFNet_layers.fun_update_7_forward(P, H, S)[0]\n",
    "fP  = lambda P: EKFNet_layers.fun_update_7_forward(P, H, S)[0]\n",
    "\n",
    "dS_num = eval_numerical_gradient_array(fS, S, dk_post)\n",
    "dH_num = eval_numerical_gradient_array(fH, H, dk_post)\n",
    "dP_num = eval_numerical_gradient_array(fP, P, dk_post)\n",
    "\n",
    "dP_hat, dH, dS = EKFNet_layers.fun_update_7_back(dk_post, P, H, S)\n",
    "print(dH)\n",
    "print(dH_num)\n",
    "print('dp_hat error: ', rel_error(dP_num, dP_hat))\n",
    "print('dS error: '    , rel_error(dS_num, dS))\n",
    "print('dH error: '    , rel_error(dH_num, dH))"
   ]
  },
  {
   "cell_type": "markdown",
   "metadata": {},
   "source": [
    "#### Inverse"
   ]
  },
  {
   "cell_type": "code",
   "execution_count": 10,
   "metadata": {},
   "outputs": [
    {
     "name": "stdout",
     "output_type": "stream",
     "text": [
      "S is \n",
      " [[-0.3212 -1.3297]\n",
      " [ 1.763   0.6747]]\n",
      "-0.1006\n",
      "-0.1982\n",
      "0.2628\n",
      "0.5179\n",
      "\n",
      "-0.1006\n",
      "0.2628\n",
      "-0.1982\n",
      "0.5179\n",
      "[[-0.1006 -0.1982  0.2628  0.5179]\n",
      " [ 0.2628  0.0479 -0.6867 -0.1251]\n",
      " [-0.1982 -0.3906  0.0479  0.0944]\n",
      " [ 0.5179  0.0944 -0.1251 -0.0228]]\n",
      "[[0.7762 0.0378]\n",
      " [0.8468 3.0623]]\n",
      "[[1.6231 3.1002 0.     0.    ]]\n",
      "dS error:  1.3480026580842929e-09\n",
      "\n",
      " ds_num error\n",
      "[[-0.7777  0.575 ]\n",
      " [-1.5326  1.1331]]\n",
      "My error\n",
      "[[-0.7777  0.575 ]\n",
      " [-1.5326  1.1331]]\n"
     ]
    }
   ],
   "source": [
    "#np.random.seed(232)\n",
    "np.set_printoptions(precision=4)\n",
    "S   = np.random.randn(2,2)\n",
    "#S[0][0] = 1\n",
    "#S[1][1] = 2\n",
    "#S[0][1] = 0\n",
    "#S[1][0] = 0\n",
    "\n",
    "print(\"S is \\n\", S)\n",
    "a = S[0][0]\n",
    "b = S[0][1]\n",
    "c = S[1][0]\n",
    "d = S[1][1]\n",
    "base = (a * d - b * c)**2\n",
    "ele1 = -d**2 / base\n",
    "ele2 = b * d / base\n",
    "ele3 = c* d / base\n",
    "ele4 = -b * c / base\n",
    "print('%.4f'%ele1)\n",
    "print('%.4f'%ele2)\n",
    "print('%.4f'%ele3)\n",
    "print('%.4f'%ele4)\n",
    "print()\n",
    "ele1 = -d**2 / base\n",
    "ele2 = c * d / base\n",
    "ele3 = b * d / base\n",
    "ele4 = -b * c / base\n",
    "print('%.4f'%ele1)\n",
    "print('%.4f'%ele2)\n",
    "print('%.4f'%ele3)\n",
    "print('%.4f'%ele4)\n",
    "\n",
    "out = EKFNet_layers.inverse_dev_forward(S)\n",
    "dS_inv = np.random.randn(*out.shape)\n",
    "#dS_inv[0][0] = 1\n",
    "#dS_inv[0][1] = 1\n",
    "#dS_inv[1][0] = 1\n",
    "#dS_inv[1][1] = 1\n",
    "fS  = lambda S: EKFNet_layers.inverse_dev_forward(S)[0]\n",
    "\n",
    "dS_num = eval_numerical_gradient_array(fS, S, dS_inv, h = 0.0000001)\n",
    "dS = EKFNet_layers.inverse_dev_back(dS_inv, S)\n",
    "print('dS error: '    , rel_error(dS_num, dS))\n",
    "\n",
    "print(\"\\n ds_num error\")\n",
    "print(dS_num)\n",
    "print(\"My error\")\n",
    "print(dS)"
   ]
  },
  {
   "cell_type": "code",
   "execution_count": 11,
   "metadata": {},
   "outputs": [
    {
     "name": "stdout",
     "output_type": "stream",
     "text": [
      "dS error:  1.0\n",
      "\n",
      " ds_num error\n",
      "[[ 0.0528 -0.003   0.098 ]\n",
      " [-0.372   0.021  -0.6896]\n",
      " [-0.1871  0.0105 -0.3468]]\n",
      "My error\n",
      "[[-0.1059 -0.1863  0.3251]\n",
      " [-0.7816 -0.4908 -1.1362]\n",
      " [ 0.2329  0.5227 -0.2257]]\n"
     ]
    }
   ],
   "source": [
    "#np.random.seed(232)\n",
    "np.set_printoptions(precision=4)\n",
    "S   = np.random.randn(3,3)\n",
    "\n",
    "out = EKFNet_layers.inverse_dev_forward(S)\n",
    "dS_inv = np.random.randn(*out.shape)\n",
    "#dS_inv[0][0] = 1\n",
    "#dS_inv[0][1] = 0\n",
    "#dS_inv[0][2] = 0\n",
    "#dS_inv[1][0] = 0\n",
    "#dS_inv[1][1] = 0\n",
    "#dS_inv[1][2] = 0\n",
    "#dS_inv[2][0] = 0\n",
    "#dS_inv[2][1] = 1\n",
    "#dS_inv[2][2] = 0\n",
    "fS  = lambda S: EKFNet_layers.inverse_dev_forward(S)[0]\n",
    "\n",
    "dS_num = eval_numerical_gradient_array(fS, S, dS_inv, h = 0.0000001)\n",
    "dS = EKFNet_layers.inverse_dev_back_3(dS_inv, S)\n",
    "print('dS error: '    , rel_error(dS_num, dS))\n",
    "\n",
    "print(\"\\n ds_num error\")\n",
    "print(dS_num)\n",
    "print(\"My error\")\n",
    "print(dS)"
   ]
  },
  {
   "cell_type": "markdown",
   "metadata": {},
   "source": [
    "#### Function 6"
   ]
  },
  {
   "cell_type": "code",
   "execution_count": 73,
   "metadata": {},
   "outputs": [
    {
     "name": "stdout",
     "output_type": "stream",
     "text": [
      "dp_hat error:  1.0682495577824146e-10\n",
      "dR error:  2.5480091403192562e-11\n",
      "dH error:  1.8855618120259943e-09\n",
      "[[-0.9227 -0.7611  0.0245]\n",
      " [-1.9505  0.2698  0.8998]\n",
      " [-1.3565 -0.3235 -1.0141]]\n",
      "[[-0.9227 -0.7611  0.0245]\n",
      " [-1.9505  0.2698  0.8998]\n",
      " [-1.3565 -0.3235 -1.0141]]\n",
      "[[-0.9227 -0.7611  0.0245]\n",
      " [-1.9505  0.2698  0.8998]\n",
      " [-1.3565 -0.3235 -1.0141]]\n"
     ]
    }
   ],
   "source": [
    "R   = np.random.randn(3,3)\n",
    "H   = np.random.randn(3,5)\n",
    "P   = np.random.randn(5,5)\n",
    "\n",
    "out, cache = EKFNet_layers.fun_update_6_forward(H, P, R)\n",
    "dS = np.random.randn(*out.shape)\n",
    "\n",
    "fR  = lambda R: EKFNet_layers.fun_update_6_forward(H, P, R)[0]\n",
    "fH  = lambda H: EKFNet_layers.fun_update_6_forward(H, P, R)[0]\n",
    "fP  = lambda P: EKFNet_layers.fun_update_6_forward(H, P, R)[0]\n",
    "\n",
    "dR_num = eval_numerical_gradient_array(fR, R, dS)\n",
    "dH_num = eval_numerical_gradient_array(fH, H, dS)\n",
    "dP_num = eval_numerical_gradient_array(fP, P, dS)\n",
    "\n",
    "dH, dP, dR = EKFNet_layers.fun_update_6_back(dS,H,P, R)\n",
    "\n",
    "print('dp_hat error: ', rel_error(dP_num, dP))\n",
    "print('dR error: '    , rel_error(dR_num, dR))\n",
    "print('dH error: '    , rel_error(dH_num, dH))\n",
    "print(dR)\n",
    "print(dS)\n",
    "print(dR_num)\n"
   ]
  },
  {
   "cell_type": "markdown",
   "metadata": {},
   "source": [
    "#### Function 5"
   ]
  },
  {
   "cell_type": "code",
   "execution_count": 72,
   "metadata": {},
   "outputs": [
    {
     "name": "stdout",
     "output_type": "stream",
     "text": [
      "[[ 1.      0.     -0.3228  0.      0.    ]\n",
      " [ 0.      1.     -0.026   0.      0.    ]\n",
      " [ 0.      0.      1.      0.      0.    ]]\n",
      "dy error:  5.3473905530394814e-12\n",
      "[0.6414 0.6401 1.2825 0.     0.    ]\n",
      "[[ 0.6414  0.6401  1.2825 -0.     -0.    ]]\n"
     ]
    }
   ],
   "source": [
    "z = np.random.randn(3)\n",
    "x_hat = np.random.randn(5)\n",
    "gen_h = EKF_filter.gen_h\n",
    "gen_H = EKF_filter.gen_H\n",
    "out, cache = EKFNet_layers.fun_update_5_forward(z, x_hat ,gen_h, gen_H)\n",
    "dy  = np.random.randn(*out.shape)\n",
    "fx  = lambda x_hat: EKFNet_layers.fun_update_5_forward(z, x_hat ,gen_h, gen_H)[0]\n",
    "dx_num  = eval_numerical_gradient_array(fx, x_hat, dy)\n",
    "dx = EKFNet_layers.fun_update_5_back(dy, z, x_hat ,gen_h, gen_H)\n",
    "\n",
    "print('dy error: ', rel_error(dx_num, dx))\n",
    "print(dx_num)\n",
    "print(dx)"
   ]
  },
  {
   "cell_type": "markdown",
   "metadata": {},
   "source": [
    "### Prediction step"
   ]
  },
  {
   "cell_type": "markdown",
   "metadata": {},
   "source": [
    "#### Fucntion 2\n",
    "P = FPFT + Q"
   ]
  },
  {
   "cell_type": "code",
   "execution_count": 119,
   "metadata": {},
   "outputs": [
    {
     "name": "stdout",
     "output_type": "stream",
     "text": [
      "[[-0.8734  1.1224  2.9441  0.5182  2.3892]\n",
      " [-1.206  -2.3725  1.9797 -0.4352  0.4311]\n",
      " [-2.9239 -1.6812 -1.6115 -5.6653 -0.4995]\n",
      " [-0.2868  6.088   0.1598 -6.2743  2.4583]\n",
      " [ 0.8315 -2.6658  1.719   2.7324 -2.8466]]\n",
      "[[ 0.    ]\n",
      " [ 0.    ]\n",
      " [-0.0865]\n",
      " [-0.0181]\n",
      " [-0.1029]]\n",
      "[[ 0.    ]\n",
      " [ 0.    ]\n",
      " [-0.0865]\n",
      " [-0.0181]\n",
      " [-0.1029]]\n",
      "dq error:  6.912769769492817e-17\n",
      "dp_post error:  5.336152539949314e-11\n",
      "dx_post_error:  5.089868665635711e-10\n"
     ]
    }
   ],
   "source": [
    "x_post = np.random.randn(5,1)\n",
    "p_post = np.random.randn(5,5)\n",
    "dt = np.random.rand()\n",
    "f_gen = EKF_filter.G\n",
    "wheelbase = EKF_filter.h\n",
    "Q = np.random.randn(5,5)\n",
    "out, cache = EKFNet_layers.fun_predict_2_forward(Q, x_post, p_post, dt ,f_gen)\n",
    "dp_pred  = np.random.randn(*out.shape)\n",
    "fx_post  = lambda x_post: EKFNet_layers.fun_predict_2_forward(Q, x_post, p_post, dt ,f_gen)[0]\n",
    "fp_post  = lambda p_post: EKFNet_layers.fun_predict_2_forward(Q, x_post, p_post, dt ,f_gen)[0]\n",
    "fq       = lambda Q     : EKFNet_layers.fun_predict_2_forward(Q, x_post, p_post, dt ,f_gen)[0]\n",
    "\n",
    "dx_post_num  = eval_numerical_gradient_array(fx_post, x_post, dp_pred)\n",
    "dp_post_num  = eval_numerical_gradient_array(fp_post, p_post, dp_pred)\n",
    "dq_num       = eval_numerical_gradient_array(fq     , Q     , dp_pred, h = 10)\n",
    "\n",
    "\n",
    "dx_post, dp_post, dq = EKFNet_layers.fun_predict_2_back(dp_pred, x_post, p_post, dt ,f_gen, Q, wheelbase)\n",
    "\n",
    "print(dx_post_num)\n",
    "print(dx_post)\n",
    "print(\"dq error: \", rel_error(dq_num, dq))\n",
    "print(\"dp_post error: \", rel_error(dp_post_num, dp_post))\n",
    "print(\"dx_post_error: \", rel_error(dx_post_num, dx_post))"
   ]
  },
  {
   "cell_type": "code",
   "execution_count": 51,
   "metadata": {},
   "outputs": [
    {
     "data": {
      "text/plain": [
       "0.07477958271937835"
      ]
     },
     "execution_count": 51,
     "metadata": {},
     "output_type": "execute_result"
    }
   ],
   "source": [
    "dt = np.random.rand()\n",
    "dt"
   ]
  },
  {
   "cell_type": "code",
   "execution_count": 210,
   "metadata": {},
   "outputs": [
    {
     "name": "stdout",
     "output_type": "stream",
     "text": [
      "[[-0.1014]\n",
      " [-1.1319]\n",
      " [-0.8544]\n",
      " [-1.5198]\n",
      " [-1.1795]]\n",
      "[[-0.8896]\n",
      " [ 1.5312]\n",
      " [-0.0978]\n",
      " [ 0.8042]\n",
      " [ 1.1779]]\n",
      "[[-0.8896]\n",
      " [ 1.5312]\n",
      " [-0.0978]\n",
      " [ 0.8042]\n",
      " [ 1.1779]]\n",
      "dx_post error:  2.3455160590487334e-06\n"
     ]
    }
   ],
   "source": [
    "x_post = np.random.randn(5,1)\n",
    "\n",
    "print(x_post)\n",
    "\n",
    "f_gen = EKF_filter.G\n",
    "f_pred = EKF_filter.predict\n",
    "out, cache = EKFNet_layers.fun_predict_1_forward(x_post, f_pred, dt)\n",
    "\n",
    "dx_pred  = np.random.randn(*out.shape)\n",
    "\n",
    "fx_post  = lambda x_post: EKFNet_layers.fun_predict_1_forward(x_post, f_pred, dt)[0]\n",
    "dx_post_num  = eval_numerical_gradient_array(fx_post, x_post, dx_pred)\n",
    "\n",
    "dx_post  = EKFNet_layers.fun_predict_1_back(dx_pred, x_post, f_pred, dt, f_gen)\n",
    "print(dx_post)\n",
    "print(dx_post_num)\n",
    "print(\"dx_post error: \", rel_error(dx_post, dx_post_num))"
   ]
  },
  {
   "cell_type": "markdown",
   "metadata": {},
   "source": [
    "### S update respect to x"
   ]
  },
  {
   "cell_type": "code",
   "execution_count": 231,
   "metadata": {},
   "outputs": [
    {
     "name": "stdout",
     "output_type": "stream",
     "text": [
      "dp_hat error:  3.1721234880040185e-06\n",
      "dR error:  4.1370183828729235e-08\n",
      "dx error:  4.555855629274916e-06\n",
      "[0.     0.     0.1973 0.     0.    ]\n",
      "[0.     0.     0.1972 0.     0.    ]\n"
     ]
    }
   ],
   "source": [
    "R   = np.random.randn(3,3)\n",
    "x   = np.random.randn(5)\n",
    "P   = np.random.randn(5,5)\n",
    "gen_H = EKF_filter.gen_H\n",
    "out, cache = EKFNet_layers.fun_update_6_2_forward(x, P, R, gen_H)\n",
    "dS = np.random.randn(*out.shape)\n",
    "\n",
    "fR  = lambda R: EKFNet_layers.fun_update_6_2_forward(x, P, R, gen_H)[0]\n",
    "fx  = lambda x: EKFNet_layers.fun_update_6_2_forward(x, P, R, gen_H)[0]\n",
    "fP  = lambda P: EKFNet_layers.fun_update_6_2_forward(x, P, R, gen_H)[0]\n",
    "\n",
    "dR_num = eval_numerical_gradient_array(fR, R, dS)\n",
    "dx_num = eval_numerical_gradient_array(fx, x, dS)\n",
    "dP_num = eval_numerical_gradient_array(fP, P, dS)\n",
    "\n",
    "dx, dP, dR = EKFNet_layers.fun_update_6_2_back(dS,x, P, R, gen_H, EKF_filter)\n",
    "\n",
    "print('dp_hat error: ', rel_error(dP_num, dP))\n",
    "print('dR error: '    , rel_error(dR_num, dR))\n",
    "print('dx error: '    , rel_error(dx_num, dx))\n",
    "print(dx)\n",
    "print(dx_num)"
   ]
  },
  {
   "cell_type": "markdown",
   "metadata": {},
   "source": [
    "## Update Forward Check"
   ]
  },
  {
   "cell_type": "code",
   "execution_count": 286,
   "metadata": {},
   "outputs": [
    {
     "name": "stdout",
     "output_type": "stream",
     "text": [
      "dx_pred error:  3.2756416086162146e-12\n",
      "dp_pred error:  2.904422160549565e-10\n",
      "dH      error:  9.381979382305789e-09\n",
      "dS      error:  7.399579111565025e-10\n",
      "dy_     error:  3.0418397380144948e-12\n"
     ]
    }
   ],
   "source": [
    "#update_forward(self, x_pred, p_pred, H, S, y_)\n",
    "x_pred = np.random.randn(5,1)\n",
    "p_pred = np.random.randn(5,5)\n",
    "H      = np.random.randn(3,5)\n",
    "S      = np.random.randn(3,3)\n",
    "y_     = np.random.randn(3,1)\n",
    "x_post, p_post, cache = EKFNet_layers.update_forward(x_pred, p_pred, H, S, y_)\n",
    "\n",
    "# Check the deriative respect to dx_post\n",
    "dx_post =   np.random.randn(*x_post.shape)\n",
    "dp_post =   np.zeros(p_post.shape)\n",
    "# Numerical Results\n",
    "fx_pred  = lambda x_pred: EKFNet_layers.update_forward(x_pred, p_pred, H, S, y_)[0]\n",
    "fp_pred  = lambda p_pred: EKFNet_layers.update_forward(x_pred, p_pred, H, S, y_)[0]\n",
    "fH  = lambda H: EKFNet_layers.update_forward(x_pred, p_pred, H, S, y_)[0]\n",
    "fS  = lambda S: EKFNet_layers.update_forward(x_pred, p_pred, H, S, y_)[0]\n",
    "fy_  = lambda y_: EKFNet_layers.update_forward(x_pred, p_pred, H, S, y_)[0]\n",
    "\n",
    "dx_pred_num  = eval_numerical_gradient_array(fx_pred, x_pred, dx_post)\n",
    "dp_pred_num  = eval_numerical_gradient_array(fp_pred, p_pred, dx_post)\n",
    "dH_num       = eval_numerical_gradient_array(fH, H, dx_post)\n",
    "dS_num       = eval_numerical_gradient_array(fS, S, dx_post)\n",
    "dy_num       = eval_numerical_gradient_array(fy_, y_, dx_post)\n",
    "\n",
    "dx_pred, dp_pred, dH, dS, dy_ = EKFNet_layers.update_backward(dx_post, dp_post, cache)\n",
    "\n",
    "print('dx_pred error: ', rel_error(dx_pred_num, dx_pred))\n",
    "print('dp_pred error: ', rel_error(dp_pred_num, dp_pred))\n",
    "print('dH      error: ', rel_error(dH_num, dH))\n",
    "print('dS      error: ', rel_error(dS_num, dS))\n",
    "print('dy_     error: ', rel_error(dy_num, dy_))\n"
   ]
  },
  {
   "cell_type": "code",
   "execution_count": 298,
   "metadata": {},
   "outputs": [
    {
     "name": "stdout",
     "output_type": "stream",
     "text": [
      "dx_pred error:  0.0\n",
      "dp_pred error:  1.3908042815199196e-09\n",
      "dH      error:  1.8684469139319994e-10\n",
      "dS      error:  2.374438576104069e-09\n",
      "dy_     error:  0.0\n"
     ]
    }
   ],
   "source": [
    "#update_forward(self, x_pred, p_pred, H, S, y_)\n",
    "x_pred = np.random.randn(5,1)\n",
    "p_pred = np.random.randn(5,5)\n",
    "H      = np.random.randn(3,5)\n",
    "S      = np.random.randn(3,3)\n",
    "y_     = np.random.randn(3,1)\n",
    "x_post, p_post, cache = EKFNet_layers.update_forward(x_pred, p_pred, H, S, y_)\n",
    "# Check the deriative respect to dp_post\n",
    "dx_post =   np.zeros(x_post.shape)\n",
    "dp_post =   np.random.randn(*p_post.shape)\n",
    "# Numerical Results\n",
    "fx_pred  = lambda x_pred: EKFNet_layers.update_forward(x_pred, p_pred, H, S, y_)[1]\n",
    "fp_pred  = lambda p_pred: EKFNet_layers.update_forward(x_pred, p_pred, H, S, y_)[1]\n",
    "fH  = lambda H: EKFNet_layers.update_forward(x_pred, p_pred, H, S, y_)[1]\n",
    "fS  = lambda S: EKFNet_layers.update_forward(x_pred, p_pred, H, S, y_)[1]\n",
    "fy_  = lambda y_: EKFNet_layers.update_forward(x_pred, p_pred, H, S, y_)[1]\n",
    "\n",
    "dx_pred_num  = eval_numerical_gradient_array(fx_pred, x_pred, dp_post)\n",
    "dp_pred_num  = eval_numerical_gradient_array(fp_pred, p_pred, dp_post)\n",
    "dH_num       = eval_numerical_gradient_array(fH, H, dp_post)\n",
    "dS_num       = eval_numerical_gradient_array(fS, S, dp_post)\n",
    "dy_num       = eval_numerical_gradient_array(fy_, y_, dp_post)\n",
    "\n",
    "dx_pred, dp_pred, dH, dS, dy_ = EKFNet_layers.update_backward(dx_post, dp_post, cache)\n",
    "\n",
    "print('dx_pred error: ', rel_error(dx_pred_num, dx_pred))\n",
    "print('dp_pred error: ', rel_error(dp_pred_num, dp_pred))\n",
    "print('dH      error: ', rel_error(dH_num, dH))\n",
    "print('dS      error: ', rel_error(dS_num, dS))\n",
    "print('dy_     error: ', rel_error(dy_num, dy_))"
   ]
  },
  {
   "cell_type": "markdown",
   "metadata": {},
   "source": [
    "## Measurement Check Up"
   ]
  },
  {
   "cell_type": "code",
   "execution_count": 300,
   "metadata": {},
   "outputs": [],
   "source": [
    "EKF_filter = EKFNet.EKFNet()\n",
    "EKF_filter.load_data_set(dataset)"
   ]
  },
  {
   "cell_type": "code",
   "execution_count": 339,
   "metadata": {},
   "outputs": [
    {
     "data": {
      "text/plain": [
       "1.4157995848709557"
      ]
     },
     "execution_count": 339,
     "metadata": {},
     "output_type": "execute_result"
    }
   ],
   "source": [
    "#EKF_filter.imu_off_l\n",
    "EKF_filter.imu_alpha"
   ]
  },
  {
   "cell_type": "code",
   "execution_count": 386,
   "metadata": {},
   "outputs": [
    {
     "name": "stdout",
     "output_type": "stream",
     "text": [
      "[0.     0.     1.2059 0.     0.    ]\n",
      "[[0.     0.     1.2059 0.     0.    ]]\n",
      "dx_pred error:  4.141069107639035e-12\n",
      "dp_pred error:  4.422801616768121e-12\n",
      "dR      error:  3.2755994679541575e-12\n"
     ]
    }
   ],
   "source": [
    "np.zeros((5,), dtype=np.float64)\n",
    "R = np.zeros((5,5), dtype=np.float64)\n",
    "\"\"\"\n",
    "def measurement_forward(x_pred, \n",
    "                        p_pred, \n",
    "                        z, \n",
    "                        sigma_GPS_x, \n",
    "                        sigma_GPS_y,\n",
    "                        sigma_GPS_h,\n",
    "                        gen_H,\n",
    "                        gen_h):\n",
    "\"\"\"\n",
    "\n",
    "x_pred = np.random.randn(5)\n",
    "p_pred = np.random.randn(5,5)\n",
    "z      = np.random.randn(3)\n",
    "R      = np.random.randn(3,3)\n",
    "\n",
    "gen_H = EKF_filter.gen_H\n",
    "gen_h = EKF_filter.gen_h\n",
    "y_, S, H, cache = EKFNet_layers.measurement_forward(x_pred, p_pred, z, R ,gen_H, gen_h)\n",
    "\n",
    "dy_ =   np.zeros(y_.shape)\n",
    "dS  =   np.random.randn(*S.shape)\n",
    "dH  =   np.random.randn(*H.shape)\n",
    "dH  =   np.zeros(H.shape)\n",
    "\n",
    "#fx_pred  = lambda x_pred: EKFNet_layers.update_forward(x_pred, p_pred, z, sigma_GPS_x, \n",
    "#                                                    sigma_GPS_y,sigma_GPS_h,gen_H, gen_h)[0]\n",
    "fR  = lambda R : EKFNet_layers.measurement_forward(x_pred, p_pred, z, R ,gen_H, gen_h)[1]\n",
    "fp_pred  = lambda p_pred: EKFNet_layers.measurement_forward(x_pred, p_pred, z, R ,gen_H, gen_h)[1]\n",
    "fx_pred  = lambda x_pred: EKFNet_layers.measurement_forward(x_pred, p_pred, z, R ,gen_H, gen_h)[1]\n",
    "\n",
    "dR_num  = eval_numerical_gradient_array(fR, R, dS)\n",
    "dp_pred_num =  eval_numerical_gradient_array(fp_pred, p_pred, dS)\n",
    "dx_pred_num = eval_numerical_gradient_array(fx_pred, x_pred, dS)\n",
    "\n",
    "dx_pred, dp_pred, dR = EKFNet_layers.measurement_backward(dy_, dS, dH, cache)\n",
    "\n",
    "print(dx_pred_num)\n",
    "print(dx_pred)\n",
    "print('dx_pred error: ', rel_error(dx_pred_num, dx_pred))\n",
    "print('dp_pred error: ', rel_error(dp_pred_num, dp_pred))\n",
    "print(\"dR      error: \", rel_error(dR_num, dR))"
   ]
  },
  {
   "cell_type": "code",
   "execution_count": 385,
   "metadata": {},
   "outputs": [
    {
     "name": "stdout",
     "output_type": "stream",
     "text": [
      "[-1.6966 -1.3708 -0.8193  0.      0.    ]\n",
      "[[-1.6966 -1.3708 -0.8193  0.      0.    ]]\n",
      "dx_pred error:  5.620721533557004e-12\n",
      "dp_pred error:  0.0\n",
      "dR      error:  0.0\n"
     ]
    }
   ],
   "source": [
    "np.zeros((5,), dtype=np.float64)\n",
    "R = np.zeros((5,5), dtype=np.float64)\n",
    "\"\"\"\n",
    "def measurement_forward(x_pred, \n",
    "                        p_pred, \n",
    "                        z, \n",
    "                        sigma_GPS_x, \n",
    "                        sigma_GPS_y,\n",
    "                        sigma_GPS_h,\n",
    "                        gen_H,\n",
    "                        gen_h):\n",
    "\"\"\"\n",
    "\n",
    "x_pred = np.random.randn(5)\n",
    "p_pred = np.random.randn(5,5)\n",
    "z      = np.random.randn(3)\n",
    "R      = np.random.randn(3,3)\n",
    "\n",
    "gen_H = EKF_filter.gen_H\n",
    "gen_h = EKF_filter.gen_h\n",
    "y_, S, H, cache = EKFNet_layers.measurement_forward(x_pred, p_pred, z, R ,gen_H, gen_h)\n",
    "\n",
    "dy_ =   np.random.randn(*y_.shape)\n",
    "dS  =   np.zeros(S.shape)\n",
    "dH  =   np.random.randn(*H.shape)\n",
    "dH  =   np.zeros(H.shape)\n",
    "\n",
    "#fx_pred  = lambda x_pred: EKFNet_layers.update_forward(x_pred, p_pred, z, sigma_GPS_x, \n",
    "#                                                    sigma_GPS_y,sigma_GPS_h,gen_H, gen_h)[0]\n",
    "fR  = lambda R : EKFNet_layers.measurement_forward(x_pred, p_pred, z, R ,gen_H, gen_h)[0]\n",
    "fp_pred  = lambda p_pred: EKFNet_layers.measurement_forward(x_pred, p_pred, z, R ,gen_H, gen_h)[0]\n",
    "fx_pred  = lambda x_pred: EKFNet_layers.measurement_forward(x_pred, p_pred, z, R ,gen_H, gen_h)[0]\n",
    "\n",
    "dR_num  = eval_numerical_gradient_array(fR, R, dy_)\n",
    "dp_pred_num =  eval_numerical_gradient_array(fp_pred, p_pred, dy_)\n",
    "dx_pred_num = eval_numerical_gradient_array(fx_pred, x_pred, dy_)\n",
    "\n",
    "dx_pred, dp_pred, dR = EKFNet_layers.measurement_backward(dy_, dS, dH, cache)\n",
    "\n",
    "print(dx_pred_num)\n",
    "print(dx_pred)\n",
    "print('dx_pred error: ', rel_error(dx_pred_num, dx_pred))\n",
    "print('dp_pred error: ', rel_error(dp_pred_num, dp_pred))\n",
    "print(\"dR      error: \", rel_error(dR_num, dR))\n"
   ]
  },
  {
   "cell_type": "markdown",
   "metadata": {},
   "source": [
    "## Working on the Prediction Forward\n",
    "### Check the input is dp_pred"
   ]
  },
  {
   "cell_type": "code",
   "execution_count": 489,
   "metadata": {},
   "outputs": [
    {
     "name": "stdout",
     "output_type": "stream",
     "text": [
      "2.71\n",
      "[[-1.3365  0.4335  0.5246 -0.2355 -0.1436]\n",
      " [ 1.6885  1.8314 -0.6116  0.0124  0.9221]\n",
      " [-0.9319 -0.9455  0.1211  0.9402  1.4823]\n",
      " [ 0.9526 -0.7521 -1.0114  0.5792 -0.6966]\n",
      " [ 0.2804  0.9102  1.0658 -0.4772  0.9948]]\n",
      "[[-1.3365  0.4335  0.5246 -0.2355 -0.1436]\n",
      " [ 1.6885  1.8314 -0.6116  0.0124  0.9221]\n",
      " [-0.9319 -0.9455  0.1211  0.9402  1.4823]\n",
      " [ 0.9526 -0.7521 -1.0114  0.5792 -0.6966]\n",
      " [ 0.2804  0.9102  1.0658 -0.4772  0.9948]]\n",
      "dx_pred error:  2.96184105038635e-11\n",
      "dp_pred error:  8.151492009652795e-11\n",
      "dQ_acc  error:  1.197103002431942e-10\n",
      "dQ_other error: 7.826703837559119e-12\n"
     ]
    }
   ],
   "source": [
    "\"\"\"\n",
    "def prediction_forward(x_post, p_post, dt, \n",
    "                       F_gen, predict ,B_gen, \n",
    "                       Q_acc, Q_other):\n",
    "\"\"\"\n",
    "\n",
    "\n",
    "EKF_filter = EKFNet.EKFNet()\n",
    "EKF_filter.load_data_set(dataset)\n",
    "\n",
    "x_post = np.random.randn(5,1)\n",
    "p_post = np.random.randn(5,5)\n",
    "Q_acc   = np.random.randn(2,2)\n",
    "Q_other = np.random.randn(5,5)\n",
    "dt = 0.5\n",
    "F_gen   = EKF_filter.G\n",
    "predict = EKF_filter.predict\n",
    "B_gen   = EKF_filter.gen_B_simple\n",
    "\n",
    "\n",
    "x_pred, p_pred, cache = EKFNet_layers.prediction_forward(x_post, p_post, dt, F_gen, predict ,B_gen, Q_acc, Q_other)\n",
    "\n",
    "#dx_pred =  np.random.randn(*x_pred.shape)\n",
    "#dp_pred = np.zeros(p_pred.shape)\n",
    "\n",
    "dx_pred =  np.zeros(x_pred.shape)\n",
    "dp_pred =  np.random.randn(*p_pred.shape)\n",
    "\n",
    "\n",
    "fx_post = lambda x_post : EKFNet_layers.prediction_forward(x_post, p_post, dt, F_gen, predict ,B_gen, Q_acc, Q_other)[1]\n",
    "fp_post = lambda p_post : EKFNet_layers.prediction_forward(x_post, p_post, dt, F_gen, predict ,B_gen, Q_acc, Q_other)[1]\n",
    "fQ_acc  = lambda Q_acc  : EKFNet_layers.prediction_forward(x_post, p_post, dt, F_gen, predict ,B_gen, Q_acc, Q_other)[1]\n",
    "fQ_other= lambda Q_other: EKFNet_layers.prediction_forward(x_post, p_post, dt, F_gen, predict ,B_gen, Q_acc, Q_other)[1]\n",
    "\n",
    "\n",
    "\n",
    "dx_post_num  = eval_numerical_gradient_array(fx_post, x_post, dp_pred)\n",
    "dp_post_num  = eval_numerical_gradient_array(fp_post, p_post, dp_pred) \n",
    "dQ_acc_num   = eval_numerical_gradient_array(fQ_acc,  Q_acc , dp_pred)\n",
    "dQ_other_num = eval_numerical_gradient_array(fQ_other,Q_other,dp_pred)\n",
    "\n",
    "dx_post, dp_post, dQ_acc, dQ_other = EKFNet_layers.prediction_backward(dx_pred, dp_pred, cache)\n",
    "\n",
    "\n",
    "print(dQ_other_num)\n",
    "print(dQ_other)\n",
    "\n",
    "print('dx_pred error: ', rel_error(dx_post_num, dx_post))\n",
    "print('dp_pred error: ', rel_error(dp_post_num, dp_post))\n",
    "print('dQ_acc  error: ', rel_error(dQ_acc_num , dQ_acc))\n",
    "print('dQ_other error:', rel_error(dQ_other_num, dQ_other))\n",
    "\n"
   ]
  },
  {
   "cell_type": "code",
   "execution_count": 491,
   "metadata": {},
   "outputs": [
    {
     "name": "stdout",
     "output_type": "stream",
     "text": [
      "[[-1.4082]\n",
      " [-1.747 ]\n",
      " [ 0.748 ]\n",
      " [-0.8924]\n",
      " [-0.2712]]\n",
      "[[-1.4082]\n",
      " [-1.747 ]\n",
      " [ 0.748 ]\n",
      " [-0.8924]\n",
      " [-0.2712]]\n",
      "dx_pred error:  1.0179568524450968e-11\n",
      "dp_pred error:  0.0\n",
      "dQ_acc  error:  0.0\n",
      "dQ_other error: 0.0\n"
     ]
    }
   ],
   "source": [
    "x_post = np.random.randn(5,1)\n",
    "p_post = np.random.randn(5,5)\n",
    "Q_acc   = np.random.randn(2,2)\n",
    "Q_other = np.random.randn(5,5)\n",
    "dt = 0.5\n",
    "F_gen   = EKF_filter.G\n",
    "predict = EKF_filter.predict\n",
    "B_gen   = EKF_filter.gen_B_simple\n",
    "\n",
    "\n",
    "x_pred, p_pred, cache = EKFNet_layers.prediction_forward(x_post, p_post, dt, F_gen, predict ,B_gen, Q_acc, Q_other)\n",
    "\n",
    "dx_pred =  np.random.randn(*x_pred.shape)\n",
    "dp_pred = np.zeros(p_pred.shape)\n",
    "\n",
    "#dx_pred =  np.zeros(x_pred.shape)\n",
    "#dp_pred =  np.random.randn(*p_pred.shape)\n",
    "\n",
    "\n",
    "fx_post = lambda x_post : EKFNet_layers.prediction_forward(x_post, p_post, dt, F_gen, predict ,B_gen, Q_acc, Q_other)[0]\n",
    "fp_post = lambda p_post : EKFNet_layers.prediction_forward(x_post, p_post, dt, F_gen, predict ,B_gen, Q_acc, Q_other)[0]\n",
    "fQ_acc  = lambda Q_acc  : EKFNet_layers.prediction_forward(x_post, p_post, dt, F_gen, predict ,B_gen, Q_acc, Q_other)[0]\n",
    "fQ_other= lambda Q_other: EKFNet_layers.prediction_forward(x_post, p_post, dt, F_gen, predict ,B_gen, Q_acc, Q_other)[0]\n",
    "\n",
    "\n",
    "\n",
    "dx_post_num  = eval_numerical_gradient_array(fx_post, x_post, dx_pred)\n",
    "dp_post_num  = eval_numerical_gradient_array(fp_post, p_post, dx_pred) \n",
    "dQ_acc_num   = eval_numerical_gradient_array(fQ_acc,  Q_acc , dx_pred)\n",
    "dQ_other_num = eval_numerical_gradient_array(fQ_other,Q_other,dx_pred)\n",
    "\n",
    "dx_post, dp_post, dQ_acc, dQ_other = EKFNet_layers.prediction_backward(dx_pred, dp_pred, cache)\n",
    "\n",
    "\n",
    "print(dx_post)\n",
    "print(dx_p)\n",
    "\n",
    "print('dx_pred error: ', rel_error(dx_post_num, dx_post))\n",
    "print('dp_pred error: ', rel_error(dp_post_num, dp_post))\n",
    "print('dQ_acc  error: ', rel_error(dQ_acc_num , dQ_acc))\n",
    "print('dQ_other error:', rel_error(dQ_other_num, dQ_other))\n"
   ]
  },
  {
   "cell_type": "markdown",
   "metadata": {},
   "source": [
    "### Check the input is dx_pred"
   ]
  },
  {
   "cell_type": "markdown",
   "metadata": {},
   "source": [
    "#### Check the process measurement Noise"
   ]
  },
  {
   "cell_type": "code",
   "execution_count": 433,
   "metadata": {},
   "outputs": [
    {
     "name": "stdout",
     "output_type": "stream",
     "text": [
      "dQ_acc error:  2.0812798649559835e-11\n",
      "dQ_other error :  3.2756427840275527e-12\n",
      "dx_post error  :  3.3536474820063427e-12\n",
      "[0.     0.     0.0525 0.     0.    ]\n",
      "[0.     0.     0.0525 0.     0.    ]\n"
     ]
    }
   ],
   "source": [
    "x_post = np.random.randn(5)\n",
    "p_post = np.random.randn(5,5)\n",
    "Q_acc   = np.random.randn(2,2)\n",
    "Q_other = np.random.randn(5,5)\n",
    "dt = 0.5\n",
    "F_gen   = EKF_filter.G\n",
    "predict = EKF_filter.predict\n",
    "B_gen   = EKF_filter.gen_B_simple\n",
    "\n",
    "Q, cache = EKFNet_layers.processNoise_forward(x_post, dt, B_gen, Q_acc, Q_other)\n",
    "\n",
    "dQ =   np.random.randn(*Q.shape)\n",
    "\n",
    "fQ_acc   = lambda Q_acc: EKFNet_layers.processNoise_forward(x_post, dt, B_gen, Q_acc, Q_other)[0]\n",
    "fQ_other = lambda Q_other: EKFNet_layers.processNoise_forward(x_post, dt, B_gen, Q_acc, Q_other)[0]\n",
    "fx_post =  lambda x_post: EKFNet_layers.processNoise_forward(x_post, dt, B_gen, Q_acc, Q_other)[0]\n",
    "\n",
    "dQ_acc_num   = eval_numerical_gradient_array(fQ_acc, Q_acc, dQ)\n",
    "dQ_other_num = eval_numerical_gradient_array(fQ_other, Q_other, dQ)\n",
    "dx_post_num =  eval_numerical_gradient_array(fx_post, x_post, dQ)\n",
    "\n",
    "dQ_acc, dQ_other, dx_post = EKFNet_layers.processNoise_backward(dQ, cache)\n",
    "\n",
    "print('dQ_acc error: ', rel_error(dQ_acc_num, dQ_acc))\n",
    "print('dQ_other error : ', rel_error(dQ_other_num, dQ_other))\n",
    "print('dx_post error  : ', rel_error(dx_post_num, dx_post))\n",
    "print(dx_post_num)\n",
    "print(dx_post)"
   ]
  },
  {
   "cell_type": "code",
   "execution_count": null,
   "metadata": {},
   "outputs": [],
   "source": []
  }
 ],
 "metadata": {
  "kernelspec": {
   "display_name": "Python 3",
   "language": "python",
   "name": "python3"
  },
  "language_info": {
   "codemirror_mode": {
    "name": "ipython",
    "version": 3
   },
   "file_extension": ".py",
   "mimetype": "text/x-python",
   "name": "python",
   "nbconvert_exporter": "python",
   "pygments_lexer": "ipython3",
   "version": "3.8.3"
  }
 },
 "nbformat": 4,
 "nbformat_minor": 4
}
